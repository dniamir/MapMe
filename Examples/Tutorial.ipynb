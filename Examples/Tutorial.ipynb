{
 "cells": [
  {
   "cell_type": "code",
   "execution_count": 2,
   "metadata": {
    "collapsed": true
   },
   "outputs": [],
   "source": [
    "#------------------------------------------------------------\n",
    "#\n",
    "# Tutorial for Map Plotting\n",
    "# Created by: Darien Niamir\n",
    "# Created on: 2/19/18\n",
    "#\n",
    "#------------------------------------------------------------"
   ]
  },
  {
   "cell_type": "code",
   "execution_count": 3,
   "metadata": {},
   "outputs": [
    {
     "data": {
      "text/html": [
       "<script>requirejs.config({paths: { 'plotly': ['https://cdn.plot.ly/plotly-latest.min']},});if(!window.Plotly) {{require(['plotly'],function(plotly) {window.Plotly=plotly;});}}</script>"
      ],
      "text/vnd.plotly.v1+html": [
       "<script>requirejs.config({paths: { 'plotly': ['https://cdn.plot.ly/plotly-latest.min']},});if(!window.Plotly) {{require(['plotly'],function(plotly) {window.Plotly=plotly;});}}</script>"
      ]
     },
     "metadata": {},
     "output_type": "display_data"
    },
    {
     "name": "stderr",
     "output_type": "stream",
     "text": [
      "IOPub data rate exceeded.\n",
      "The notebook server will temporarily stop sending output\n",
      "to the client in order to avoid crashing it.\n",
      "To change this limit, set the config variable\n",
      "`--NotebookApp.iopub_data_rate_limit`.\n"
     ]
    }
   ],
   "source": [
    "## Import IPython Packages\n",
    "\n",
    "%run './../Test/DarienFunctions.ipynb'\n",
    "plt.rcParams['figure.figsize'] = [12,8] # Changes Defalt matplotlib plot size\n",
    "plt.rcParams['figure.dpi'] = 800 # Changes Defalt matplotlib plot size\n",
    "init_notebook_mode(connected=True)\n",
    "plotly.offline.init_notebook_mode()"
   ]
  },
  {
   "cell_type": "code",
   "execution_count": 6,
   "metadata": {},
   "outputs": [
    {
     "data": {
      "text/html": [
       "<div>\n",
       "<style>\n",
       "    .dataframe thead tr:only-child th {\n",
       "        text-align: right;\n",
       "    }\n",
       "\n",
       "    .dataframe thead th {\n",
       "        text-align: left;\n",
       "    }\n",
       "\n",
       "    .dataframe tbody tr th {\n",
       "        vertical-align: top;\n",
       "    }\n",
       "</style>\n",
       "<table border=\"1\" class=\"dataframe\">\n",
       "  <thead>\n",
       "    <tr style=\"text-align: right;\">\n",
       "      <th></th>\n",
       "      <th>iata</th>\n",
       "      <th>airport</th>\n",
       "      <th>city</th>\n",
       "      <th>state</th>\n",
       "      <th>country</th>\n",
       "      <th>lat</th>\n",
       "      <th>long</th>\n",
       "      <th>cnt</th>\n",
       "    </tr>\n",
       "  </thead>\n",
       "  <tbody>\n",
       "    <tr>\n",
       "      <th>0</th>\n",
       "      <td>ORD</td>\n",
       "      <td>Chicago O'Hare International</td>\n",
       "      <td>Chicago</td>\n",
       "      <td>IL</td>\n",
       "      <td>USA</td>\n",
       "      <td>41.979595</td>\n",
       "      <td>-87.904464</td>\n",
       "      <td>25129</td>\n",
       "    </tr>\n",
       "    <tr>\n",
       "      <th>1</th>\n",
       "      <td>ATL</td>\n",
       "      <td>William B Hartsfield-Atlanta Intl</td>\n",
       "      <td>Atlanta</td>\n",
       "      <td>GA</td>\n",
       "      <td>USA</td>\n",
       "      <td>33.640444</td>\n",
       "      <td>-84.426944</td>\n",
       "      <td>21925</td>\n",
       "    </tr>\n",
       "    <tr>\n",
       "      <th>2</th>\n",
       "      <td>DFW</td>\n",
       "      <td>Dallas-Fort Worth International</td>\n",
       "      <td>Dallas-Fort Worth</td>\n",
       "      <td>TX</td>\n",
       "      <td>USA</td>\n",
       "      <td>32.895951</td>\n",
       "      <td>-97.037200</td>\n",
       "      <td>20662</td>\n",
       "    </tr>\n",
       "    <tr>\n",
       "      <th>3</th>\n",
       "      <td>PHX</td>\n",
       "      <td>Phoenix Sky Harbor International</td>\n",
       "      <td>Phoenix</td>\n",
       "      <td>AZ</td>\n",
       "      <td>USA</td>\n",
       "      <td>33.434167</td>\n",
       "      <td>-112.008056</td>\n",
       "      <td>17290</td>\n",
       "    </tr>\n",
       "    <tr>\n",
       "      <th>4</th>\n",
       "      <td>DEN</td>\n",
       "      <td>Denver Intl</td>\n",
       "      <td>Denver</td>\n",
       "      <td>CO</td>\n",
       "      <td>USA</td>\n",
       "      <td>39.858408</td>\n",
       "      <td>-104.667002</td>\n",
       "      <td>13781</td>\n",
       "    </tr>\n",
       "    <tr>\n",
       "      <th>5</th>\n",
       "      <td>IAH</td>\n",
       "      <td>George Bush Intercontinental</td>\n",
       "      <td>Houston</td>\n",
       "      <td>TX</td>\n",
       "      <td>USA</td>\n",
       "      <td>29.980472</td>\n",
       "      <td>-95.339722</td>\n",
       "      <td>13223</td>\n",
       "    </tr>\n",
       "    <tr>\n",
       "      <th>6</th>\n",
       "      <td>SFO</td>\n",
       "      <td>San Francisco International</td>\n",
       "      <td>San Francisco</td>\n",
       "      <td>CA</td>\n",
       "      <td>USA</td>\n",
       "      <td>37.619002</td>\n",
       "      <td>-122.374843</td>\n",
       "      <td>12016</td>\n",
       "    </tr>\n",
       "    <tr>\n",
       "      <th>7</th>\n",
       "      <td>LAX</td>\n",
       "      <td>Los Angeles International</td>\n",
       "      <td>Los Angeles</td>\n",
       "      <td>CA</td>\n",
       "      <td>USA</td>\n",
       "      <td>33.942536</td>\n",
       "      <td>-118.408074</td>\n",
       "      <td>11797</td>\n",
       "    </tr>\n",
       "    <tr>\n",
       "      <th>8</th>\n",
       "      <td>MCO</td>\n",
       "      <td>Orlando International</td>\n",
       "      <td>Orlando</td>\n",
       "      <td>FL</td>\n",
       "      <td>USA</td>\n",
       "      <td>28.428889</td>\n",
       "      <td>-81.316028</td>\n",
       "      <td>10536</td>\n",
       "    </tr>\n",
       "    <tr>\n",
       "      <th>9</th>\n",
       "      <td>CLT</td>\n",
       "      <td>Charlotte/Douglas International</td>\n",
       "      <td>Charlotte</td>\n",
       "      <td>NC</td>\n",
       "      <td>USA</td>\n",
       "      <td>35.214011</td>\n",
       "      <td>-80.943126</td>\n",
       "      <td>10490</td>\n",
       "    </tr>\n",
       "    <tr>\n",
       "      <th>10</th>\n",
       "      <td>SLC</td>\n",
       "      <td>Salt Lake City Intl</td>\n",
       "      <td>Salt Lake City</td>\n",
       "      <td>UT</td>\n",
       "      <td>USA</td>\n",
       "      <td>40.788388</td>\n",
       "      <td>-111.977773</td>\n",
       "      <td>9898</td>\n",
       "    </tr>\n",
       "    <tr>\n",
       "      <th>11</th>\n",
       "      <td>TPA</td>\n",
       "      <td>Tampa International</td>\n",
       "      <td>Tampa</td>\n",
       "      <td>FL</td>\n",
       "      <td>USA</td>\n",
       "      <td>27.975472</td>\n",
       "      <td>-82.533250</td>\n",
       "      <td>9182</td>\n",
       "    </tr>\n",
       "    <tr>\n",
       "      <th>12</th>\n",
       "      <td>EWR</td>\n",
       "      <td>Newark Intl</td>\n",
       "      <td>Newark</td>\n",
       "      <td>NJ</td>\n",
       "      <td>USA</td>\n",
       "      <td>40.692497</td>\n",
       "      <td>-74.168661</td>\n",
       "      <td>8678</td>\n",
       "    </tr>\n",
       "    <tr>\n",
       "      <th>13</th>\n",
       "      <td>LAS</td>\n",
       "      <td>McCarran International</td>\n",
       "      <td>Las Vegas</td>\n",
       "      <td>NV</td>\n",
       "      <td>USA</td>\n",
       "      <td>36.080361</td>\n",
       "      <td>-115.152333</td>\n",
       "      <td>8523</td>\n",
       "    </tr>\n",
       "    <tr>\n",
       "      <th>14</th>\n",
       "      <td>PHL</td>\n",
       "      <td>Philadelphia Intl</td>\n",
       "      <td>Philadelphia</td>\n",
       "      <td>PA</td>\n",
       "      <td>USA</td>\n",
       "      <td>39.871953</td>\n",
       "      <td>-75.241141</td>\n",
       "      <td>7965</td>\n",
       "    </tr>\n",
       "    <tr>\n",
       "      <th>15</th>\n",
       "      <td>MSP</td>\n",
       "      <td>Minneapolis-St Paul Intl</td>\n",
       "      <td>Minneapolis</td>\n",
       "      <td>MN</td>\n",
       "      <td>USA</td>\n",
       "      <td>44.880547</td>\n",
       "      <td>-93.216922</td>\n",
       "      <td>7690</td>\n",
       "    </tr>\n",
       "    <tr>\n",
       "      <th>16</th>\n",
       "      <td>SEA</td>\n",
       "      <td>Seattle-Tacoma Intl</td>\n",
       "      <td>Seattle</td>\n",
       "      <td>WA</td>\n",
       "      <td>USA</td>\n",
       "      <td>47.448982</td>\n",
       "      <td>-122.309313</td>\n",
       "      <td>7541</td>\n",
       "    </tr>\n",
       "    <tr>\n",
       "      <th>17</th>\n",
       "      <td>LGA</td>\n",
       "      <td>LaGuardia</td>\n",
       "      <td>New York</td>\n",
       "      <td>NY</td>\n",
       "      <td>USA</td>\n",
       "      <td>40.777243</td>\n",
       "      <td>-73.872609</td>\n",
       "      <td>7392</td>\n",
       "    </tr>\n",
       "    <tr>\n",
       "      <th>18</th>\n",
       "      <td>MDW</td>\n",
       "      <td>Chicago Midway</td>\n",
       "      <td>Chicago</td>\n",
       "      <td>IL</td>\n",
       "      <td>USA</td>\n",
       "      <td>41.785983</td>\n",
       "      <td>-87.752424</td>\n",
       "      <td>6979</td>\n",
       "    </tr>\n",
       "    <tr>\n",
       "      <th>19</th>\n",
       "      <td>IAD</td>\n",
       "      <td>Washington Dulles International</td>\n",
       "      <td>Chantilly</td>\n",
       "      <td>VA</td>\n",
       "      <td>USA</td>\n",
       "      <td>38.944532</td>\n",
       "      <td>-77.455810</td>\n",
       "      <td>6779</td>\n",
       "    </tr>\n",
       "    <tr>\n",
       "      <th>20</th>\n",
       "      <td>SAN</td>\n",
       "      <td>San Diego International-Lindbergh</td>\n",
       "      <td>San Diego</td>\n",
       "      <td>CA</td>\n",
       "      <td>USA</td>\n",
       "      <td>32.733556</td>\n",
       "      <td>-117.189657</td>\n",
       "      <td>6233</td>\n",
       "    </tr>\n",
       "    <tr>\n",
       "      <th>21</th>\n",
       "      <td>STL</td>\n",
       "      <td>Lambert-St Louis International</td>\n",
       "      <td>St Louis</td>\n",
       "      <td>MO</td>\n",
       "      <td>USA</td>\n",
       "      <td>38.747687</td>\n",
       "      <td>-90.359990</td>\n",
       "      <td>6204</td>\n",
       "    </tr>\n",
       "    <tr>\n",
       "      <th>22</th>\n",
       "      <td>DTW</td>\n",
       "      <td>Detroit Metropolitan-Wayne County</td>\n",
       "      <td>Detroit</td>\n",
       "      <td>MI</td>\n",
       "      <td>USA</td>\n",
       "      <td>42.212059</td>\n",
       "      <td>-83.348836</td>\n",
       "      <td>6044</td>\n",
       "    </tr>\n",
       "    <tr>\n",
       "      <th>23</th>\n",
       "      <td>JFK</td>\n",
       "      <td>John F Kennedy Intl</td>\n",
       "      <td>New York</td>\n",
       "      <td>NY</td>\n",
       "      <td>USA</td>\n",
       "      <td>40.639751</td>\n",
       "      <td>-73.778926</td>\n",
       "      <td>5945</td>\n",
       "    </tr>\n",
       "    <tr>\n",
       "      <th>24</th>\n",
       "      <td>MIA</td>\n",
       "      <td>Miami International</td>\n",
       "      <td>Miami</td>\n",
       "      <td>FL</td>\n",
       "      <td>USA</td>\n",
       "      <td>25.793250</td>\n",
       "      <td>-80.290556</td>\n",
       "      <td>5907</td>\n",
       "    </tr>\n",
       "    <tr>\n",
       "      <th>25</th>\n",
       "      <td>BOS</td>\n",
       "      <td>Gen Edw L Logan Intl</td>\n",
       "      <td>Boston</td>\n",
       "      <td>MA</td>\n",
       "      <td>USA</td>\n",
       "      <td>42.364348</td>\n",
       "      <td>-71.005179</td>\n",
       "      <td>5627</td>\n",
       "    </tr>\n",
       "    <tr>\n",
       "      <th>26</th>\n",
       "      <td>SMF</td>\n",
       "      <td>Sacramento International</td>\n",
       "      <td>Sacramento</td>\n",
       "      <td>CA</td>\n",
       "      <td>USA</td>\n",
       "      <td>38.695422</td>\n",
       "      <td>-121.590767</td>\n",
       "      <td>4943</td>\n",
       "    </tr>\n",
       "    <tr>\n",
       "      <th>27</th>\n",
       "      <td>BWI</td>\n",
       "      <td>Baltimore-Washington International</td>\n",
       "      <td>Baltimore</td>\n",
       "      <td>MD</td>\n",
       "      <td>USA</td>\n",
       "      <td>39.175402</td>\n",
       "      <td>-76.668198</td>\n",
       "      <td>4749</td>\n",
       "    </tr>\n",
       "    <tr>\n",
       "      <th>28</th>\n",
       "      <td>SNA</td>\n",
       "      <td>John Wayne /Orange Co</td>\n",
       "      <td>Santa Ana</td>\n",
       "      <td>CA</td>\n",
       "      <td>USA</td>\n",
       "      <td>33.675659</td>\n",
       "      <td>-117.868223</td>\n",
       "      <td>4616</td>\n",
       "    </tr>\n",
       "    <tr>\n",
       "      <th>29</th>\n",
       "      <td>MSY</td>\n",
       "      <td>New Orleans International</td>\n",
       "      <td>New Orleans</td>\n",
       "      <td>LA</td>\n",
       "      <td>USA</td>\n",
       "      <td>29.993389</td>\n",
       "      <td>-90.258028</td>\n",
       "      <td>4432</td>\n",
       "    </tr>\n",
       "    <tr>\n",
       "      <th>...</th>\n",
       "      <td>...</td>\n",
       "      <td>...</td>\n",
       "      <td>...</td>\n",
       "      <td>...</td>\n",
       "      <td>...</td>\n",
       "      <td>...</td>\n",
       "      <td>...</td>\n",
       "      <td>...</td>\n",
       "    </tr>\n",
       "    <tr>\n",
       "      <th>191</th>\n",
       "      <td>GTF</td>\n",
       "      <td>Great Falls Intl</td>\n",
       "      <td>Great Falls</td>\n",
       "      <td>MT</td>\n",
       "      <td>USA</td>\n",
       "      <td>47.482002</td>\n",
       "      <td>-111.370685</td>\n",
       "      <td>108</td>\n",
       "    </tr>\n",
       "    <tr>\n",
       "      <th>192</th>\n",
       "      <td>MEI</td>\n",
       "      <td>Key</td>\n",
       "      <td>Meridian</td>\n",
       "      <td>MS</td>\n",
       "      <td>USA</td>\n",
       "      <td>32.333133</td>\n",
       "      <td>-88.751206</td>\n",
       "      <td>104</td>\n",
       "    </tr>\n",
       "    <tr>\n",
       "      <th>193</th>\n",
       "      <td>MQT</td>\n",
       "      <td>Marquette County Airport</td>\n",
       "      <td>NaN</td>\n",
       "      <td>NaN</td>\n",
       "      <td>USA</td>\n",
       "      <td>46.353639</td>\n",
       "      <td>-87.395361</td>\n",
       "      <td>104</td>\n",
       "    </tr>\n",
       "    <tr>\n",
       "      <th>194</th>\n",
       "      <td>TEX</td>\n",
       "      <td>Telluride Regional</td>\n",
       "      <td>Telluride</td>\n",
       "      <td>CO</td>\n",
       "      <td>USA</td>\n",
       "      <td>37.953759</td>\n",
       "      <td>-107.908480</td>\n",
       "      <td>104</td>\n",
       "    </tr>\n",
       "    <tr>\n",
       "      <th>195</th>\n",
       "      <td>CHA</td>\n",
       "      <td>Lovell</td>\n",
       "      <td>Chattanooga</td>\n",
       "      <td>TN</td>\n",
       "      <td>USA</td>\n",
       "      <td>35.035268</td>\n",
       "      <td>-85.203788</td>\n",
       "      <td>104</td>\n",
       "    </tr>\n",
       "    <tr>\n",
       "      <th>196</th>\n",
       "      <td>LWS</td>\n",
       "      <td>Lewiston-Nez Perce County</td>\n",
       "      <td>Lewiston</td>\n",
       "      <td>ID</td>\n",
       "      <td>USA</td>\n",
       "      <td>46.374498</td>\n",
       "      <td>-117.015394</td>\n",
       "      <td>102</td>\n",
       "    </tr>\n",
       "    <tr>\n",
       "      <th>197</th>\n",
       "      <td>CDC</td>\n",
       "      <td>Cedar City Muni</td>\n",
       "      <td>Cedar City</td>\n",
       "      <td>UT</td>\n",
       "      <td>USA</td>\n",
       "      <td>37.700970</td>\n",
       "      <td>-113.098575</td>\n",
       "      <td>96</td>\n",
       "    </tr>\n",
       "    <tr>\n",
       "      <th>198</th>\n",
       "      <td>ALB</td>\n",
       "      <td>Albany Cty</td>\n",
       "      <td>Albany</td>\n",
       "      <td>NY</td>\n",
       "      <td>USA</td>\n",
       "      <td>42.748119</td>\n",
       "      <td>-73.802979</td>\n",
       "      <td>93</td>\n",
       "    </tr>\n",
       "    <tr>\n",
       "      <th>199</th>\n",
       "      <td>BTV</td>\n",
       "      <td>Burlington International</td>\n",
       "      <td>Burlington</td>\n",
       "      <td>VT</td>\n",
       "      <td>USA</td>\n",
       "      <td>44.473004</td>\n",
       "      <td>-73.150312</td>\n",
       "      <td>91</td>\n",
       "    </tr>\n",
       "    <tr>\n",
       "      <th>200</th>\n",
       "      <td>FCA</td>\n",
       "      <td>Glacier Park Intl</td>\n",
       "      <td>Kalispell</td>\n",
       "      <td>MT</td>\n",
       "      <td>USA</td>\n",
       "      <td>48.311405</td>\n",
       "      <td>-114.255069</td>\n",
       "      <td>90</td>\n",
       "    </tr>\n",
       "    <tr>\n",
       "      <th>201</th>\n",
       "      <td>MLB</td>\n",
       "      <td>Melbourne International</td>\n",
       "      <td>Melbourne</td>\n",
       "      <td>FL</td>\n",
       "      <td>USA</td>\n",
       "      <td>28.102750</td>\n",
       "      <td>-80.645806</td>\n",
       "      <td>74</td>\n",
       "    </tr>\n",
       "    <tr>\n",
       "      <th>202</th>\n",
       "      <td>DAB</td>\n",
       "      <td>Daytona Beach International</td>\n",
       "      <td>Daytona Beach</td>\n",
       "      <td>FL</td>\n",
       "      <td>USA</td>\n",
       "      <td>29.179917</td>\n",
       "      <td>-81.058056</td>\n",
       "      <td>72</td>\n",
       "    </tr>\n",
       "    <tr>\n",
       "      <th>203</th>\n",
       "      <td>ABE</td>\n",
       "      <td>Lehigh Valley International</td>\n",
       "      <td>Allentown</td>\n",
       "      <td>PA</td>\n",
       "      <td>USA</td>\n",
       "      <td>40.652363</td>\n",
       "      <td>-75.440402</td>\n",
       "      <td>60</td>\n",
       "    </tr>\n",
       "    <tr>\n",
       "      <th>204</th>\n",
       "      <td>DLH</td>\n",
       "      <td>Duluth International</td>\n",
       "      <td>Duluth</td>\n",
       "      <td>MN</td>\n",
       "      <td>USA</td>\n",
       "      <td>46.842090</td>\n",
       "      <td>-92.193649</td>\n",
       "      <td>58</td>\n",
       "    </tr>\n",
       "    <tr>\n",
       "      <th>205</th>\n",
       "      <td>CYS</td>\n",
       "      <td>Cheyenne</td>\n",
       "      <td>Cheyenne</td>\n",
       "      <td>WY</td>\n",
       "      <td>USA</td>\n",
       "      <td>41.155722</td>\n",
       "      <td>-104.811838</td>\n",
       "      <td>56</td>\n",
       "    </tr>\n",
       "    <tr>\n",
       "      <th>206</th>\n",
       "      <td>RKS</td>\n",
       "      <td>Rock Springs-Sweetwater County</td>\n",
       "      <td>Rock Springs</td>\n",
       "      <td>WY</td>\n",
       "      <td>USA</td>\n",
       "      <td>41.594217</td>\n",
       "      <td>-109.065193</td>\n",
       "      <td>56</td>\n",
       "    </tr>\n",
       "    <tr>\n",
       "      <th>207</th>\n",
       "      <td>LWB</td>\n",
       "      <td>Greenbrier Valley</td>\n",
       "      <td>Lewisburg</td>\n",
       "      <td>WV</td>\n",
       "      <td>USA</td>\n",
       "      <td>37.858306</td>\n",
       "      <td>-80.399472</td>\n",
       "      <td>56</td>\n",
       "    </tr>\n",
       "    <tr>\n",
       "      <th>208</th>\n",
       "      <td>CRW</td>\n",
       "      <td>Yeager</td>\n",
       "      <td>Charleston</td>\n",
       "      <td>WV</td>\n",
       "      <td>USA</td>\n",
       "      <td>38.373151</td>\n",
       "      <td>-81.593190</td>\n",
       "      <td>56</td>\n",
       "    </tr>\n",
       "    <tr>\n",
       "      <th>209</th>\n",
       "      <td>BLI</td>\n",
       "      <td>Bellingham Intl</td>\n",
       "      <td>Bellingham</td>\n",
       "      <td>WA</td>\n",
       "      <td>USA</td>\n",
       "      <td>48.792750</td>\n",
       "      <td>-122.537528</td>\n",
       "      <td>56</td>\n",
       "    </tr>\n",
       "    <tr>\n",
       "      <th>210</th>\n",
       "      <td>MMH</td>\n",
       "      <td>Mammoth Yosemite</td>\n",
       "      <td>Mammoth Lakes</td>\n",
       "      <td>CA</td>\n",
       "      <td>USA</td>\n",
       "      <td>37.624049</td>\n",
       "      <td>-118.837772</td>\n",
       "      <td>56</td>\n",
       "    </tr>\n",
       "    <tr>\n",
       "      <th>211</th>\n",
       "      <td>ATW</td>\n",
       "      <td>Outagamie County Regional</td>\n",
       "      <td>Appleton</td>\n",
       "      <td>WI</td>\n",
       "      <td>USA</td>\n",
       "      <td>44.257408</td>\n",
       "      <td>-88.519476</td>\n",
       "      <td>56</td>\n",
       "    </tr>\n",
       "    <tr>\n",
       "      <th>212</th>\n",
       "      <td>BKG</td>\n",
       "      <td>Branson Airport</td>\n",
       "      <td>Hollister</td>\n",
       "      <td>MO</td>\n",
       "      <td>USA</td>\n",
       "      <td>36.385913</td>\n",
       "      <td>-92.548828</td>\n",
       "      <td>56</td>\n",
       "    </tr>\n",
       "    <tr>\n",
       "      <th>213</th>\n",
       "      <td>PIE</td>\n",
       "      <td>St. Petersburg-Clearwater International</td>\n",
       "      <td>St. Petersburg</td>\n",
       "      <td>FL</td>\n",
       "      <td>USA</td>\n",
       "      <td>27.910763</td>\n",
       "      <td>-82.687439</td>\n",
       "      <td>52</td>\n",
       "    </tr>\n",
       "    <tr>\n",
       "      <th>214</th>\n",
       "      <td>SPS</td>\n",
       "      <td>Sheppard AFB/Wichita Falls Municipal</td>\n",
       "      <td>Wichita Falls</td>\n",
       "      <td>TX</td>\n",
       "      <td>USA</td>\n",
       "      <td>33.988796</td>\n",
       "      <td>-98.491893</td>\n",
       "      <td>50</td>\n",
       "    </tr>\n",
       "    <tr>\n",
       "      <th>215</th>\n",
       "      <td>FAY</td>\n",
       "      <td>Fayetteville Municipal</td>\n",
       "      <td>Fayetteville</td>\n",
       "      <td>NC</td>\n",
       "      <td>USA</td>\n",
       "      <td>34.991472</td>\n",
       "      <td>-78.880000</td>\n",
       "      <td>50</td>\n",
       "    </tr>\n",
       "    <tr>\n",
       "      <th>216</th>\n",
       "      <td>EAU</td>\n",
       "      <td>Chippewa Valley Regional</td>\n",
       "      <td>Eau Claire</td>\n",
       "      <td>WI</td>\n",
       "      <td>USA</td>\n",
       "      <td>44.865257</td>\n",
       "      <td>-91.485072</td>\n",
       "      <td>48</td>\n",
       "    </tr>\n",
       "    <tr>\n",
       "      <th>217</th>\n",
       "      <td>DBQ</td>\n",
       "      <td>Dubuque Municipal</td>\n",
       "      <td>Dubuque</td>\n",
       "      <td>IA</td>\n",
       "      <td>USA</td>\n",
       "      <td>42.402959</td>\n",
       "      <td>-90.709167</td>\n",
       "      <td>48</td>\n",
       "    </tr>\n",
       "    <tr>\n",
       "      <th>218</th>\n",
       "      <td>RST</td>\n",
       "      <td>Rochester International</td>\n",
       "      <td>Rochester</td>\n",
       "      <td>MN</td>\n",
       "      <td>USA</td>\n",
       "      <td>43.908826</td>\n",
       "      <td>-92.497987</td>\n",
       "      <td>37</td>\n",
       "    </tr>\n",
       "    <tr>\n",
       "      <th>219</th>\n",
       "      <td>UTM</td>\n",
       "      <td>Tunica Municipal Airport</td>\n",
       "      <td>Tunica</td>\n",
       "      <td>MS</td>\n",
       "      <td>USA</td>\n",
       "      <td>34.681499</td>\n",
       "      <td>-90.348816</td>\n",
       "      <td>32</td>\n",
       "    </tr>\n",
       "    <tr>\n",
       "      <th>220</th>\n",
       "      <td>BIL</td>\n",
       "      <td>Billings Logan Intl</td>\n",
       "      <td>Billings</td>\n",
       "      <td>MT</td>\n",
       "      <td>USA</td>\n",
       "      <td>45.807662</td>\n",
       "      <td>-108.542861</td>\n",
       "      <td>23</td>\n",
       "    </tr>\n",
       "  </tbody>\n",
       "</table>\n",
       "<p>221 rows × 8 columns</p>\n",
       "</div>"
      ],
      "text/plain": [
       "    iata                                  airport               city state  \\\n",
       "0    ORD             Chicago O'Hare International            Chicago    IL   \n",
       "1    ATL        William B Hartsfield-Atlanta Intl            Atlanta    GA   \n",
       "2    DFW          Dallas-Fort Worth International  Dallas-Fort Worth    TX   \n",
       "3    PHX         Phoenix Sky Harbor International            Phoenix    AZ   \n",
       "4    DEN                              Denver Intl             Denver    CO   \n",
       "5    IAH             George Bush Intercontinental            Houston    TX   \n",
       "6    SFO              San Francisco International      San Francisco    CA   \n",
       "7    LAX                Los Angeles International        Los Angeles    CA   \n",
       "8    MCO                    Orlando International            Orlando    FL   \n",
       "9    CLT          Charlotte/Douglas International          Charlotte    NC   \n",
       "10   SLC                      Salt Lake City Intl     Salt Lake City    UT   \n",
       "11   TPA                     Tampa International               Tampa    FL   \n",
       "12   EWR                              Newark Intl             Newark    NJ   \n",
       "13   LAS                   McCarran International          Las Vegas    NV   \n",
       "14   PHL                        Philadelphia Intl       Philadelphia    PA   \n",
       "15   MSP                 Minneapolis-St Paul Intl        Minneapolis    MN   \n",
       "16   SEA                      Seattle-Tacoma Intl            Seattle    WA   \n",
       "17   LGA                                LaGuardia           New York    NY   \n",
       "18   MDW                           Chicago Midway            Chicago    IL   \n",
       "19   IAD          Washington Dulles International          Chantilly    VA   \n",
       "20   SAN       San Diego International-Lindbergh           San Diego    CA   \n",
       "21   STL           Lambert-St Louis International           St Louis    MO   \n",
       "22   DTW        Detroit Metropolitan-Wayne County            Detroit    MI   \n",
       "23   JFK                      John F Kennedy Intl           New York    NY   \n",
       "24   MIA                      Miami International              Miami    FL   \n",
       "25   BOS                     Gen Edw L Logan Intl             Boston    MA   \n",
       "26   SMF                 Sacramento International         Sacramento    CA   \n",
       "27   BWI       Baltimore-Washington International          Baltimore    MD   \n",
       "28   SNA                    John Wayne /Orange Co          Santa Ana    CA   \n",
       "29   MSY               New Orleans International         New Orleans    LA   \n",
       "..   ...                                      ...                ...   ...   \n",
       "191  GTF                         Great Falls Intl        Great Falls    MT   \n",
       "192  MEI                                     Key            Meridian    MS   \n",
       "193  MQT                 Marquette County Airport                NaN   NaN   \n",
       "194  TEX                       Telluride Regional          Telluride    CO   \n",
       "195  CHA                                  Lovell         Chattanooga    TN   \n",
       "196  LWS                Lewiston-Nez Perce County           Lewiston    ID   \n",
       "197  CDC                          Cedar City Muni         Cedar City    UT   \n",
       "198  ALB                               Albany Cty             Albany    NY   \n",
       "199  BTV                 Burlington International         Burlington    VT   \n",
       "200  FCA                        Glacier Park Intl          Kalispell    MT   \n",
       "201  MLB                 Melbourne International           Melbourne    FL   \n",
       "202  DAB              Daytona Beach International      Daytona Beach    FL   \n",
       "203  ABE              Lehigh Valley International          Allentown    PA   \n",
       "204  DLH                     Duluth International             Duluth    MN   \n",
       "205  CYS                                 Cheyenne           Cheyenne    WY   \n",
       "206  RKS           Rock Springs-Sweetwater County       Rock Springs    WY   \n",
       "207  LWB                        Greenbrier Valley          Lewisburg    WV   \n",
       "208  CRW                                   Yeager         Charleston    WV   \n",
       "209  BLI                          Bellingham Intl         Bellingham    WA   \n",
       "210  MMH                         Mammoth Yosemite      Mammoth Lakes    CA   \n",
       "211  ATW                Outagamie County Regional           Appleton    WI   \n",
       "212  BKG                          Branson Airport          Hollister    MO   \n",
       "213  PIE  St. Petersburg-Clearwater International     St. Petersburg    FL   \n",
       "214  SPS     Sheppard AFB/Wichita Falls Municipal      Wichita Falls    TX   \n",
       "215  FAY                   Fayetteville Municipal       Fayetteville    NC   \n",
       "216  EAU                 Chippewa Valley Regional         Eau Claire    WI   \n",
       "217  DBQ                        Dubuque Municipal            Dubuque    IA   \n",
       "218  RST                  Rochester International          Rochester    MN   \n",
       "219  UTM                 Tunica Municipal Airport             Tunica    MS   \n",
       "220  BIL                      Billings Logan Intl           Billings    MT   \n",
       "\n",
       "    country        lat        long    cnt  \n",
       "0       USA  41.979595  -87.904464  25129  \n",
       "1       USA  33.640444  -84.426944  21925  \n",
       "2       USA  32.895951  -97.037200  20662  \n",
       "3       USA  33.434167 -112.008056  17290  \n",
       "4       USA  39.858408 -104.667002  13781  \n",
       "5       USA  29.980472  -95.339722  13223  \n",
       "6       USA  37.619002 -122.374843  12016  \n",
       "7       USA  33.942536 -118.408074  11797  \n",
       "8       USA  28.428889  -81.316028  10536  \n",
       "9       USA  35.214011  -80.943126  10490  \n",
       "10      USA  40.788388 -111.977773   9898  \n",
       "11      USA  27.975472  -82.533250   9182  \n",
       "12      USA  40.692497  -74.168661   8678  \n",
       "13      USA  36.080361 -115.152333   8523  \n",
       "14      USA  39.871953  -75.241141   7965  \n",
       "15      USA  44.880547  -93.216922   7690  \n",
       "16      USA  47.448982 -122.309313   7541  \n",
       "17      USA  40.777243  -73.872609   7392  \n",
       "18      USA  41.785983  -87.752424   6979  \n",
       "19      USA  38.944532  -77.455810   6779  \n",
       "20      USA  32.733556 -117.189657   6233  \n",
       "21      USA  38.747687  -90.359990   6204  \n",
       "22      USA  42.212059  -83.348836   6044  \n",
       "23      USA  40.639751  -73.778926   5945  \n",
       "24      USA  25.793250  -80.290556   5907  \n",
       "25      USA  42.364348  -71.005179   5627  \n",
       "26      USA  38.695422 -121.590767   4943  \n",
       "27      USA  39.175402  -76.668198   4749  \n",
       "28      USA  33.675659 -117.868223   4616  \n",
       "29      USA  29.993389  -90.258028   4432  \n",
       "..      ...        ...         ...    ...  \n",
       "191     USA  47.482002 -111.370685    108  \n",
       "192     USA  32.333133  -88.751206    104  \n",
       "193     USA  46.353639  -87.395361    104  \n",
       "194     USA  37.953759 -107.908480    104  \n",
       "195     USA  35.035268  -85.203788    104  \n",
       "196     USA  46.374498 -117.015394    102  \n",
       "197     USA  37.700970 -113.098575     96  \n",
       "198     USA  42.748119  -73.802979     93  \n",
       "199     USA  44.473004  -73.150312     91  \n",
       "200     USA  48.311405 -114.255069     90  \n",
       "201     USA  28.102750  -80.645806     74  \n",
       "202     USA  29.179917  -81.058056     72  \n",
       "203     USA  40.652363  -75.440402     60  \n",
       "204     USA  46.842090  -92.193649     58  \n",
       "205     USA  41.155722 -104.811838     56  \n",
       "206     USA  41.594217 -109.065193     56  \n",
       "207     USA  37.858306  -80.399472     56  \n",
       "208     USA  38.373151  -81.593190     56  \n",
       "209     USA  48.792750 -122.537528     56  \n",
       "210     USA  37.624049 -118.837772     56  \n",
       "211     USA  44.257408  -88.519476     56  \n",
       "212     USA  36.385913  -92.548828     56  \n",
       "213     USA  27.910763  -82.687439     52  \n",
       "214     USA  33.988796  -98.491893     50  \n",
       "215     USA  34.991472  -78.880000     50  \n",
       "216     USA  44.865257  -91.485072     48  \n",
       "217     USA  42.402959  -90.709167     48  \n",
       "218     USA  43.908826  -92.497987     37  \n",
       "219     USA  34.681499  -90.348816     32  \n",
       "220     USA  45.807662 -108.542861     23  \n",
       "\n",
       "[221 rows x 8 columns]"
      ]
     },
     "execution_count": 6,
     "metadata": {},
     "output_type": "execute_result"
    }
   ],
   "source": [
    "df_airports"
   ]
  },
  {
   "cell_type": "code",
   "execution_count": 5,
   "metadata": {},
   "outputs": [
    {
     "data": {
      "application/vnd.plotly.v1+json": {
       "data": [
        {
         "lat": [
          32.89595056,
          35.04022222
         ],
         "line": {
          "color": "red",
          "width": 1
         },
         "locationmode": "USA-states",
         "lon": [
          -97.0372,
          -106.6091944
         ],
         "mode": "lines",
         "opacity": 0.48577680525164113,
         "type": "scattergeo"
        },
        {
         "lat": [
          41.979595,
          30.19453278
         ],
         "line": {
          "color": "red",
          "width": 1
         },
         "locationmode": "USA-states",
         "lon": [
          -87.90446417,
          -97.66987194
         ],
         "mode": "lines",
         "opacity": 0.18161925601750548,
         "type": "scattergeo"
        },
        {
         "lat": [
          32.89595056,
          41.93887417
         ],
         "line": {
          "color": "red",
          "width": 1
         },
         "locationmode": "USA-states",
         "lon": [
          -97.0372,
          -72.68322833
         ],
         "mode": "lines",
         "opacity": 0.1772428884026258,
         "type": "scattergeo"
        },
        {
         "lat": [
          18.43941667,
          41.93887417
         ],
         "line": {
          "color": "red",
          "width": 1
         },
         "locationmode": "USA-states",
         "lon": [
          -66.00183333,
          -72.68322833
         ],
         "mode": "lines",
         "opacity": 0.061269146608315096,
         "type": "scattergeo"
        },
        {
         "lat": [
          32.89595056,
          33.56294306
         ],
         "line": {
          "color": "red",
          "width": 1
         },
         "locationmode": "USA-states",
         "lon": [
          -97.0372,
          -86.75354972
         ],
         "mode": "lines",
         "opacity": 0.1838074398249453,
         "type": "scattergeo"
        },
        {
         "lat": [
          25.79325,
          36.12447667
         ],
         "line": {
          "color": "red",
          "width": 1
         },
         "locationmode": "USA-states",
         "lon": [
          -80.29055556,
          -86.67818222
         ],
         "mode": "lines",
         "opacity": 0.061269146608315096,
         "type": "scattergeo"
        },
        {
         "lat": [
          32.89595056,
          42.3643475
         ],
         "line": {
          "color": "red",
          "width": 1
         },
         "locationmode": "USA-states",
         "lon": [
          -97.0372,
          -71.00517917
         ],
         "mode": "lines",
         "opacity": 0.4617067833698031,
         "type": "scattergeo"
        },
        {
         "lat": [
          25.79325,
          42.3643475
         ],
         "line": {
          "color": "red",
          "width": 1
         },
         "locationmode": "USA-states",
         "lon": [
          -80.29055556,
          -71.00517917
         ],
         "mode": "lines",
         "opacity": 0.4288840262582057,
         "type": "scattergeo"
        },
        {
         "lat": [
          41.979595,
          42.3643475
         ],
         "line": {
          "color": "red",
          "width": 1
         },
         "locationmode": "USA-states",
         "lon": [
          -87.90446417,
          -71.00517917
         ],
         "mode": "lines",
         "opacity": 0.47045951859956237,
         "type": "scattergeo"
        },
        {
         "lat": [
          18.43941667,
          42.3643475
         ],
         "line": {
          "color": "red",
          "width": 1
         },
         "locationmode": "USA-states",
         "lon": [
          -66.00183333,
          -71.00517917
         ],
         "mode": "lines",
         "opacity": 0.061269146608315096,
         "type": "scattergeo"
        },
        {
         "lat": [
          18.33730556,
          42.3643475
         ],
         "line": {
          "color": "red",
          "width": 1
         },
         "locationmode": "USA-states",
         "lon": [
          -64.97336111,
          -71.00517917
         ],
         "mode": "lines",
         "opacity": 0.04814004376367615,
         "type": "scattergeo"
        },
        {
         "lat": [
          25.79325,
          39.17540167
         ],
         "line": {
          "color": "red",
          "width": 1
         },
         "locationmode": "USA-states",
         "lon": [
          -80.29055556,
          -76.66819833
         ],
         "mode": "lines",
         "opacity": 0.12253829321663019,
         "type": "scattergeo"
        },
        {
         "lat": [
          18.43941667,
          39.17540167
         ],
         "line": {
          "color": "red",
          "width": 1
         },
         "locationmode": "USA-states",
         "lon": [
          -66.00183333,
          -76.66819833
         ],
         "mode": "lines",
         "opacity": 0.061269146608315096,
         "type": "scattergeo"
        },
        {
         "lat": [
          32.89595056,
          35.21401111
         ],
         "line": {
          "color": "red",
          "width": 1
         },
         "locationmode": "USA-states",
         "lon": [
          -97.0372,
          -80.94312583
         ],
         "mode": "lines",
         "opacity": 0.3938730853391685,
         "type": "scattergeo"
        },
        {
         "lat": [
          32.89595056,
          38.80580556
         ],
         "line": {
          "color": "red",
          "width": 1
         },
         "locationmode": "USA-states",
         "lon": [
          -97.0372,
          -104.70025
         ],
         "mode": "lines",
         "opacity": 0.3041575492341357,
         "type": "scattergeo"
        },
        {
         "lat": [
          32.89595056,
          39.90237583
         ],
         "line": {
          "color": "red",
          "width": 1
         },
         "locationmode": "USA-states",
         "lon": [
          -97.0372,
          -84.219375
         ],
         "mode": "lines",
         "opacity": 0.1137855579868709,
         "type": "scattergeo"
        },
        {
         "lat": [
          32.89595056,
          38.85208333
         ],
         "line": {
          "color": "red",
          "width": 1
         },
         "locationmode": "USA-states",
         "lon": [
          -97.0372,
          -77.03772222
         ],
         "mode": "lines",
         "opacity": 0.6433260393873085,
         "type": "scattergeo"
        },
        {
         "lat": [
          25.79325,
          39.85840806
         ],
         "line": {
          "color": "red",
          "width": 1
         },
         "locationmode": "USA-states",
         "lon": [
          -80.29055556,
          -104.6670019
         ],
         "mode": "lines",
         "opacity": 0.12253829321663019,
         "type": "scattergeo"
        },
        {
         "lat": [
          41.979595,
          39.85840806
         ],
         "line": {
          "color": "red",
          "width": 1
         },
         "locationmode": "USA-states",
         "lon": [
          -87.90446417,
          -104.6670019
         ],
         "mode": "lines",
         "opacity": 0.12253829321663019,
         "type": "scattergeo"
        },
        {
         "lat": [
          33.64044444,
          32.89595056
         ],
         "line": {
          "color": "red",
          "width": 1
         },
         "locationmode": "USA-states",
         "lon": [
          -84.42694444,
          -97.0372
         ],
         "mode": "lines",
         "opacity": 0.6345733041575492,
         "type": "scattergeo"
        },
        {
         "lat": [
          30.19453278,
          32.89595056
         ],
         "line": {
          "color": "red",
          "width": 1
         },
         "locationmode": "USA-states",
         "lon": [
          -97.66987194,
          -97.0372
         ],
         "mode": "lines",
         "opacity": 0.8971553610503282,
         "type": "scattergeo"
        },
        {
         "lat": [
          36.12447667,
          32.89595056
         ],
         "line": {
          "color": "red",
          "width": 1
         },
         "locationmode": "USA-states",
         "lon": [
          -86.67818222,
          -97.0372
         ],
         "mode": "lines",
         "opacity": 0.47702407002188185,
         "type": "scattergeo"
        },
        {
         "lat": [
          34.20061917,
          32.89595056
         ],
         "line": {
          "color": "red",
          "width": 1
         },
         "locationmode": "USA-states",
         "lon": [
          -118.3584969,
          -97.0372
         ],
         "mode": "lines",
         "opacity": 0.2275711159737418,
         "type": "scattergeo"
        },
        {
         "lat": [
          39.17540167,
          32.89595056
         ],
         "line": {
          "color": "red",
          "width": 1
         },
         "locationmode": "USA-states",
         "lon": [
          -76.66819833,
          -97.0372
         ],
         "mode": "lines",
         "opacity": 0.35667396061269147,
         "type": "scattergeo"
        },
        {
         "lat": [
          39.99798528,
          32.89595056
         ],
         "line": {
          "color": "red",
          "width": 1
         },
         "locationmode": "USA-states",
         "lon": [
          -82.89188278,
          -97.0372
         ],
         "mode": "lines",
         "opacity": 0.1137855579868709,
         "type": "scattergeo"
        },
        {
         "lat": [
          39.85840806,
          32.89595056
         ],
         "line": {
          "color": "red",
          "width": 1
         },
         "locationmode": "USA-states",
         "lon": [
          -104.6670019,
          -97.0372
         ],
         "mode": "lines",
         "opacity": 0.6105032822757112,
         "type": "scattergeo"
        },
        {
         "lat": [
          42.21205889,
          32.89595056
         ],
         "line": {
          "color": "red",
          "width": 1
         },
         "locationmode": "USA-states",
         "lon": [
          -83.34883583,
          -97.0372
         ],
         "mode": "lines",
         "opacity": 0.2844638949671772,
         "type": "scattergeo"
        },
        {
         "lat": [
          39.64256778,
          32.89595056
         ],
         "line": {
          "color": "red",
          "width": 1
         },
         "locationmode": "USA-states",
         "lon": [
          -106.91769529999999,
          -97.0372
         ],
         "mode": "lines",
         "opacity": 0.1487964989059081,
         "type": "scattergeo"
        },
        {
         "lat": [
          40.69249722,
          32.89595056
         ],
         "line": {
          "color": "red",
          "width": 1
         },
         "locationmode": "USA-states",
         "lon": [
          -74.16866056,
          -97.0372
         ],
         "mode": "lines",
         "opacity": 0.33916849015317285,
         "type": "scattergeo"
        },
        {
         "lat": [
          36.77619444,
          32.89595056
         ],
         "line": {
          "color": "red",
          "width": 1
         },
         "locationmode": "USA-states",
         "lon": [
          -119.7181389,
          -97.0372
         ],
         "mode": "lines",
         "opacity": 0.12253829321663019,
         "type": "scattergeo"
        },
        {
         "lat": [
          26.07258333,
          32.89595056
         ],
         "line": {
          "color": "red",
          "width": 1
         },
         "locationmode": "USA-states",
         "lon": [
          -80.15275,
          -97.0372
         ],
         "mode": "lines",
         "opacity": 0.3676148796498906,
         "type": "scattergeo"
        },
        {
         "lat": [
          34.6404475,
          32.89595056
         ],
         "line": {
          "color": "red",
          "width": 1
         },
         "locationmode": "USA-states",
         "lon": [
          -86.77310944,
          -97.0372
         ],
         "mode": "lines",
         "opacity": 0.17286652078774617,
         "type": "scattergeo"
        },
        {
         "lat": [
          29.98047222,
          32.89595056
         ],
         "line": {
          "color": "red",
          "width": 1
         },
         "locationmode": "USA-states",
         "lon": [
          -95.33972222,
          -97.0372
         ],
         "mode": "lines",
         "opacity": 0.3544857768052516,
         "type": "scattergeo"
        },
        {
         "lat": [
          33.94253611,
          32.89595056
         ],
         "line": {
          "color": "red",
          "width": 1
         },
         "locationmode": "USA-states",
         "lon": [
          -118.40807439999999,
          -97.0372
         ],
         "mode": "lines",
         "opacity": 1,
         "type": "scattergeo"
        },
        {
         "lat": [
          39.29760528,
          32.89595056
         ],
         "line": {
          "color": "red",
          "width": 1
         },
         "locationmode": "USA-states",
         "lon": [
          -94.71390556,
          -97.0372
         ],
         "mode": "lines",
         "opacity": 0.47702407002188185,
         "type": "scattergeo"
        },
        {
         "lat": [
          28.42888889,
          32.89595056
         ],
         "line": {
          "color": "red",
          "width": 1
         },
         "locationmode": "USA-states",
         "lon": [
          -81.31602778,
          -97.0372
         ],
         "mode": "lines",
         "opacity": 0.5470459518599562,
         "type": "scattergeo"
        },
        {
         "lat": [
          35.04241667,
          32.89595056
         ],
         "line": {
          "color": "red",
          "width": 1
         },
         "locationmode": "USA-states",
         "lon": [
          -89.97666667,
          -97.0372
         ],
         "mode": "lines",
         "opacity": 0.23413566739606126,
         "type": "scattergeo"
        },
        {
         "lat": [
          26.17583333,
          32.89595056
         ],
         "line": {
          "color": "red",
          "width": 1
         },
         "locationmode": "USA-states",
         "lon": [
          -98.23861111,
          -97.0372
         ],
         "mode": "lines",
         "opacity": 0.23413566739606126,
         "type": "scattergeo"
        },
        {
         "lat": [
          25.79325,
          32.89595056
         ],
         "line": {
          "color": "red",
          "width": 1
         },
         "locationmode": "USA-states",
         "lon": [
          -80.29055556,
          -97.0372
         ],
         "mode": "lines",
         "opacity": 0.612691466083151,
         "type": "scattergeo"
        },
        {
         "lat": [
          44.88054694,
          32.89595056
         ],
         "line": {
          "color": "red",
          "width": 1
         },
         "locationmode": "USA-states",
         "lon": [
          -93.2169225,
          -97.0372
         ],
         "mode": "lines",
         "opacity": 0.35667396061269147,
         "type": "scattergeo"
        },
        {
         "lat": [
          38.50886722,
          32.89595056
         ],
         "line": {
          "color": "red",
          "width": 1
         },
         "locationmode": "USA-states",
         "lon": [
          -107.89383329999998,
          -97.0372
         ],
         "mode": "lines",
         "opacity": 0.0175054704595186,
         "type": "scattergeo"
        },
        {
         "lat": [
          20.89864972,
          32.89595056
         ],
         "line": {
          "color": "red",
          "width": 1
         },
         "locationmode": "USA-states",
         "lon": [
          -156.43045780000003,
          -97.0372
         ],
         "mode": "lines",
         "opacity": 0.061269146608315096,
         "type": "scattergeo"
        },
        {
         "lat": [
          35.39308833,
          32.89595056
         ],
         "line": {
          "color": "red",
          "width": 1
         },
         "locationmode": "USA-states",
         "lon": [
          -97.60073389,
          -97.0372
         ],
         "mode": "lines",
         "opacity": 0.42669584245076586,
         "type": "scattergeo"
        },
        {
         "lat": [
          41.30251861,
          32.89595056
         ],
         "line": {
          "color": "red",
          "width": 1
         },
         "locationmode": "USA-states",
         "lon": [
          -95.89417306,
          -97.0372
         ],
         "mode": "lines",
         "opacity": 0.2975929978118162,
         "type": "scattergeo"
        },
        {
         "lat": [
          41.979595,
          32.89595056
         ],
         "line": {
          "color": "red",
          "width": 1
         },
         "locationmode": "USA-states",
         "lon": [
          -87.90446417,
          -97.0372
         ],
         "mode": "lines",
         "opacity": 0.9026258205689278,
         "type": "scattergeo"
        },
        {
         "lat": [
          39.87195278,
          32.89595056
         ],
         "line": {
          "color": "red",
          "width": 1
         },
         "locationmode": "USA-states",
         "lon": [
          -75.24114083,
          -97.0372
         ],
         "mode": "lines",
         "opacity": 0.3522975929978118,
         "type": "scattergeo"
        },
        {
         "lat": [
          33.43416667,
          32.89595056
         ],
         "line": {
          "color": "red",
          "width": 1
         },
         "locationmode": "USA-states",
         "lon": [
          -112.00805559999999,
          -97.0372
         ],
         "mode": "lines",
         "opacity": 0.6017505470459519,
         "type": "scattergeo"
        },
        {
         "lat": [
          37.50516667,
          32.89595056
         ],
         "line": {
          "color": "red",
          "width": 1
         },
         "locationmode": "USA-states",
         "lon": [
          -77.31966667,
          -97.0372
         ],
         "mode": "lines",
         "opacity": 0.18161925601750548,
         "type": "scattergeo"
        },
        {
         "lat": [
          39.49857611,
          32.89595056
         ],
         "line": {
          "color": "red",
          "width": 1
         },
         "locationmode": "USA-states",
         "lon": [
          -119.76806470000001,
          -97.0372
         ],
         "mode": "lines",
         "opacity": 0.16411378555798686,
         "type": "scattergeo"
        },
        {
         "lat": [
          32.73355611,
          32.89595056
         ],
         "line": {
          "color": "red",
          "width": 1
         },
         "locationmode": "USA-states",
         "lon": [
          -117.1896567,
          -97.0372
         ],
         "mode": "lines",
         "opacity": 0.5470459518599562,
         "type": "scattergeo"
        },
        {
         "lat": [
          29.53369444,
          32.89595056
         ],
         "line": {
          "color": "red",
          "width": 1
         },
         "locationmode": "USA-states",
         "lon": [
          -98.46977778,
          -97.0372
         ],
         "mode": "lines",
         "opacity": 0.9037199124726477,
         "type": "scattergeo"
        },
        {
         "lat": [
          38.17438889,
          32.89595056
         ],
         "line": {
          "color": "red",
          "width": 1
         },
         "locationmode": "USA-states",
         "lon": [
          -85.736,
          -97.0372
         ],
         "mode": "lines",
         "opacity": 0.17943107221006566,
         "type": "scattergeo"
        },
        {
         "lat": [
          37.61900194,
          32.89595056
         ],
         "line": {
          "color": "red",
          "width": 1
         },
         "locationmode": "USA-states",
         "lon": [
          -122.3748433,
          -97.0372
         ],
         "mode": "lines",
         "opacity": 0.5754923413566739,
         "type": "scattergeo"
        },
        {
         "lat": [
          37.36186194,
          32.89595056
         ],
         "line": {
          "color": "red",
          "width": 1
         },
         "locationmode": "USA-states",
         "lon": [
          -121.92900890000001,
          -97.0372
         ],
         "mode": "lines",
         "opacity": 0.3479212253829322,
         "type": "scattergeo"
        },
        {
         "lat": [
          40.78838778,
          32.89595056
         ],
         "line": {
          "color": "red",
          "width": 1
         },
         "locationmode": "USA-states",
         "lon": [
          -111.9777731,
          -97.0372
         ],
         "mode": "lines",
         "opacity": 0.3063457330415755,
         "type": "scattergeo"
        },
        {
         "lat": [
          38.74768694,
          32.89595056
         ],
         "line": {
          "color": "red",
          "width": 1
         },
         "locationmode": "USA-states",
         "lon": [
          -90.35998972,
          -97.0372
         ],
         "mode": "lines",
         "opacity": 0.5317286652078774,
         "type": "scattergeo"
        },
        {
         "lat": [
          36.28186944,
          32.89595056
         ],
         "line": {
          "color": "red",
          "width": 1
         },
         "locationmode": "USA-states",
         "lon": [
          -94.30681111,
          -97.0372
         ],
         "mode": "lines",
         "opacity": 0.05470459518599562,
         "type": "scattergeo"
        },
        {
         "lat": [
          25.79325,
          42.21205889
         ],
         "line": {
          "color": "red",
          "width": 1
         },
         "locationmode": "USA-states",
         "lon": [
          -80.29055556,
          -83.34883583
         ],
         "mode": "lines",
         "opacity": 0.12253829321663019,
         "type": "scattergeo"
        },
        {
         "lat": [
          40.77724306,
          39.64256778
         ],
         "line": {
          "color": "red",
          "width": 1
         },
         "locationmode": "USA-states",
         "lon": [
          -73.87260917,
          -106.91769529999999
         ],
         "mode": "lines",
         "opacity": 0.0087527352297593,
         "type": "scattergeo"
        },
        {
         "lat": [
          41.979595,
          39.64256778
         ],
         "line": {
          "color": "red",
          "width": 1
         },
         "locationmode": "USA-states",
         "lon": [
          -87.90446417,
          -106.91769529999999
         ],
         "mode": "lines",
         "opacity": 0.0700218818380744,
         "type": "scattergeo"
        },
        {
         "lat": [
          32.89595056,
          31.80666667
         ],
         "line": {
          "color": "red",
          "width": 1
         },
         "locationmode": "USA-states",
         "lon": [
          -97.0372,
          -106.37780559999999
         ],
         "mode": "lines",
         "opacity": 0.474835886214442,
         "type": "scattergeo"
        },
        {
         "lat": [
          33.94253611,
          40.69249722
         ],
         "line": {
          "color": "red",
          "width": 1
         },
         "locationmode": "USA-states",
         "lon": [
          -118.40807439999999,
          -74.16866056
         ],
         "mode": "lines",
         "opacity": 0.05908096280087528,
         "type": "scattergeo"
        },
        {
         "lat": [
          25.79325,
          40.69249722
         ],
         "line": {
          "color": "red",
          "width": 1
         },
         "locationmode": "USA-states",
         "lon": [
          -80.29055556,
          -74.16866056
         ],
         "mode": "lines",
         "opacity": 0.1838074398249453,
         "type": "scattergeo"
        },
        {
         "lat": [
          40.63975111,
          26.07258333
         ],
         "line": {
          "color": "red",
          "width": 1
         },
         "locationmode": "USA-states",
         "lon": [
          -73.77892556,
          -80.15275
         ],
         "mode": "lines",
         "opacity": 0.12253829321663019,
         "type": "scattergeo"
        },
        {
         "lat": [
          32.89595056,
          40.48118028
         ],
         "line": {
          "color": "red",
          "width": 1
         },
         "locationmode": "USA-states",
         "lon": [
          -97.0372,
          -107.21765970000001
         ],
         "mode": "lines",
         "opacity": 0.0700218818380744,
         "type": "scattergeo"
        },
        {
         "lat": [
          32.89595056,
          21.31869111
         ],
         "line": {
          "color": "red",
          "width": 1
         },
         "locationmode": "USA-states",
         "lon": [
          -97.0372,
          -157.92240719999998
         ],
         "mode": "lines",
         "opacity": 0.12253829321663019,
         "type": "scattergeo"
        },
        {
         "lat": [
          33.94253611,
          21.31869111
         ],
         "line": {
          "color": "red",
          "width": 1
         },
         "locationmode": "USA-states",
         "lon": [
          -118.40807439999999,
          -157.92240719999998
         ],
         "mode": "lines",
         "opacity": 0.2363238512035011,
         "type": "scattergeo"
        },
        {
         "lat": [
          32.89595056,
          38.94453194
         ],
         "line": {
          "color": "red",
          "width": 1
         },
         "locationmode": "USA-states",
         "lon": [
          -97.0372,
          -77.45580972
         ],
         "mode": "lines",
         "opacity": 0.33698030634573306,
         "type": "scattergeo"
        },
        {
         "lat": [
          33.94253611,
          38.94453194
         ],
         "line": {
          "color": "red",
          "width": 1
         },
         "locationmode": "USA-states",
         "lon": [
          -118.40807439999999,
          -77.45580972
         ],
         "mode": "lines",
         "opacity": 0.18161925601750548,
         "type": "scattergeo"
        },
        {
         "lat": [
          25.79325,
          38.94453194
         ],
         "line": {
          "color": "red",
          "width": 1
         },
         "locationmode": "USA-states",
         "lon": [
          -80.29055556,
          -77.45580972
         ],
         "mode": "lines",
         "opacity": 0.12253829321663019,
         "type": "scattergeo"
        },
        {
         "lat": [
          25.79325,
          29.98047222
         ],
         "line": {
          "color": "red",
          "width": 1
         },
         "locationmode": "USA-states",
         "lon": [
          -80.29055556,
          -95.33972222
         ],
         "mode": "lines",
         "opacity": 0.1838074398249453,
         "type": "scattergeo"
        },
        {
         "lat": [
          32.89595056,
          37.64995889
         ],
         "line": {
          "color": "red",
          "width": 1
         },
         "locationmode": "USA-states",
         "lon": [
          -97.0372,
          -97.43304583
         ],
         "mode": "lines",
         "opacity": 0.23413566739606126,
         "type": "scattergeo"
        },
        {
         "lat": [
          32.89595056,
          39.71732917
         ],
         "line": {
          "color": "red",
          "width": 1
         },
         "locationmode": "USA-states",
         "lon": [
          -97.0372,
          -86.29438417
         ],
         "mode": "lines",
         "opacity": 0.3041575492341357,
         "type": "scattergeo"
        },
        {
         "lat": [
          32.89595056,
          43.60732417
         ],
         "line": {
          "color": "red",
          "width": 1
         },
         "locationmode": "USA-states",
         "lon": [
          -97.0372,
          -110.7377389
         ],
         "mode": "lines",
         "opacity": 0.0262582056892779,
         "type": "scattergeo"
        },
        {
         "lat": [
          32.89595056,
          30.49405556
         ],
         "line": {
          "color": "red",
          "width": 1
         },
         "locationmode": "USA-states",
         "lon": [
          -97.0372,
          -81.68786111
         ],
         "mode": "lines",
         "opacity": 0.2363238512035011,
         "type": "scattergeo"
        },
        {
         "lat": [
          30.19453278,
          40.63975111
         ],
         "line": {
          "color": "red",
          "width": 1
         },
         "locationmode": "USA-states",
         "lon": [
          -97.66987194,
          -73.77892556
         ],
         "mode": "lines",
         "opacity": 0.061269146608315096,
         "type": "scattergeo"
        },
        {
         "lat": [
          32.89595056,
          40.63975111
         ],
         "line": {
          "color": "red",
          "width": 1
         },
         "locationmode": "USA-states",
         "lon": [
          -97.0372,
          -73.77892556
         ],
         "mode": "lines",
         "opacity": 0.061269146608315096,
         "type": "scattergeo"
        },
        {
         "lat": [
          39.64256778,
          40.63975111
         ],
         "line": {
          "color": "red",
          "width": 1
         },
         "locationmode": "USA-states",
         "lon": [
          -106.91769529999999,
          -73.77892556
         ],
         "mode": "lines",
         "opacity": 0.061269146608315096,
         "type": "scattergeo"
        },
        {
         "lat": [
          28.42888889,
          40.63975111
         ],
         "line": {
          "color": "red",
          "width": 1
         },
         "locationmode": "USA-states",
         "lon": [
          -81.31602778,
          -73.77892556
         ],
         "mode": "lines",
         "opacity": 0.24507658643326038,
         "type": "scattergeo"
        },
        {
         "lat": [
          25.79325,
          40.63975111
         ],
         "line": {
          "color": "red",
          "width": 1
         },
         "locationmode": "USA-states",
         "lon": [
          -80.29055556,
          -73.77892556
         ],
         "mode": "lines",
         "opacity": 0.4288840262582057,
         "type": "scattergeo"
        },
        {
         "lat": [
          47.44898194,
          40.63975111
         ],
         "line": {
          "color": "red",
          "width": 1
         },
         "locationmode": "USA-states",
         "lon": [
          -122.30931310000001,
          -73.77892556
         ],
         "mode": "lines",
         "opacity": 0.061269146608315096,
         "type": "scattergeo"
        },
        {
         "lat": [
          37.61900194,
          40.63975111
         ],
         "line": {
          "color": "red",
          "width": 1
         },
         "locationmode": "USA-states",
         "lon": [
          -122.3748433,
          -73.77892556
         ],
         "mode": "lines",
         "opacity": 0.3041575492341357,
         "type": "scattergeo"
        },
        {
         "lat": [
          18.33730556,
          40.63975111
         ],
         "line": {
          "color": "red",
          "width": 1
         },
         "locationmode": "USA-states",
         "lon": [
          -64.97336111,
          -73.77892556
         ],
         "mode": "lines",
         "opacity": 0.061269146608315096,
         "type": "scattergeo"
        },
        {
         "lat": [
          27.97547222,
          40.63975111
         ],
         "line": {
          "color": "red",
          "width": 1
         },
         "locationmode": "USA-states",
         "lon": [
          -82.53325,
          -73.77892556
         ],
         "mode": "lines",
         "opacity": 0.061269146608315096,
         "type": "scattergeo"
        },
        {
         "lat": [
          32.89595056,
          36.08036111
         ],
         "line": {
          "color": "red",
          "width": 1
         },
         "locationmode": "USA-states",
         "lon": [
          -97.0372,
          -115.15233329999998
         ],
         "mode": "lines",
         "opacity": 0.6225382932166302,
         "type": "scattergeo"
        },
        {
         "lat": [
          40.63975111,
          36.08036111
         ],
         "line": {
          "color": "red",
          "width": 1
         },
         "locationmode": "USA-states",
         "lon": [
          -73.77892556,
          -115.15233329999998
         ],
         "mode": "lines",
         "opacity": 0.12253829321663019,
         "type": "scattergeo"
        },
        {
         "lat": [
          33.94253611,
          36.08036111
         ],
         "line": {
          "color": "red",
          "width": 1
         },
         "locationmode": "USA-states",
         "lon": [
          -118.40807439999999,
          -115.15233329999998
         ],
         "mode": "lines",
         "opacity": 0.24288840262582057,
         "type": "scattergeo"
        },
        {
         "lat": [
          41.979595,
          36.08036111
         ],
         "line": {
          "color": "red",
          "width": 1
         },
         "locationmode": "USA-states",
         "lon": [
          -87.90446417,
          -115.15233329999998
         ],
         "mode": "lines",
         "opacity": 0.3063457330415755,
         "type": "scattergeo"
        },
        {
         "lat": [
          30.19453278,
          33.94253611
         ],
         "line": {
          "color": "red",
          "width": 1
         },
         "locationmode": "USA-states",
         "lon": [
          -97.66987194,
          -118.40807439999999
         ],
         "mode": "lines",
         "opacity": 0.1772428884026258,
         "type": "scattergeo"
        },
        {
         "lat": [
          36.12447667,
          33.94253611
         ],
         "line": {
          "color": "red",
          "width": 1
         },
         "locationmode": "USA-states",
         "lon": [
          -86.67818222,
          -118.40807439999999
         ],
         "mode": "lines",
         "opacity": 0.061269146608315096,
         "type": "scattergeo"
        },
        {
         "lat": [
          42.3643475,
          33.94253611
         ],
         "line": {
          "color": "red",
          "width": 1
         },
         "locationmode": "USA-states",
         "lon": [
          -71.00517917,
          -118.40807439999999
         ],
         "mode": "lines",
         "opacity": 0.1838074398249453,
         "type": "scattergeo"
        },
        {
         "lat": [
          39.64256778,
          33.94253611
         ],
         "line": {
          "color": "red",
          "width": 1
         },
         "locationmode": "USA-states",
         "lon": [
          -106.91769529999999,
          -118.40807439999999
         ],
         "mode": "lines",
         "opacity": 0.061269146608315096,
         "type": "scattergeo"
        },
        {
         "lat": [
          40.63975111,
          33.94253611
         ],
         "line": {
          "color": "red",
          "width": 1
         },
         "locationmode": "USA-states",
         "lon": [
          -73.77892556,
          -118.40807439999999
         ],
         "mode": "lines",
         "opacity": 0.5995623632385121,
         "type": "scattergeo"
        },
        {
         "lat": [
          19.73876583,
          33.94253611
         ],
         "line": {
          "color": "red",
          "width": 1
         },
         "locationmode": "USA-states",
         "lon": [
          -156.0456314,
          -118.40807439999999
         ],
         "mode": "lines",
         "opacity": 0.061269146608315096,
         "type": "scattergeo"
        },
        {
         "lat": [
          20.89864972,
          33.94253611
         ],
         "line": {
          "color": "red",
          "width": 1
         },
         "locationmode": "USA-states",
         "lon": [
          -156.43045780000003,
          -118.40807439999999
         ],
         "mode": "lines",
         "opacity": 0.12253829321663019,
         "type": "scattergeo"
        },
        {
         "lat": [
          41.979595,
          33.94253611
         ],
         "line": {
          "color": "red",
          "width": 1
         },
         "locationmode": "USA-states",
         "lon": [
          -87.90446417,
          -118.40807439999999
         ],
         "mode": "lines",
         "opacity": 0.5426695842450766,
         "type": "scattergeo"
        },
        {
         "lat": [
          38.74768694,
          33.94253611
         ],
         "line": {
          "color": "red",
          "width": 1
         },
         "locationmode": "USA-states",
         "lon": [
          -90.35998972,
          -118.40807439999999
         ],
         "mode": "lines",
         "opacity": 0.18161925601750548,
         "type": "scattergeo"
        },
        {
         "lat": [
          36.12447667,
          40.77724306
         ],
         "line": {
          "color": "red",
          "width": 1
         },
         "locationmode": "USA-states",
         "lon": [
          -86.67818222,
          -73.87260917
         ],
         "mode": "lines",
         "opacity": 0.11159737417943107,
         "type": "scattergeo"
        },
        {
         "lat": [
          32.89595056,
          40.77724306
         ],
         "line": {
          "color": "red",
          "width": 1
         },
         "locationmode": "USA-states",
         "lon": [
          -97.0372,
          -73.87260917
         ],
         "mode": "lines",
         "opacity": 0.849015317286652,
         "type": "scattergeo"
        },
        {
         "lat": [
          38.74768694,
          40.77724306
         ],
         "line": {
          "color": "red",
          "width": 1
         },
         "locationmode": "USA-states",
         "lon": [
          -90.35998972,
          -73.87260917
         ],
         "mode": "lines",
         "opacity": 0.22538293216630198,
         "type": "scattergeo"
        },
        {
         "lat": [
          33.94253611,
          21.97598306
         ],
         "line": {
          "color": "red",
          "width": 1
         },
         "locationmode": "USA-states",
         "lon": [
          -118.40807439999999,
          -159.3389581
         ],
         "mode": "lines",
         "opacity": 0.061269146608315096,
         "type": "scattergeo"
        },
        {
         "lat": [
          33.94253611,
          28.42888889
         ],
         "line": {
          "color": "red",
          "width": 1
         },
         "locationmode": "USA-states",
         "lon": [
          -118.40807439999999,
          -81.31602778
         ],
         "mode": "lines",
         "opacity": 0.061269146608315096,
         "type": "scattergeo"
        },
        {
         "lat": [
          25.79325,
          28.42888889
         ],
         "line": {
          "color": "red",
          "width": 1
         },
         "locationmode": "USA-states",
         "lon": [
          -80.29055556,
          -81.31602778
         ],
         "mode": "lines",
         "opacity": 0.49015317286652077,
         "type": "scattergeo"
        },
        {
         "lat": [
          33.64044444,
          25.79325
         ],
         "line": {
          "color": "red",
          "width": 1
         },
         "locationmode": "USA-states",
         "lon": [
          -84.42694444,
          -80.29055556
         ],
         "mode": "lines",
         "opacity": 0.24507658643326038,
         "type": "scattergeo"
        },
        {
         "lat": [
          41.93887417,
          25.79325
         ],
         "line": {
          "color": "red",
          "width": 1
         },
         "locationmode": "USA-states",
         "lon": [
          -72.68322833,
          -80.29055556
         ],
         "mode": "lines",
         "opacity": 0.12253829321663019,
         "type": "scattergeo"
        },
        {
         "lat": [
          38.85208333,
          25.79325
         ],
         "line": {
          "color": "red",
          "width": 1
         },
         "locationmode": "USA-states",
         "lon": [
          -77.03772222,
          -80.29055556
         ],
         "mode": "lines",
         "opacity": 0.5514223194748359,
         "type": "scattergeo"
        },
        {
         "lat": [
          39.64256778,
          25.79325
         ],
         "line": {
          "color": "red",
          "width": 1
         },
         "locationmode": "USA-states",
         "lon": [
          -106.91769529999999,
          -80.29055556
         ],
         "mode": "lines",
         "opacity": 0.0525164113785558,
         "type": "scattergeo"
        },
        {
         "lat": [
          36.08036111,
          25.79325
         ],
         "line": {
          "color": "red",
          "width": 1
         },
         "locationmode": "USA-states",
         "lon": [
          -115.15233329999998,
          -80.29055556
         ],
         "mode": "lines",
         "opacity": 0.1838074398249453,
         "type": "scattergeo"
        },
        {
         "lat": [
          33.94253611,
          25.79325
         ],
         "line": {
          "color": "red",
          "width": 1
         },
         "locationmode": "USA-states",
         "lon": [
          -118.40807439999999,
          -80.29055556
         ],
         "mode": "lines",
         "opacity": 0.4288840262582057,
         "type": "scattergeo"
        },
        {
         "lat": [
          40.77724306,
          25.79325
         ],
         "line": {
          "color": "red",
          "width": 1
         },
         "locationmode": "USA-states",
         "lon": [
          -73.87260917,
          -80.29055556
         ],
         "mode": "lines",
         "opacity": 0.6728665207877462,
         "type": "scattergeo"
        },
        {
         "lat": [
          44.88054694,
          25.79325
         ],
         "line": {
          "color": "red",
          "width": 1
         },
         "locationmode": "USA-states",
         "lon": [
          -93.2169225,
          -80.29055556
         ],
         "mode": "lines",
         "opacity": 0.061269146608315096,
         "type": "scattergeo"
        },
        {
         "lat": [
          41.979595,
          25.79325
         ],
         "line": {
          "color": "red",
          "width": 1
         },
         "locationmode": "USA-states",
         "lon": [
          -87.90446417,
          -80.29055556
         ],
         "mode": "lines",
         "opacity": 0.5525164113785558,
         "type": "scattergeo"
        },
        {
         "lat": [
          39.87195278,
          25.79325
         ],
         "line": {
          "color": "red",
          "width": 1
         },
         "locationmode": "USA-states",
         "lon": [
          -75.24114083,
          -80.29055556
         ],
         "mode": "lines",
         "opacity": 0.1838074398249453,
         "type": "scattergeo"
        },
        {
         "lat": [
          33.43416667,
          25.79325
         ],
         "line": {
          "color": "red",
          "width": 1
         },
         "locationmode": "USA-states",
         "lon": [
          -112.00805559999999,
          -80.29055556
         ],
         "mode": "lines",
         "opacity": 0.061269146608315096,
         "type": "scattergeo"
        },
        {
         "lat": [
          37.61900194,
          25.79325
         ],
         "line": {
          "color": "red",
          "width": 1
         },
         "locationmode": "USA-states",
         "lon": [
          -122.3748433,
          -80.29055556
         ],
         "mode": "lines",
         "opacity": 0.1838074398249453,
         "type": "scattergeo"
        },
        {
         "lat": [
          18.43941667,
          25.79325
         ],
         "line": {
          "color": "red",
          "width": 1
         },
         "locationmode": "USA-states",
         "lon": [
          -66.00183333,
          -80.29055556
         ],
         "mode": "lines",
         "opacity": 0.49015317286652077,
         "type": "scattergeo"
        },
        {
         "lat": [
          36.19837222,
          25.79325
         ],
         "line": {
          "color": "red",
          "width": 1
         },
         "locationmode": "USA-states",
         "lon": [
          -95.88824167,
          -80.29055556
         ],
         "mode": "lines",
         "opacity": 0.00437636761487965,
         "type": "scattergeo"
        },
        {
         "lat": [
          41.979595,
          44.88054694
         ],
         "line": {
          "color": "red",
          "width": 1
         },
         "locationmode": "USA-states",
         "lon": [
          -87.90446417,
          -93.2169225
         ],
         "mode": "lines",
         "opacity": 0.175054704595186,
         "type": "scattergeo"
        },
        {
         "lat": [
          32.89595056,
          29.99338889
         ],
         "line": {
          "color": "red",
          "width": 1
         },
         "locationmode": "USA-states",
         "lon": [
          -97.0372,
          -90.25802778
         ],
         "mode": "lines",
         "opacity": 0.3676148796498906,
         "type": "scattergeo"
        },
        {
         "lat": [
          25.79325,
          29.99338889
         ],
         "line": {
          "color": "red",
          "width": 1
         },
         "locationmode": "USA-states",
         "lon": [
          -80.29055556,
          -90.25802778
         ],
         "mode": "lines",
         "opacity": 0.1838074398249453,
         "type": "scattergeo"
        },
        {
         "lat": [
          41.979595,
          29.99338889
         ],
         "line": {
          "color": "red",
          "width": 1
         },
         "locationmode": "USA-states",
         "lon": [
          -87.90446417,
          -90.25802778
         ],
         "mode": "lines",
         "opacity": 0.16301969365426697,
         "type": "scattergeo"
        },
        {
         "lat": [
          32.89595056,
          34.056
         ],
         "line": {
          "color": "red",
          "width": 1
         },
         "locationmode": "USA-states",
         "lon": [
          -97.0372,
          -117.60119440000001
         ],
         "mode": "lines",
         "opacity": 0.24288840262582057,
         "type": "scattergeo"
        },
        {
         "lat": [
          38.85208333,
          41.979595
         ],
         "line": {
          "color": "red",
          "width": 1
         },
         "locationmode": "USA-states",
         "lon": [
          -77.03772222,
          -87.90446417
         ],
         "mode": "lines",
         "opacity": 0.3544857768052516,
         "type": "scattergeo"
        },
        {
         "lat": [
          40.69249722,
          41.979595
         ],
         "line": {
          "color": "red",
          "width": 1
         },
         "locationmode": "USA-states",
         "lon": [
          -74.16866056,
          -87.90446417
         ],
         "mode": "lines",
         "opacity": 0.1838074398249453,
         "type": "scattergeo"
        },
        {
         "lat": [
          26.07258333,
          41.979595
         ],
         "line": {
          "color": "red",
          "width": 1
         },
         "locationmode": "USA-states",
         "lon": [
          -80.15275,
          -87.90446417
         ],
         "mode": "lines",
         "opacity": 0.1838074398249453,
         "type": "scattergeo"
        },
        {
         "lat": [
          40.48118028,
          41.979595
         ],
         "line": {
          "color": "red",
          "width": 1
         },
         "locationmode": "USA-states",
         "lon": [
          -107.21765970000001,
          -87.90446417
         ],
         "mode": "lines",
         "opacity": 0.0525164113785558,
         "type": "scattergeo"
        },
        {
         "lat": [
          21.31869111,
          41.979595
         ],
         "line": {
          "color": "red",
          "width": 1
         },
         "locationmode": "USA-states",
         "lon": [
          -157.92240719999998,
          -87.90446417
         ],
         "mode": "lines",
         "opacity": 0.05032822757111598,
         "type": "scattergeo"
        },
        {
         "lat": [
          43.60732417,
          41.979595
         ],
         "line": {
          "color": "red",
          "width": 1
         },
         "locationmode": "USA-states",
         "lon": [
          -110.7377389,
          -87.90446417
         ],
         "mode": "lines",
         "opacity": 0.061269146608315096,
         "type": "scattergeo"
        },
        {
         "lat": [
          40.63975111,
          41.979595
         ],
         "line": {
          "color": "red",
          "width": 1
         },
         "locationmode": "USA-states",
         "lon": [
          -73.77892556,
          -87.90446417
         ],
         "mode": "lines",
         "opacity": 0.061269146608315096,
         "type": "scattergeo"
        },
        {
         "lat": [
          40.77724306,
          41.979595
         ],
         "line": {
          "color": "red",
          "width": 1
         },
         "locationmode": "USA-states",
         "lon": [
          -73.87260917,
          -87.90446417
         ],
         "mode": "lines",
         "opacity": 0.9409190371991247,
         "type": "scattergeo"
        },
        {
         "lat": [
          39.29760528,
          41.979595
         ],
         "line": {
          "color": "red",
          "width": 1
         },
         "locationmode": "USA-states",
         "lon": [
          -94.71390556,
          -87.90446417
         ],
         "mode": "lines",
         "opacity": 0.23413566739606126,
         "type": "scattergeo"
        },
        {
         "lat": [
          28.42888889,
          41.979595
         ],
         "line": {
          "color": "red",
          "width": 1
         },
         "locationmode": "USA-states",
         "lon": [
          -81.31602778,
          -87.90446417
         ],
         "mode": "lines",
         "opacity": 0.24507658643326038,
         "type": "scattergeo"
        },
        {
         "lat": [
          35.87763889,
          41.979595
         ],
         "line": {
          "color": "red",
          "width": 1
         },
         "locationmode": "USA-states",
         "lon": [
          -78.78747222,
          -87.90446417
         ],
         "mode": "lines",
         "opacity": 0.17067833698030635,
         "type": "scattergeo"
        },
        {
         "lat": [
          39.49857611,
          41.979595
         ],
         "line": {
          "color": "red",
          "width": 1
         },
         "locationmode": "USA-states",
         "lon": [
          -119.76806470000001,
          -87.90446417
         ],
         "mode": "lines",
         "opacity": 0.061269146608315096,
         "type": "scattergeo"
        },
        {
         "lat": [
          32.73355611,
          41.979595
         ],
         "line": {
          "color": "red",
          "width": 1
         },
         "locationmode": "USA-states",
         "lon": [
          -117.1896567,
          -87.90446417
         ],
         "mode": "lines",
         "opacity": 0.24507658643326038,
         "type": "scattergeo"
        },
        {
         "lat": [
          29.53369444,
          41.979595
         ],
         "line": {
          "color": "red",
          "width": 1
         },
         "locationmode": "USA-states",
         "lon": [
          -98.46977778,
          -87.90446417
         ],
         "mode": "lines",
         "opacity": 0.12253829321663019,
         "type": "scattergeo"
        },
        {
         "lat": [
          37.36186194,
          41.979595
         ],
         "line": {
          "color": "red",
          "width": 1
         },
         "locationmode": "USA-states",
         "lon": [
          -121.92900890000001,
          -87.90446417
         ],
         "mode": "lines",
         "opacity": 0.12253829321663019,
         "type": "scattergeo"
        },
        {
         "lat": [
          18.43941667,
          41.979595
         ],
         "line": {
          "color": "red",
          "width": 1
         },
         "locationmode": "USA-states",
         "lon": [
          -66.00183333,
          -87.90446417
         ],
         "mode": "lines",
         "opacity": 0.12253829321663019,
         "type": "scattergeo"
        },
        {
         "lat": [
          38.74768694,
          41.979595
         ],
         "line": {
          "color": "red",
          "width": 1
         },
         "locationmode": "USA-states",
         "lon": [
          -90.35998972,
          -87.90446417
         ],
         "mode": "lines",
         "opacity": 0.5284463894967177,
         "type": "scattergeo"
        },
        {
         "lat": [
          36.19837222,
          41.979595
         ],
         "line": {
          "color": "red",
          "width": 1
         },
         "locationmode": "USA-states",
         "lon": [
          -95.88824167,
          -87.90446417
         ],
         "mode": "lines",
         "opacity": 0.061269146608315096,
         "type": "scattergeo"
        },
        {
         "lat": [
          32.11608333,
          41.979595
         ],
         "line": {
          "color": "red",
          "width": 1
         },
         "locationmode": "USA-states",
         "lon": [
          -110.94102779999999,
          -87.90446417
         ],
         "mode": "lines",
         "opacity": 0.12253829321663019,
         "type": "scattergeo"
        },
        {
         "lat": [
          32.89595056,
          36.89461111
         ],
         "line": {
          "color": "red",
          "width": 1
         },
         "locationmode": "USA-states",
         "lon": [
          -97.0372,
          -76.20122222
         ],
         "mode": "lines",
         "opacity": 0.12253829321663019,
         "type": "scattergeo"
        },
        {
         "lat": [
          32.89595056,
          26.68316194
         ],
         "line": {
          "color": "red",
          "width": 1
         },
         "locationmode": "USA-states",
         "lon": [
          -97.0372,
          -80.09559417
         ],
         "mode": "lines",
         "opacity": 0.12253829321663019,
         "type": "scattergeo"
        },
        {
         "lat": [
          41.979595,
          26.68316194
         ],
         "line": {
          "color": "red",
          "width": 1
         },
         "locationmode": "USA-states",
         "lon": [
          -87.90446417,
          -80.09559417
         ],
         "mode": "lines",
         "opacity": 0.16411378555798686,
         "type": "scattergeo"
        },
        {
         "lat": [
          32.89595056,
          45.58872222
         ],
         "line": {
          "color": "red",
          "width": 1
         },
         "locationmode": "USA-states",
         "lon": [
          -97.0372,
          -122.5975
         ],
         "mode": "lines",
         "opacity": 0.24507658643326038,
         "type": "scattergeo"
        },
        {
         "lat": [
          41.979595,
          39.87195278
         ],
         "line": {
          "color": "red",
          "width": 1
         },
         "locationmode": "USA-states",
         "lon": [
          -87.90446417,
          -75.24114083
         ],
         "mode": "lines",
         "opacity": 0.12035010940919037,
         "type": "scattergeo"
        },
        {
         "lat": [
          18.43941667,
          39.87195278
         ],
         "line": {
          "color": "red",
          "width": 1
         },
         "locationmode": "USA-states",
         "lon": [
          -66.00183333,
          -75.24114083
         ],
         "mode": "lines",
         "opacity": 0.061269146608315096,
         "type": "scattergeo"
        },
        {
         "lat": [
          41.979595,
          33.43416667
         ],
         "line": {
          "color": "red",
          "width": 1
         },
         "locationmode": "USA-states",
         "lon": [
          -87.90446417,
          -112.00805559999999
         ],
         "mode": "lines",
         "opacity": 0.3063457330415755,
         "type": "scattergeo"
        },
        {
         "lat": [
          32.89595056,
          40.49146583
         ],
         "line": {
          "color": "red",
          "width": 1
         },
         "locationmode": "USA-states",
         "lon": [
          -97.0372,
          -80.23287083
         ],
         "mode": "lines",
         "opacity": 0.18599562363238512,
         "type": "scattergeo"
        },
        {
         "lat": [
          32.89595056,
          33.82921556
         ],
         "line": {
          "color": "red",
          "width": 1
         },
         "locationmode": "USA-states",
         "lon": [
          -97.0372,
          -116.5062531
         ],
         "mode": "lines",
         "opacity": 0.1838074398249453,
         "type": "scattergeo"
        },
        {
         "lat": [
          41.979595,
          33.82921556
         ],
         "line": {
          "color": "red",
          "width": 1
         },
         "locationmode": "USA-states",
         "lon": [
          -87.90446417,
          -116.5062531
         ],
         "mode": "lines",
         "opacity": 0.0700218818380744,
         "type": "scattergeo"
        },
        {
         "lat": [
          32.89595056,
          35.87763889
         ],
         "line": {
          "color": "red",
          "width": 1
         },
         "locationmode": "USA-states",
         "lon": [
          -97.0372,
          -78.78747222
         ],
         "mode": "lines",
         "opacity": 0.3041575492341357,
         "type": "scattergeo"
        },
        {
         "lat": [
          25.79325,
          35.87763889
         ],
         "line": {
          "color": "red",
          "width": 1
         },
         "locationmode": "USA-states",
         "lon": [
          -80.29055556,
          -78.78747222
         ],
         "mode": "lines",
         "opacity": 0.1838074398249453,
         "type": "scattergeo"
        },
        {
         "lat": [
          32.89595056,
          26.53616667
         ],
         "line": {
          "color": "red",
          "width": 1
         },
         "locationmode": "USA-states",
         "lon": [
          -97.0372,
          -81.75516667
         ],
         "mode": "lines",
         "opacity": 0.1838074398249453,
         "type": "scattergeo"
        },
        {
         "lat": [
          41.979595,
          26.53616667
         ],
         "line": {
          "color": "red",
          "width": 1
         },
         "locationmode": "USA-states",
         "lon": [
          -87.90446417,
          -81.75516667
         ],
         "mode": "lines",
         "opacity": 0.1838074398249453,
         "type": "scattergeo"
        },
        {
         "lat": [
          40.63975111,
          32.73355611
         ],
         "line": {
          "color": "red",
          "width": 1
         },
         "locationmode": "USA-states",
         "lon": [
          -73.77892556,
          -117.1896567
         ],
         "mode": "lines",
         "opacity": 0.061269146608315096,
         "type": "scattergeo"
        },
        {
         "lat": [
          32.89595056,
          47.44898194
         ],
         "line": {
          "color": "red",
          "width": 1
         },
         "locationmode": "USA-states",
         "lon": [
          -97.0372,
          -122.30931310000001
         ],
         "mode": "lines",
         "opacity": 0.4288840262582057,
         "type": "scattergeo"
        },
        {
         "lat": [
          41.979595,
          47.44898194
         ],
         "line": {
          "color": "red",
          "width": 1
         },
         "locationmode": "USA-states",
         "lon": [
          -87.90446417,
          -122.30931310000001
         ],
         "mode": "lines",
         "opacity": 0.23413566739606126,
         "type": "scattergeo"
        },
        {
         "lat": [
          21.31869111,
          37.61900194
         ],
         "line": {
          "color": "red",
          "width": 1
         },
         "locationmode": "USA-states",
         "lon": [
          -157.92240719999998,
          -122.3748433
         ],
         "mode": "lines",
         "opacity": 0.061269146608315096,
         "type": "scattergeo"
        },
        {
         "lat": [
          33.94253611,
          37.61900194
         ],
         "line": {
          "color": "red",
          "width": 1
         },
         "locationmode": "USA-states",
         "lon": [
          -118.40807439999999,
          -122.3748433
         ],
         "mode": "lines",
         "opacity": 0.3676148796498906,
         "type": "scattergeo"
        },
        {
         "lat": [
          41.979595,
          37.61900194
         ],
         "line": {
          "color": "red",
          "width": 1
         },
         "locationmode": "USA-states",
         "lon": [
          -87.90446417,
          -122.3748433
         ],
         "mode": "lines",
         "opacity": 0.35667396061269147,
         "type": "scattergeo"
        },
        {
         "lat": [
          32.89595056,
          18.43941667
         ],
         "line": {
          "color": "red",
          "width": 1
         },
         "locationmode": "USA-states",
         "lon": [
          -97.0372,
          -66.00183333
         ],
         "mode": "lines",
         "opacity": 0.13129102844638948,
         "type": "scattergeo"
        },
        {
         "lat": [
          38.94453194,
          18.43941667
         ],
         "line": {
          "color": "red",
          "width": 1
         },
         "locationmode": "USA-states",
         "lon": [
          -77.45580972,
          -66.00183333
         ],
         "mode": "lines",
         "opacity": 0.061269146608315096,
         "type": "scattergeo"
        },
        {
         "lat": [
          40.63975111,
          18.43941667
         ],
         "line": {
          "color": "red",
          "width": 1
         },
         "locationmode": "USA-states",
         "lon": [
          -73.77892556,
          -66.00183333
         ],
         "mode": "lines",
         "opacity": 0.1838074398249453,
         "type": "scattergeo"
        },
        {
         "lat": [
          33.94253611,
          18.43941667
         ],
         "line": {
          "color": "red",
          "width": 1
         },
         "locationmode": "USA-states",
         "lon": [
          -118.40807439999999,
          -66.00183333
         ],
         "mode": "lines",
         "opacity": 0.0175054704595186,
         "type": "scattergeo"
        },
        {
         "lat": [
          32.89595056,
          38.69542167
         ],
         "line": {
          "color": "red",
          "width": 1
         },
         "locationmode": "USA-states",
         "lon": [
          -97.0372,
          -121.5907669
         ],
         "mode": "lines",
         "opacity": 0.24507658643326038,
         "type": "scattergeo"
        },
        {
         "lat": [
          32.89595056,
          33.67565861
         ],
         "line": {
          "color": "red",
          "width": 1
         },
         "locationmode": "USA-states",
         "lon": [
          -97.0372,
          -117.86822250000002
         ],
         "mode": "lines",
         "opacity": 0.6323851203501094,
         "type": "scattergeo"
        },
        {
         "lat": [
          41.979595,
          33.67565861
         ],
         "line": {
          "color": "red",
          "width": 1
         },
         "locationmode": "USA-states",
         "lon": [
          -87.90446417,
          -117.86822250000002
         ],
         "mode": "lines",
         "opacity": 0.16630196936542668,
         "type": "scattergeo"
        },
        {
         "lat": [
          38.85208333,
          38.74768694
         ],
         "line": {
          "color": "red",
          "width": 1
         },
         "locationmode": "USA-states",
         "lon": [
          -77.03772222,
          -90.35998972
         ],
         "mode": "lines",
         "opacity": 0.2188183807439825,
         "type": "scattergeo"
        },
        {
         "lat": [
          25.79325,
          38.74768694
         ],
         "line": {
          "color": "red",
          "width": 1
         },
         "locationmode": "USA-states",
         "lon": [
          -80.29055556,
          -90.35998972
         ],
         "mode": "lines",
         "opacity": 0.1838074398249453,
         "type": "scattergeo"
        },
        {
         "lat": [
          25.79325,
          18.33730556
         ],
         "line": {
          "color": "red",
          "width": 1
         },
         "locationmode": "USA-states",
         "lon": [
          -80.29055556,
          -64.97336111
         ],
         "mode": "lines",
         "opacity": 0.12253829321663019,
         "type": "scattergeo"
        },
        {
         "lat": [
          25.79325,
          17.70188889
         ],
         "line": {
          "color": "red",
          "width": 1
         },
         "locationmode": "USA-states",
         "lon": [
          -80.29055556,
          -64.79855556
         ],
         "mode": "lines",
         "opacity": 0.06783369803063458,
         "type": "scattergeo"
        },
        {
         "lat": [
          32.89595056,
          27.97547222
         ],
         "line": {
          "color": "red",
          "width": 1
         },
         "locationmode": "USA-states",
         "lon": [
          -97.0372,
          -82.53325
         ],
         "mode": "lines",
         "opacity": 0.4288840262582057,
         "type": "scattergeo"
        },
        {
         "lat": [
          25.79325,
          27.97547222
         ],
         "line": {
          "color": "red",
          "width": 1
         },
         "locationmode": "USA-states",
         "lon": [
          -80.29055556,
          -82.53325
         ],
         "mode": "lines",
         "opacity": 0.32603938730853393,
         "type": "scattergeo"
        },
        {
         "lat": [
          41.979595,
          27.97547222
         ],
         "line": {
          "color": "red",
          "width": 1
         },
         "locationmode": "USA-states",
         "lon": [
          -87.90446417,
          -82.53325
         ],
         "mode": "lines",
         "opacity": 0.16411378555798686,
         "type": "scattergeo"
        },
        {
         "lat": [
          18.43941667,
          27.97547222
         ],
         "line": {
          "color": "red",
          "width": 1
         },
         "locationmode": "USA-states",
         "lon": [
          -66.00183333,
          -82.53325
         ],
         "mode": "lines",
         "opacity": 0.061269146608315096,
         "type": "scattergeo"
        },
        {
         "lat": [
          32.89595056,
          36.19837222
         ],
         "line": {
          "color": "red",
          "width": 1
         },
         "locationmode": "USA-states",
         "lon": [
          -97.0372,
          -95.88824167
         ],
         "mode": "lines",
         "opacity": 0.42669584245076586,
         "type": "scattergeo"
        },
        {
         "lat": [
          32.89595056,
          32.11608333
         ],
         "line": {
          "color": "red",
          "width": 1
         },
         "locationmode": "USA-states",
         "lon": [
          -97.0372,
          -110.94102779999999
         ],
         "mode": "lines",
         "opacity": 0.45842450765864334,
         "type": "scattergeo"
        },
        {
         "hoverinfo": "text",
         "lat": [
          41.979595,
          33.64044444,
          32.89595056,
          33.43416667,
          39.85840806,
          29.98047222,
          37.61900194,
          33.94253611,
          28.42888889,
          35.21401111,
          40.78838778,
          27.97547222,
          40.69249722,
          36.08036111,
          39.87195278,
          44.88054694,
          47.44898194,
          40.77724306,
          41.7859825,
          38.94453194,
          32.73355611,
          38.74768694,
          42.21205889,
          40.63975111,
          25.79325,
          42.3643475,
          38.69542167,
          39.17540167,
          33.67565861,
          29.99338889,
          37.36186194,
          38.85208333,
          45.58872222,
          26.53616667,
          26.68316194,
          35.87763889,
          29.64541861,
          29.53369444,
          26.07258333,
          39.29760528,
          37.72129083,
          40.49146583,
          35.04241667,
          42.94722222,
          41.41089417,
          30.49405556,
          32.11608333,
          39.71732917,
          39.49857611,
          35.39308833,
          41.72399917,
          36.19837222,
          39.04614278,
          39.99798528,
          38.17438889,
          34.056,
          34.72939611,
          32.84711389,
          41.30251861,
          36.89461111,
          39.90237583,
          43.11886611,
          36.28186944,
          36.12447667,
          35.04022222,
          32.31116667,
          31.80666667,
          37.50516667,
          41.93887417,
          31.94252778,
          30.53316083,
          35.81248722,
          38.80580556,
          30.47330556,
          43.11118694,
          33.56294306,
          42.93451639,
          33.82921556,
          27.39533333,
          27.77036083,
          34.6404475,
          33.93884,
          30.20527972,
          34.42621194,
          47.61985556,
          30.69141667,
          37.64995889,
          42.94052472,
          41.53493306,
          40.19349528,
          43.64616667,
          32.30064417,
          37.13189556,
          41.06695778,
          36.5869825,
          42.88081972,
          30.448674,
          32.65658333,
          39.22316,
          30.39652778,
          30.40728028,
          44.04532139,
          33.81772222,
          34.27061111,
          38.03697222,
          43.13985778,
          44.123259999999995,
          32.12758333,
          33.66363889,
          41.88458833,
          34.89566722,
          36.09774694,
          40.7952425,
          41.44852639,
          35.43619444,
          40.91631194,
          40.47798556,
          26.22850611,
          30.48325,
          32.446627500000005,
          46.91934889,
          40.48118028,
          42.37422778,
          40.66424333,
          27.54373861,
          30.19453278,
          32.41132,
          37.24432611,
          42.96550333,
          36.47521417,
          31.06489778,
          32.89864639,
          44.48507333,
          44.25406722,
          32.51633333,
          41.70895361,
          43.56444444,
          33.67975,
          48.25937778,
          40.03925,
          37.32546833,
          39.64256778,
          43.60732417,
          45.77690139,
          39.1224125,
          34.20061917,
          38.03799139,
          38.53396333,
          43.51455556,
          36.77619444,
          39.84395194,
          26.17583333,
          40.50898361,
          47.949255,
          43.58135111,
          42.48180389,
          34.89924833,
          42.91130556,
          31.32133917,
          34.82916444,
          38.50886722,
          46.77411111,
          42.90835556,
          44.74144472,
          32.51086556,
          46.26468028,
          39.14096722,
          31.32737167,
          43.41713889,
          35.61677778,
          42.15614361,
          41.50409361,
          38.13863889,
          30.7825,
          44.77761917,
          35.65884306,
          40.97811528,
          31.25902778,
          40.85097222,
          40.97846583,
          44.52019417,
          37.06083333,
          35.23705806,
          41.33814944,
          33.45033444,
          44.34889806,
          35.07297222,
          33.369955,
          35.33659028,
          32.35413889,
          46.60681806,
          47.48200194,
          32.33313333,
          46.353639,
          37.95375861,
          35.03526833,
          46.37449806,
          37.70097028,
          42.74811944,
          44.47300361,
          48.31140472,
          28.10275,
          29.17991667,
          40.65236278,
          46.84209028,
          41.155722499999996,
          41.5942175,
          37.85830556,
          38.37315083,
          48.79275,
          37.62404861,
          44.25740806,
          36.385913,
          27.91076333,
          33.98879611,
          34.99147222,
          44.86525722,
          42.40295944,
          43.90882639,
          34.681499,
          45.8076625
         ],
         "locationmode": "USA-states",
         "lon": [
          -87.90446417,
          -84.42694444,
          -97.0372,
          -112.00805559999999,
          -104.6670019,
          -95.33972222,
          -122.3748433,
          -118.40807439999999,
          -81.31602778,
          -80.94312583,
          -111.9777731,
          -82.53325,
          -74.16866056,
          -115.15233329999998,
          -75.24114083,
          -93.2169225,
          -122.30931310000001,
          -73.87260917,
          -87.75242444,
          -77.45580972,
          -117.1896567,
          -90.35998972,
          -83.34883583,
          -73.77892556,
          -80.29055556,
          -71.00517917,
          -121.5907669,
          -76.66819833,
          -117.86822250000002,
          -90.25802778,
          -121.92900890000001,
          -77.03772222,
          -122.5975,
          -81.75516667,
          -80.09559417,
          -78.78747222,
          -95.27888889,
          -98.46977778,
          -80.15275,
          -94.71390556,
          -122.22071670000001,
          -80.23287083,
          -89.97666667,
          -87.89658333,
          -81.84939667,
          -81.68786111,
          -110.94102779999999,
          -86.29438417,
          -119.76806470000001,
          -97.60073389,
          -71.42822111,
          -95.88824167,
          -84.6621725,
          -82.89188278,
          -85.736,
          -117.60119440000001,
          -92.22424556,
          -96.85177222,
          -95.89417306,
          -76.20122222,
          -84.219375,
          -77.67238389,
          -94.30681111,
          -86.67818222,
          -106.6091944,
          -90.07588889,
          -106.37780559999999,
          -77.31966667,
          -72.68322833,
          -102.20191390000001,
          -91.14963444,
          -83.99285583,
          -104.70025,
          -87.18744444,
          -76.10631056,
          -86.75354972,
          -71.43705583,
          -116.5062531,
          -82.55411111,
          -97.50121528,
          -86.77310944,
          -81.11953944,
          -91.987655,
          -119.8403733,
          -117.5338425,
          -88.24283333,
          -97.43304583,
          -78.73216667,
          -93.66068222,
          -76.76340361,
          -70.30875,
          -86.39397611,
          -76.4929875,
          -73.70757444,
          -121.84294779999999,
          -85.52276778,
          -84.550781,
          -114.60597220000001,
          -106.868845,
          -84.35033333,
          -89.07009278,
          -103.0573708,
          -118.1516111,
          -77.90255556,
          -84.60538889,
          -89.33751361,
          -123.21868559999999,
          -81.20213889,
          -101.8227778,
          -91.71087222,
          -82.21885833,
          -79.9372975,
          -73.10021194,
          -90.50753917,
          -82.54180556,
          -81.44246556,
          -88.91595278,
          -97.65439389,
          -86.5254,
          -93.82559833,
          -96.81498889,
          -107.21765970000001,
          -122.8734978,
          -89.69330556,
          -99.46154361,
          -97.66987194,
          -99.68189722,
          -93.38685806,
          -83.74345639,
          -82.40742056,
          -97.82779778,
          -80.04050583,
          -88.12959000000001,
          -121.1499633,
          -84.93886111,
          -86.31847417,
          -116.22277779999999,
          -78.92833333,
          -101.2803339,
          -88.27805556,
          -79.97542833,
          -106.91769529999999,
          -110.7377389,
          -111.15300719999999,
          -108.5267347,
          -118.3584969,
          -87.53062667,
          -106.9331817,
          -112.07016670000002,
          -119.7181389,
          -89.67761861,
          -98.23861111,
          -122.2934019,
          -97.17611111,
          -96.74170028,
          -114.4877356,
          -120.4575825,
          -112.59586110000001,
          -85.44962889,
          -77.61213778,
          -107.89383329999998,
          -100.74672220000001,
          -106.46446609999998,
          -85.582235,
          -92.03768778,
          -119.11902920000001,
          -96.67083278,
          -92.54855611,
          -124.2460278,
          -106.08813889999999,
          -121.7332081,
          -74.10483833,
          -78.45286111,
          -83.27672222,
          -89.66677944,
          -117.8295122,
          -124.1086189,
          -81.46630556,
          -96.75925,
          -85.19514639,
          -109.02379609999998,
          -88.77375,
          -120.64239309999999,
          -75.72426750000001,
          -88.59136861,
          -105.5393614,
          -77.04294444,
          -81.96449611,
          -94.36744111,
          -95.40238611,
          -111.9827503,
          -111.37068529999999,
          -88.75120556,
          -87.395361,
          -107.90848000000001,
          -85.20378778,
          -117.01539440000002,
          -113.098575,
          -73.80297861,
          -73.1503125,
          -114.25506940000001,
          -80.64580556,
          -81.05805556,
          -75.44040167,
          -92.19364861,
          -104.81183809999999,
          -109.0651928,
          -80.39947222,
          -81.59318972,
          -122.53752779999999,
          -118.8377722,
          -88.51947556,
          -92.548828,
          -82.68743944,
          -98.49189333,
          -78.88,
          -91.48507194,
          -90.70916722,
          -92.49798722,
          -90.348816,
          -108.54286110000001
         ],
         "marker": {
          "color": "rgb(255, 0, 0)",
          "line": {
           "color": "rgba(68, 68, 68, 0)",
           "width": 3
          },
          "size": 5
         },
         "mode": "markers",
         "text": [
          "Chicago O'Hare International",
          "William B Hartsfield-Atlanta Intl",
          "Dallas-Fort Worth International",
          "Phoenix Sky Harbor International",
          "Denver Intl",
          "George Bush Intercontinental",
          "San Francisco International",
          "Los Angeles International",
          "Orlando International",
          "Charlotte/Douglas International",
          "Salt Lake City Intl",
          "Tampa International ",
          "Newark Intl",
          "McCarran International",
          "Philadelphia Intl",
          "Minneapolis-St Paul Intl",
          "Seattle-Tacoma Intl",
          "LaGuardia",
          "Chicago Midway",
          "Washington Dulles International",
          "San Diego International-Lindbergh ",
          "Lambert-St Louis International",
          "Detroit Metropolitan-Wayne County",
          "John F Kennedy Intl",
          "Miami International",
          "Gen Edw L Logan Intl",
          "Sacramento International",
          "Baltimore-Washington International",
          "John Wayne /Orange Co",
          "New Orleans International ",
          "San Jose International",
          "Ronald Reagan Washington National",
          "Portland Intl",
          "Southwest Florida International",
          "Palm Beach International",
          "Raleigh-Durham International",
          "William P Hobby",
          "San Antonio International",
          "Fort Lauderdale-Hollywood Int'l",
          "Kansas City International",
          "Metropolitan Oakland International",
          "Pittsburgh International",
          "Memphis International",
          "General Mitchell International",
          "Cleveland-Hopkins Intl",
          "Jacksonville International",
          "Tucson International",
          "Indianapolis International",
          "Reno/Tahoe International",
          "Will Rogers World",
          "Theodore F Green State",
          "Tulsa International",
          "Cincinnati Northern Kentucky Intl",
          "Port Columbus Intl",
          "Louisville International-Standiford ",
          "Ontario International",
          "Adams ",
          "Dallas Love ",
          "Eppley Airfield",
          "Norfolk International",
          "James M Cox Dayton Intl",
          "Greater Rochester Int'l",
          "Northwest Arkansas Regional",
          "Nashville International",
          "Albuquerque International",
          "Jackson International",
          "El Paso International",
          "Richmond International",
          "Bradley International",
          "Midland International",
          "Baton Rouge Metropolitan, Ryan ",
          "McGhee-Tyson",
          "City of Colorado Springs Muni",
          "Pensacola Regional",
          "Syracuse-Hancock Intl",
          "Birmingham International",
          "Manchester",
          "Palm Springs International",
          "Sarasota Bradenton International",
          "Corpus Christi International",
          "Huntsville International ",
          "Columbia Metropolitan",
          "Lafayette Regional",
          "Santa Barbara Municipal",
          "Spokane Intl",
          "Mobile Regional",
          "Wichita Mid-Continent",
          "Buffalo Niagara Intl",
          "Des Moines International",
          "Harrisburg Intl",
          "Portland International Jetport",
          "Montgomery Regional Apt",
          "Newport News/Williamsburg International",
          "Westchester Cty",
          "Monterey Peninsula",
          "Kent County International",
          "Florida Beach",
          "Yuma MCAS-Yuma International",
          "Aspen-Pitkin Co/Sardy ",
          "Tallahassee Regional",
          "Gulfport-Biloxi Regional",
          "Rapid City Regional",
          "Long Beach (Daugherty )",
          "Wilmington International",
          "Blue Grass ",
          "Dane County Regional",
          "Mahlon Sweet ",
          "Savannah International",
          "Lubbock International",
          "Eastern Iowa ",
          "Greenville-Spartanburg",
          "Piedmont Triad International",
          "Long Island - MacArthur",
          "Quad City",
          "Asheville Regional",
          "Akron-Canton Regional",
          "Central Illinois Regional",
          "Valley International",
          "Eglin Air Force Base",
          "Shreveport Regional",
          "Hector International",
          "Yampa Valley",
          "Rogue Valley International",
          "Greater Peoria Regional",
          "Laredo International",
          "Austin-Bergstrom International",
          "Abilene Regional",
          "Springfield-Branson Regional",
          "Bishop",
          "Tri-Cities Regional",
          "Robert Gray AAF",
          "Charleston AFB/International",
          "Austin Straubel International",
          "Roberts ",
          "Columbus Metropolitan",
          "South Bend Regional",
          "Boise Air Terminal",
          "Myrtle Beach International",
          "Minot International",
          "University of Illinois-Willard",
          "Roanoke Regional/ Woodrum ",
          "Eagle County Regional",
          "Jackson Hole",
          "Gallatin ",
          "Walker ",
          "Burbank-Glendale-Pasadena",
          "Evansville Regional",
          "Gunnison County",
          "Idaho Falls Regional",
          "Fresno Yosemite International",
          "Capital",
          "McAllen Miller International",
          "Redding Municipal",
          "Grand Forks International",
          "Joe Foss ",
          "Joslin Field - Magic Valley",
          "Santa Maria Pub/Capt G Allan Hancock ",
          "Pocatello Regional",
          "Dothan ",
          "Albert J Ellis",
          "Montrose Regional",
          "Bismarck Municipal",
          "Natrona County Intl",
          "Cherry Capital",
          "Monroe Regional",
          "Tri-Cities",
          "Manhattan Regional",
          "Alexandria International",
          "North Bend Muni",
          "Santa Fe Municipal",
          "Klamath Falls International",
          "Stewart",
          "Charlottesville-Albermarle",
          "Valdosta Regional",
          "Central Wisconsin",
          "Inyokern",
          "Arcata",
          "Glynco Jetport",
          "Lincoln Municipal",
          "Fort Wayne International",
          "Yellowstone Regional",
          "Barkley Regional",
          "San Luis Obispo Co-McChesney ",
          "Wilkes-Barre/Scranton Intl",
          "Golden Triangle Regional",
          "Gillette-Campbell County",
          "Craven County Regional",
          "Bush ",
          "Fort Smith Regional",
          "Tyler Pounds ",
          "Helena Regional",
          "Great Falls Intl",
          "Key ",
          "Marquette County Airport",
          "Telluride Regional",
          "Lovell ",
          "Lewiston-Nez Perce County",
          "Cedar City Muni",
          "Albany Cty",
          "Burlington International",
          "Glacier Park Intl",
          "Melbourne International ",
          "Daytona Beach International",
          "Lehigh Valley International",
          "Duluth International",
          "Cheyenne",
          "Rock Springs-Sweetwater County",
          "Greenbrier Valley",
          "Yeager",
          "Bellingham Intl",
          "Mammoth Yosemite",
          "Outagamie County Regional",
          "Branson Airport",
          "St. Petersburg-Clearwater International",
          "Sheppard AFB/Wichita Falls Municipal",
          "Fayetteville Municipal",
          "Chippewa Valley Regional",
          "Dubuque Municipal",
          "Rochester International",
          "Tunica Municipal Airport",
          "Billings Logan Intl"
         ],
         "type": "scattergeo"
        }
       ],
       "layout": {
        "geo": {
         "countrycolor": "rgb(204, 204, 204)",
         "landcolor": "rgb(243, 243, 243)",
         "projection": {
          "type": "azimuthal equal area"
         },
         "scope": "north america",
         "showland": true
        },
        "showlegend": false,
        "title": "Feb. 2011 American Airline flight paths<br>(Hover for airport names)"
       }
      },
      "text/html": [
       "<div id=\"3151c18d-afe7-4598-a1d9-5a2f74c7fc2b\" style=\"height: 525px; width: 100%;\" class=\"plotly-graph-div\"></div><script type=\"text/javascript\">require([\"plotly\"], function(Plotly) { window.PLOTLYENV=window.PLOTLYENV || {};window.PLOTLYENV.BASE_URL=\"https://plot.ly\";Plotly.newPlot(\"3151c18d-afe7-4598-a1d9-5a2f74c7fc2b\", [{\"type\": \"scattergeo\", \"locationmode\": \"USA-states\", \"lon\": [-97.0372, -106.6091944], \"lat\": [32.89595056, 35.04022222], \"mode\": \"lines\", \"line\": {\"width\": 1, \"color\": \"red\"}, \"opacity\": 0.48577680525164113}, {\"type\": \"scattergeo\", \"locationmode\": \"USA-states\", \"lon\": [-87.90446417, -97.66987194], \"lat\": [41.979595, 30.19453278], \"mode\": \"lines\", \"line\": {\"width\": 1, \"color\": \"red\"}, \"opacity\": 0.18161925601750548}, {\"type\": \"scattergeo\", \"locationmode\": \"USA-states\", \"lon\": [-97.0372, -72.68322833], \"lat\": [32.89595056, 41.93887417], \"mode\": \"lines\", \"line\": {\"width\": 1, \"color\": \"red\"}, \"opacity\": 0.1772428884026258}, {\"type\": \"scattergeo\", \"locationmode\": \"USA-states\", \"lon\": [-66.00183333, -72.68322833], \"lat\": [18.43941667, 41.93887417], \"mode\": \"lines\", \"line\": {\"width\": 1, \"color\": \"red\"}, \"opacity\": 0.061269146608315096}, {\"type\": \"scattergeo\", \"locationmode\": \"USA-states\", \"lon\": [-97.0372, -86.75354972], \"lat\": [32.89595056, 33.56294306], \"mode\": \"lines\", \"line\": {\"width\": 1, \"color\": \"red\"}, \"opacity\": 0.1838074398249453}, {\"type\": \"scattergeo\", \"locationmode\": \"USA-states\", \"lon\": [-80.29055556, -86.67818222], \"lat\": [25.79325, 36.12447667], \"mode\": \"lines\", \"line\": {\"width\": 1, \"color\": \"red\"}, \"opacity\": 0.061269146608315096}, {\"type\": \"scattergeo\", \"locationmode\": \"USA-states\", \"lon\": [-97.0372, -71.00517917], \"lat\": [32.89595056, 42.3643475], \"mode\": \"lines\", \"line\": {\"width\": 1, \"color\": \"red\"}, \"opacity\": 0.4617067833698031}, {\"type\": \"scattergeo\", \"locationmode\": \"USA-states\", \"lon\": [-80.29055556, -71.00517917], \"lat\": [25.79325, 42.3643475], \"mode\": \"lines\", \"line\": {\"width\": 1, \"color\": \"red\"}, \"opacity\": 0.4288840262582057}, {\"type\": \"scattergeo\", \"locationmode\": \"USA-states\", \"lon\": [-87.90446417, -71.00517917], \"lat\": [41.979595, 42.3643475], \"mode\": \"lines\", \"line\": {\"width\": 1, \"color\": \"red\"}, \"opacity\": 0.47045951859956237}, {\"type\": \"scattergeo\", \"locationmode\": \"USA-states\", \"lon\": [-66.00183333, -71.00517917], \"lat\": [18.43941667, 42.3643475], \"mode\": \"lines\", \"line\": {\"width\": 1, \"color\": \"red\"}, \"opacity\": 0.061269146608315096}, {\"type\": \"scattergeo\", \"locationmode\": \"USA-states\", \"lon\": [-64.97336111, -71.00517917], \"lat\": [18.33730556, 42.3643475], \"mode\": \"lines\", \"line\": {\"width\": 1, \"color\": \"red\"}, \"opacity\": 0.04814004376367615}, {\"type\": \"scattergeo\", \"locationmode\": \"USA-states\", \"lon\": [-80.29055556, -76.66819833], \"lat\": [25.79325, 39.17540167], \"mode\": \"lines\", \"line\": {\"width\": 1, \"color\": \"red\"}, \"opacity\": 0.12253829321663019}, {\"type\": \"scattergeo\", \"locationmode\": \"USA-states\", \"lon\": [-66.00183333, -76.66819833], \"lat\": [18.43941667, 39.17540167], \"mode\": \"lines\", \"line\": {\"width\": 1, \"color\": \"red\"}, \"opacity\": 0.061269146608315096}, {\"type\": \"scattergeo\", \"locationmode\": \"USA-states\", \"lon\": [-97.0372, -80.94312583], \"lat\": [32.89595056, 35.21401111], \"mode\": \"lines\", \"line\": {\"width\": 1, \"color\": \"red\"}, \"opacity\": 0.3938730853391685}, {\"type\": \"scattergeo\", \"locationmode\": \"USA-states\", \"lon\": [-97.0372, -104.70025], \"lat\": [32.89595056, 38.80580556], \"mode\": \"lines\", \"line\": {\"width\": 1, \"color\": \"red\"}, \"opacity\": 0.3041575492341357}, {\"type\": \"scattergeo\", \"locationmode\": \"USA-states\", \"lon\": [-97.0372, -84.219375], \"lat\": [32.89595056, 39.90237583], \"mode\": \"lines\", \"line\": {\"width\": 1, \"color\": \"red\"}, \"opacity\": 0.1137855579868709}, {\"type\": \"scattergeo\", \"locationmode\": \"USA-states\", \"lon\": [-97.0372, -77.03772222], \"lat\": [32.89595056, 38.85208333], \"mode\": \"lines\", \"line\": {\"width\": 1, \"color\": \"red\"}, \"opacity\": 0.6433260393873085}, {\"type\": \"scattergeo\", \"locationmode\": \"USA-states\", \"lon\": [-80.29055556, -104.6670019], \"lat\": [25.79325, 39.85840806], \"mode\": \"lines\", \"line\": {\"width\": 1, \"color\": \"red\"}, \"opacity\": 0.12253829321663019}, {\"type\": \"scattergeo\", \"locationmode\": \"USA-states\", \"lon\": [-87.90446417, -104.6670019], \"lat\": [41.979595, 39.85840806], \"mode\": \"lines\", \"line\": {\"width\": 1, \"color\": \"red\"}, \"opacity\": 0.12253829321663019}, {\"type\": \"scattergeo\", \"locationmode\": \"USA-states\", \"lon\": [-84.42694444, -97.0372], \"lat\": [33.64044444, 32.89595056], \"mode\": \"lines\", \"line\": {\"width\": 1, \"color\": \"red\"}, \"opacity\": 0.6345733041575492}, {\"type\": \"scattergeo\", \"locationmode\": \"USA-states\", \"lon\": [-97.66987194, -97.0372], \"lat\": [30.19453278, 32.89595056], \"mode\": \"lines\", \"line\": {\"width\": 1, \"color\": \"red\"}, \"opacity\": 0.8971553610503282}, {\"type\": \"scattergeo\", \"locationmode\": \"USA-states\", \"lon\": [-86.67818222, -97.0372], \"lat\": [36.12447667, 32.89595056], \"mode\": \"lines\", \"line\": {\"width\": 1, \"color\": \"red\"}, \"opacity\": 0.47702407002188185}, {\"type\": \"scattergeo\", \"locationmode\": \"USA-states\", \"lon\": [-118.3584969, -97.0372], \"lat\": [34.20061917, 32.89595056], \"mode\": \"lines\", \"line\": {\"width\": 1, \"color\": \"red\"}, \"opacity\": 0.2275711159737418}, {\"type\": \"scattergeo\", \"locationmode\": \"USA-states\", \"lon\": [-76.66819833, -97.0372], \"lat\": [39.17540167, 32.89595056], \"mode\": \"lines\", \"line\": {\"width\": 1, \"color\": \"red\"}, \"opacity\": 0.35667396061269147}, {\"type\": \"scattergeo\", \"locationmode\": \"USA-states\", \"lon\": [-82.89188278, -97.0372], \"lat\": [39.99798528, 32.89595056], \"mode\": \"lines\", \"line\": {\"width\": 1, \"color\": \"red\"}, \"opacity\": 0.1137855579868709}, {\"type\": \"scattergeo\", \"locationmode\": \"USA-states\", \"lon\": [-104.6670019, -97.0372], \"lat\": [39.85840806, 32.89595056], \"mode\": \"lines\", \"line\": {\"width\": 1, \"color\": \"red\"}, \"opacity\": 0.6105032822757112}, {\"type\": \"scattergeo\", \"locationmode\": \"USA-states\", \"lon\": [-83.34883583, -97.0372], \"lat\": [42.21205889, 32.89595056], \"mode\": \"lines\", \"line\": {\"width\": 1, \"color\": \"red\"}, \"opacity\": 0.2844638949671772}, {\"type\": \"scattergeo\", \"locationmode\": \"USA-states\", \"lon\": [-106.91769529999999, -97.0372], \"lat\": [39.64256778, 32.89595056], \"mode\": \"lines\", \"line\": {\"width\": 1, \"color\": \"red\"}, \"opacity\": 0.1487964989059081}, {\"type\": \"scattergeo\", \"locationmode\": \"USA-states\", \"lon\": [-74.16866056, -97.0372], \"lat\": [40.69249722, 32.89595056], \"mode\": \"lines\", \"line\": {\"width\": 1, \"color\": \"red\"}, \"opacity\": 0.33916849015317285}, {\"type\": \"scattergeo\", \"locationmode\": \"USA-states\", \"lon\": [-119.7181389, -97.0372], \"lat\": [36.77619444, 32.89595056], \"mode\": \"lines\", \"line\": {\"width\": 1, \"color\": \"red\"}, \"opacity\": 0.12253829321663019}, {\"type\": \"scattergeo\", \"locationmode\": \"USA-states\", \"lon\": [-80.15275, -97.0372], \"lat\": [26.07258333, 32.89595056], \"mode\": \"lines\", \"line\": {\"width\": 1, \"color\": \"red\"}, \"opacity\": 0.3676148796498906}, {\"type\": \"scattergeo\", \"locationmode\": \"USA-states\", \"lon\": [-86.77310944, -97.0372], \"lat\": [34.6404475, 32.89595056], \"mode\": \"lines\", \"line\": {\"width\": 1, \"color\": \"red\"}, \"opacity\": 0.17286652078774617}, {\"type\": \"scattergeo\", \"locationmode\": \"USA-states\", \"lon\": [-95.33972222, -97.0372], \"lat\": [29.98047222, 32.89595056], \"mode\": \"lines\", \"line\": {\"width\": 1, \"color\": \"red\"}, \"opacity\": 0.3544857768052516}, {\"type\": \"scattergeo\", \"locationmode\": \"USA-states\", \"lon\": [-118.40807439999999, -97.0372], \"lat\": [33.94253611, 32.89595056], \"mode\": \"lines\", \"line\": {\"width\": 1, \"color\": \"red\"}, \"opacity\": 1.0}, {\"type\": \"scattergeo\", \"locationmode\": \"USA-states\", \"lon\": [-94.71390556, -97.0372], \"lat\": [39.29760528, 32.89595056], \"mode\": \"lines\", \"line\": {\"width\": 1, \"color\": \"red\"}, \"opacity\": 0.47702407002188185}, {\"type\": \"scattergeo\", \"locationmode\": \"USA-states\", \"lon\": [-81.31602778, -97.0372], \"lat\": [28.42888889, 32.89595056], \"mode\": \"lines\", \"line\": {\"width\": 1, \"color\": \"red\"}, \"opacity\": 0.5470459518599562}, {\"type\": \"scattergeo\", \"locationmode\": \"USA-states\", \"lon\": [-89.97666667, -97.0372], \"lat\": [35.04241667, 32.89595056], \"mode\": \"lines\", \"line\": {\"width\": 1, \"color\": \"red\"}, \"opacity\": 0.23413566739606126}, {\"type\": \"scattergeo\", \"locationmode\": \"USA-states\", \"lon\": [-98.23861111, -97.0372], \"lat\": [26.17583333, 32.89595056], \"mode\": \"lines\", \"line\": {\"width\": 1, \"color\": \"red\"}, \"opacity\": 0.23413566739606126}, {\"type\": \"scattergeo\", \"locationmode\": \"USA-states\", \"lon\": [-80.29055556, -97.0372], \"lat\": [25.79325, 32.89595056], \"mode\": \"lines\", \"line\": {\"width\": 1, \"color\": \"red\"}, \"opacity\": 0.612691466083151}, {\"type\": \"scattergeo\", \"locationmode\": \"USA-states\", \"lon\": [-93.2169225, -97.0372], \"lat\": [44.88054694, 32.89595056], \"mode\": \"lines\", \"line\": {\"width\": 1, \"color\": \"red\"}, \"opacity\": 0.35667396061269147}, {\"type\": \"scattergeo\", \"locationmode\": \"USA-states\", \"lon\": [-107.89383329999998, -97.0372], \"lat\": [38.50886722, 32.89595056], \"mode\": \"lines\", \"line\": {\"width\": 1, \"color\": \"red\"}, \"opacity\": 0.0175054704595186}, {\"type\": \"scattergeo\", \"locationmode\": \"USA-states\", \"lon\": [-156.43045780000003, -97.0372], \"lat\": [20.89864972, 32.89595056], \"mode\": \"lines\", \"line\": {\"width\": 1, \"color\": \"red\"}, \"opacity\": 0.061269146608315096}, {\"type\": \"scattergeo\", \"locationmode\": \"USA-states\", \"lon\": [-97.60073389, -97.0372], \"lat\": [35.39308833, 32.89595056], \"mode\": \"lines\", \"line\": {\"width\": 1, \"color\": \"red\"}, \"opacity\": 0.42669584245076586}, {\"type\": \"scattergeo\", \"locationmode\": \"USA-states\", \"lon\": [-95.89417306, -97.0372], \"lat\": [41.30251861, 32.89595056], \"mode\": \"lines\", \"line\": {\"width\": 1, \"color\": \"red\"}, \"opacity\": 0.2975929978118162}, {\"type\": \"scattergeo\", \"locationmode\": \"USA-states\", \"lon\": [-87.90446417, -97.0372], \"lat\": [41.979595, 32.89595056], \"mode\": \"lines\", \"line\": {\"width\": 1, \"color\": \"red\"}, \"opacity\": 0.9026258205689278}, {\"type\": \"scattergeo\", \"locationmode\": \"USA-states\", \"lon\": [-75.24114083, -97.0372], \"lat\": [39.87195278, 32.89595056], \"mode\": \"lines\", \"line\": {\"width\": 1, \"color\": \"red\"}, \"opacity\": 0.3522975929978118}, {\"type\": \"scattergeo\", \"locationmode\": \"USA-states\", \"lon\": [-112.00805559999999, -97.0372], \"lat\": [33.43416667, 32.89595056], \"mode\": \"lines\", \"line\": {\"width\": 1, \"color\": \"red\"}, \"opacity\": 0.6017505470459519}, {\"type\": \"scattergeo\", \"locationmode\": \"USA-states\", \"lon\": [-77.31966667, -97.0372], \"lat\": [37.50516667, 32.89595056], \"mode\": \"lines\", \"line\": {\"width\": 1, \"color\": \"red\"}, \"opacity\": 0.18161925601750548}, {\"type\": \"scattergeo\", \"locationmode\": \"USA-states\", \"lon\": [-119.76806470000001, -97.0372], \"lat\": [39.49857611, 32.89595056], \"mode\": \"lines\", \"line\": {\"width\": 1, \"color\": \"red\"}, \"opacity\": 0.16411378555798686}, {\"type\": \"scattergeo\", \"locationmode\": \"USA-states\", \"lon\": [-117.1896567, -97.0372], \"lat\": [32.73355611, 32.89595056], \"mode\": \"lines\", \"line\": {\"width\": 1, \"color\": \"red\"}, \"opacity\": 0.5470459518599562}, {\"type\": \"scattergeo\", \"locationmode\": \"USA-states\", \"lon\": [-98.46977778, -97.0372], \"lat\": [29.53369444, 32.89595056], \"mode\": \"lines\", \"line\": {\"width\": 1, \"color\": \"red\"}, \"opacity\": 0.9037199124726477}, {\"type\": \"scattergeo\", \"locationmode\": \"USA-states\", \"lon\": [-85.736, -97.0372], \"lat\": [38.17438889, 32.89595056], \"mode\": \"lines\", \"line\": {\"width\": 1, \"color\": \"red\"}, \"opacity\": 0.17943107221006566}, {\"type\": \"scattergeo\", \"locationmode\": \"USA-states\", \"lon\": [-122.3748433, -97.0372], \"lat\": [37.61900194, 32.89595056], \"mode\": \"lines\", \"line\": {\"width\": 1, \"color\": \"red\"}, \"opacity\": 0.5754923413566739}, {\"type\": \"scattergeo\", \"locationmode\": \"USA-states\", \"lon\": [-121.92900890000001, -97.0372], \"lat\": [37.36186194, 32.89595056], \"mode\": \"lines\", \"line\": {\"width\": 1, \"color\": \"red\"}, \"opacity\": 0.3479212253829322}, {\"type\": \"scattergeo\", \"locationmode\": \"USA-states\", \"lon\": [-111.9777731, -97.0372], \"lat\": [40.78838778, 32.89595056], \"mode\": \"lines\", \"line\": {\"width\": 1, \"color\": \"red\"}, \"opacity\": 0.3063457330415755}, {\"type\": \"scattergeo\", \"locationmode\": \"USA-states\", \"lon\": [-90.35998972, -97.0372], \"lat\": [38.74768694, 32.89595056], \"mode\": \"lines\", \"line\": {\"width\": 1, \"color\": \"red\"}, \"opacity\": 0.5317286652078774}, {\"type\": \"scattergeo\", \"locationmode\": \"USA-states\", \"lon\": [-94.30681111, -97.0372], \"lat\": [36.28186944, 32.89595056], \"mode\": \"lines\", \"line\": {\"width\": 1, \"color\": \"red\"}, \"opacity\": 0.05470459518599562}, {\"type\": \"scattergeo\", \"locationmode\": \"USA-states\", \"lon\": [-80.29055556, -83.34883583], \"lat\": [25.79325, 42.21205889], \"mode\": \"lines\", \"line\": {\"width\": 1, \"color\": \"red\"}, \"opacity\": 0.12253829321663019}, {\"type\": \"scattergeo\", \"locationmode\": \"USA-states\", \"lon\": [-73.87260917, -106.91769529999999], \"lat\": [40.77724306, 39.64256778], \"mode\": \"lines\", \"line\": {\"width\": 1, \"color\": \"red\"}, \"opacity\": 0.0087527352297593}, {\"type\": \"scattergeo\", \"locationmode\": \"USA-states\", \"lon\": [-87.90446417, -106.91769529999999], \"lat\": [41.979595, 39.64256778], \"mode\": \"lines\", \"line\": {\"width\": 1, \"color\": \"red\"}, \"opacity\": 0.0700218818380744}, {\"type\": \"scattergeo\", \"locationmode\": \"USA-states\", \"lon\": [-97.0372, -106.37780559999999], \"lat\": [32.89595056, 31.80666667], \"mode\": \"lines\", \"line\": {\"width\": 1, \"color\": \"red\"}, \"opacity\": 0.474835886214442}, {\"type\": \"scattergeo\", \"locationmode\": \"USA-states\", \"lon\": [-118.40807439999999, -74.16866056], \"lat\": [33.94253611, 40.69249722], \"mode\": \"lines\", \"line\": {\"width\": 1, \"color\": \"red\"}, \"opacity\": 0.05908096280087528}, {\"type\": \"scattergeo\", \"locationmode\": \"USA-states\", \"lon\": [-80.29055556, -74.16866056], \"lat\": [25.79325, 40.69249722], \"mode\": \"lines\", \"line\": {\"width\": 1, \"color\": \"red\"}, \"opacity\": 0.1838074398249453}, {\"type\": \"scattergeo\", \"locationmode\": \"USA-states\", \"lon\": [-73.77892556, -80.15275], \"lat\": [40.63975111, 26.07258333], \"mode\": \"lines\", \"line\": {\"width\": 1, \"color\": \"red\"}, \"opacity\": 0.12253829321663019}, {\"type\": \"scattergeo\", \"locationmode\": \"USA-states\", \"lon\": [-97.0372, -107.21765970000001], \"lat\": [32.89595056, 40.48118028], \"mode\": \"lines\", \"line\": {\"width\": 1, \"color\": \"red\"}, \"opacity\": 0.0700218818380744}, {\"type\": \"scattergeo\", \"locationmode\": \"USA-states\", \"lon\": [-97.0372, -157.92240719999998], \"lat\": [32.89595056, 21.31869111], \"mode\": \"lines\", \"line\": {\"width\": 1, \"color\": \"red\"}, \"opacity\": 0.12253829321663019}, {\"type\": \"scattergeo\", \"locationmode\": \"USA-states\", \"lon\": [-118.40807439999999, -157.92240719999998], \"lat\": [33.94253611, 21.31869111], \"mode\": \"lines\", \"line\": {\"width\": 1, \"color\": \"red\"}, \"opacity\": 0.2363238512035011}, {\"type\": \"scattergeo\", \"locationmode\": \"USA-states\", \"lon\": [-97.0372, -77.45580972], \"lat\": [32.89595056, 38.94453194], \"mode\": \"lines\", \"line\": {\"width\": 1, \"color\": \"red\"}, \"opacity\": 0.33698030634573306}, {\"type\": \"scattergeo\", \"locationmode\": \"USA-states\", \"lon\": [-118.40807439999999, -77.45580972], \"lat\": [33.94253611, 38.94453194], \"mode\": \"lines\", \"line\": {\"width\": 1, \"color\": \"red\"}, \"opacity\": 0.18161925601750548}, {\"type\": \"scattergeo\", \"locationmode\": \"USA-states\", \"lon\": [-80.29055556, -77.45580972], \"lat\": [25.79325, 38.94453194], \"mode\": \"lines\", \"line\": {\"width\": 1, \"color\": \"red\"}, \"opacity\": 0.12253829321663019}, {\"type\": \"scattergeo\", \"locationmode\": \"USA-states\", \"lon\": [-80.29055556, -95.33972222], \"lat\": [25.79325, 29.98047222], \"mode\": \"lines\", \"line\": {\"width\": 1, \"color\": \"red\"}, \"opacity\": 0.1838074398249453}, {\"type\": \"scattergeo\", \"locationmode\": \"USA-states\", \"lon\": [-97.0372, -97.43304583], \"lat\": [32.89595056, 37.64995889], \"mode\": \"lines\", \"line\": {\"width\": 1, \"color\": \"red\"}, \"opacity\": 0.23413566739606126}, {\"type\": \"scattergeo\", \"locationmode\": \"USA-states\", \"lon\": [-97.0372, -86.29438417], \"lat\": [32.89595056, 39.71732917], \"mode\": \"lines\", \"line\": {\"width\": 1, \"color\": \"red\"}, \"opacity\": 0.3041575492341357}, {\"type\": \"scattergeo\", \"locationmode\": \"USA-states\", \"lon\": [-97.0372, -110.7377389], \"lat\": [32.89595056, 43.60732417], \"mode\": \"lines\", \"line\": {\"width\": 1, \"color\": \"red\"}, \"opacity\": 0.0262582056892779}, {\"type\": \"scattergeo\", \"locationmode\": \"USA-states\", \"lon\": [-97.0372, -81.68786111], \"lat\": [32.89595056, 30.49405556], \"mode\": \"lines\", \"line\": {\"width\": 1, \"color\": \"red\"}, \"opacity\": 0.2363238512035011}, {\"type\": \"scattergeo\", \"locationmode\": \"USA-states\", \"lon\": [-97.66987194, -73.77892556], \"lat\": [30.19453278, 40.63975111], \"mode\": \"lines\", \"line\": {\"width\": 1, \"color\": \"red\"}, \"opacity\": 0.061269146608315096}, {\"type\": \"scattergeo\", \"locationmode\": \"USA-states\", \"lon\": [-97.0372, -73.77892556], \"lat\": [32.89595056, 40.63975111], \"mode\": \"lines\", \"line\": {\"width\": 1, \"color\": \"red\"}, \"opacity\": 0.061269146608315096}, {\"type\": \"scattergeo\", \"locationmode\": \"USA-states\", \"lon\": [-106.91769529999999, -73.77892556], \"lat\": [39.64256778, 40.63975111], \"mode\": \"lines\", \"line\": {\"width\": 1, \"color\": \"red\"}, \"opacity\": 0.061269146608315096}, {\"type\": \"scattergeo\", \"locationmode\": \"USA-states\", \"lon\": [-81.31602778, -73.77892556], \"lat\": [28.42888889, 40.63975111], \"mode\": \"lines\", \"line\": {\"width\": 1, \"color\": \"red\"}, \"opacity\": 0.24507658643326038}, {\"type\": \"scattergeo\", \"locationmode\": \"USA-states\", \"lon\": [-80.29055556, -73.77892556], \"lat\": [25.79325, 40.63975111], \"mode\": \"lines\", \"line\": {\"width\": 1, \"color\": \"red\"}, \"opacity\": 0.4288840262582057}, {\"type\": \"scattergeo\", \"locationmode\": \"USA-states\", \"lon\": [-122.30931310000001, -73.77892556], \"lat\": [47.44898194, 40.63975111], \"mode\": \"lines\", \"line\": {\"width\": 1, \"color\": \"red\"}, \"opacity\": 0.061269146608315096}, {\"type\": \"scattergeo\", \"locationmode\": \"USA-states\", \"lon\": [-122.3748433, -73.77892556], \"lat\": [37.61900194, 40.63975111], \"mode\": \"lines\", \"line\": {\"width\": 1, \"color\": \"red\"}, \"opacity\": 0.3041575492341357}, {\"type\": \"scattergeo\", \"locationmode\": \"USA-states\", \"lon\": [-64.97336111, -73.77892556], \"lat\": [18.33730556, 40.63975111], \"mode\": \"lines\", \"line\": {\"width\": 1, \"color\": \"red\"}, \"opacity\": 0.061269146608315096}, {\"type\": \"scattergeo\", \"locationmode\": \"USA-states\", \"lon\": [-82.53325, -73.77892556], \"lat\": [27.97547222, 40.63975111], \"mode\": \"lines\", \"line\": {\"width\": 1, \"color\": \"red\"}, \"opacity\": 0.061269146608315096}, {\"type\": \"scattergeo\", \"locationmode\": \"USA-states\", \"lon\": [-97.0372, -115.15233329999998], \"lat\": [32.89595056, 36.08036111], \"mode\": \"lines\", \"line\": {\"width\": 1, \"color\": \"red\"}, \"opacity\": 0.6225382932166302}, {\"type\": \"scattergeo\", \"locationmode\": \"USA-states\", \"lon\": [-73.77892556, -115.15233329999998], \"lat\": [40.63975111, 36.08036111], \"mode\": \"lines\", \"line\": {\"width\": 1, \"color\": \"red\"}, \"opacity\": 0.12253829321663019}, {\"type\": \"scattergeo\", \"locationmode\": \"USA-states\", \"lon\": [-118.40807439999999, -115.15233329999998], \"lat\": [33.94253611, 36.08036111], \"mode\": \"lines\", \"line\": {\"width\": 1, \"color\": \"red\"}, \"opacity\": 0.24288840262582057}, {\"type\": \"scattergeo\", \"locationmode\": \"USA-states\", \"lon\": [-87.90446417, -115.15233329999998], \"lat\": [41.979595, 36.08036111], \"mode\": \"lines\", \"line\": {\"width\": 1, \"color\": \"red\"}, \"opacity\": 0.3063457330415755}, {\"type\": \"scattergeo\", \"locationmode\": \"USA-states\", \"lon\": [-97.66987194, -118.40807439999999], \"lat\": [30.19453278, 33.94253611], \"mode\": \"lines\", \"line\": {\"width\": 1, \"color\": \"red\"}, \"opacity\": 0.1772428884026258}, {\"type\": \"scattergeo\", \"locationmode\": \"USA-states\", \"lon\": [-86.67818222, -118.40807439999999], \"lat\": [36.12447667, 33.94253611], \"mode\": \"lines\", \"line\": {\"width\": 1, \"color\": \"red\"}, \"opacity\": 0.061269146608315096}, {\"type\": \"scattergeo\", \"locationmode\": \"USA-states\", \"lon\": [-71.00517917, -118.40807439999999], \"lat\": [42.3643475, 33.94253611], \"mode\": \"lines\", \"line\": {\"width\": 1, \"color\": \"red\"}, \"opacity\": 0.1838074398249453}, {\"type\": \"scattergeo\", \"locationmode\": \"USA-states\", \"lon\": [-106.91769529999999, -118.40807439999999], \"lat\": [39.64256778, 33.94253611], \"mode\": \"lines\", \"line\": {\"width\": 1, \"color\": \"red\"}, \"opacity\": 0.061269146608315096}, {\"type\": \"scattergeo\", \"locationmode\": \"USA-states\", \"lon\": [-73.77892556, -118.40807439999999], \"lat\": [40.63975111, 33.94253611], \"mode\": \"lines\", \"line\": {\"width\": 1, \"color\": \"red\"}, \"opacity\": 0.5995623632385121}, {\"type\": \"scattergeo\", \"locationmode\": \"USA-states\", \"lon\": [-156.0456314, -118.40807439999999], \"lat\": [19.73876583, 33.94253611], \"mode\": \"lines\", \"line\": {\"width\": 1, \"color\": \"red\"}, \"opacity\": 0.061269146608315096}, {\"type\": \"scattergeo\", \"locationmode\": \"USA-states\", \"lon\": [-156.43045780000003, -118.40807439999999], \"lat\": [20.89864972, 33.94253611], \"mode\": \"lines\", \"line\": {\"width\": 1, \"color\": \"red\"}, \"opacity\": 0.12253829321663019}, {\"type\": \"scattergeo\", \"locationmode\": \"USA-states\", \"lon\": [-87.90446417, -118.40807439999999], \"lat\": [41.979595, 33.94253611], \"mode\": \"lines\", \"line\": {\"width\": 1, \"color\": \"red\"}, \"opacity\": 0.5426695842450766}, {\"type\": \"scattergeo\", \"locationmode\": \"USA-states\", \"lon\": [-90.35998972, -118.40807439999999], \"lat\": [38.74768694, 33.94253611], \"mode\": \"lines\", \"line\": {\"width\": 1, \"color\": \"red\"}, \"opacity\": 0.18161925601750548}, {\"type\": \"scattergeo\", \"locationmode\": \"USA-states\", \"lon\": [-86.67818222, -73.87260917], \"lat\": [36.12447667, 40.77724306], \"mode\": \"lines\", \"line\": {\"width\": 1, \"color\": \"red\"}, \"opacity\": 0.11159737417943107}, {\"type\": \"scattergeo\", \"locationmode\": \"USA-states\", \"lon\": [-97.0372, -73.87260917], \"lat\": [32.89595056, 40.77724306], \"mode\": \"lines\", \"line\": {\"width\": 1, \"color\": \"red\"}, \"opacity\": 0.849015317286652}, {\"type\": \"scattergeo\", \"locationmode\": \"USA-states\", \"lon\": [-90.35998972, -73.87260917], \"lat\": [38.74768694, 40.77724306], \"mode\": \"lines\", \"line\": {\"width\": 1, \"color\": \"red\"}, \"opacity\": 0.22538293216630198}, {\"type\": \"scattergeo\", \"locationmode\": \"USA-states\", \"lon\": [-118.40807439999999, -159.3389581], \"lat\": [33.94253611, 21.97598306], \"mode\": \"lines\", \"line\": {\"width\": 1, \"color\": \"red\"}, \"opacity\": 0.061269146608315096}, {\"type\": \"scattergeo\", \"locationmode\": \"USA-states\", \"lon\": [-118.40807439999999, -81.31602778], \"lat\": [33.94253611, 28.42888889], \"mode\": \"lines\", \"line\": {\"width\": 1, \"color\": \"red\"}, \"opacity\": 0.061269146608315096}, {\"type\": \"scattergeo\", \"locationmode\": \"USA-states\", \"lon\": [-80.29055556, -81.31602778], \"lat\": [25.79325, 28.42888889], \"mode\": \"lines\", \"line\": {\"width\": 1, \"color\": \"red\"}, \"opacity\": 0.49015317286652077}, {\"type\": \"scattergeo\", \"locationmode\": \"USA-states\", \"lon\": [-84.42694444, -80.29055556], \"lat\": [33.64044444, 25.79325], \"mode\": \"lines\", \"line\": {\"width\": 1, \"color\": \"red\"}, \"opacity\": 0.24507658643326038}, {\"type\": \"scattergeo\", \"locationmode\": \"USA-states\", \"lon\": [-72.68322833, -80.29055556], \"lat\": [41.93887417, 25.79325], \"mode\": \"lines\", \"line\": {\"width\": 1, \"color\": \"red\"}, \"opacity\": 0.12253829321663019}, {\"type\": \"scattergeo\", \"locationmode\": \"USA-states\", \"lon\": [-77.03772222, -80.29055556], \"lat\": [38.85208333, 25.79325], \"mode\": \"lines\", \"line\": {\"width\": 1, \"color\": \"red\"}, \"opacity\": 0.5514223194748359}, {\"type\": \"scattergeo\", \"locationmode\": \"USA-states\", \"lon\": [-106.91769529999999, -80.29055556], \"lat\": [39.64256778, 25.79325], \"mode\": \"lines\", \"line\": {\"width\": 1, \"color\": \"red\"}, \"opacity\": 0.0525164113785558}, {\"type\": \"scattergeo\", \"locationmode\": \"USA-states\", \"lon\": [-115.15233329999998, -80.29055556], \"lat\": [36.08036111, 25.79325], \"mode\": \"lines\", \"line\": {\"width\": 1, \"color\": \"red\"}, \"opacity\": 0.1838074398249453}, {\"type\": \"scattergeo\", \"locationmode\": \"USA-states\", \"lon\": [-118.40807439999999, -80.29055556], \"lat\": [33.94253611, 25.79325], \"mode\": \"lines\", \"line\": {\"width\": 1, \"color\": \"red\"}, \"opacity\": 0.4288840262582057}, {\"type\": \"scattergeo\", \"locationmode\": \"USA-states\", \"lon\": [-73.87260917, -80.29055556], \"lat\": [40.77724306, 25.79325], \"mode\": \"lines\", \"line\": {\"width\": 1, \"color\": \"red\"}, \"opacity\": 0.6728665207877462}, {\"type\": \"scattergeo\", \"locationmode\": \"USA-states\", \"lon\": [-93.2169225, -80.29055556], \"lat\": [44.88054694, 25.79325], \"mode\": \"lines\", \"line\": {\"width\": 1, \"color\": \"red\"}, \"opacity\": 0.061269146608315096}, {\"type\": \"scattergeo\", \"locationmode\": \"USA-states\", \"lon\": [-87.90446417, -80.29055556], \"lat\": [41.979595, 25.79325], \"mode\": \"lines\", \"line\": {\"width\": 1, \"color\": \"red\"}, \"opacity\": 0.5525164113785558}, {\"type\": \"scattergeo\", \"locationmode\": \"USA-states\", \"lon\": [-75.24114083, -80.29055556], \"lat\": [39.87195278, 25.79325], \"mode\": \"lines\", \"line\": {\"width\": 1, \"color\": \"red\"}, \"opacity\": 0.1838074398249453}, {\"type\": \"scattergeo\", \"locationmode\": \"USA-states\", \"lon\": [-112.00805559999999, -80.29055556], \"lat\": [33.43416667, 25.79325], \"mode\": \"lines\", \"line\": {\"width\": 1, \"color\": \"red\"}, \"opacity\": 0.061269146608315096}, {\"type\": \"scattergeo\", \"locationmode\": \"USA-states\", \"lon\": [-122.3748433, -80.29055556], \"lat\": [37.61900194, 25.79325], \"mode\": \"lines\", \"line\": {\"width\": 1, \"color\": \"red\"}, \"opacity\": 0.1838074398249453}, {\"type\": \"scattergeo\", \"locationmode\": \"USA-states\", \"lon\": [-66.00183333, -80.29055556], \"lat\": [18.43941667, 25.79325], \"mode\": \"lines\", \"line\": {\"width\": 1, \"color\": \"red\"}, \"opacity\": 0.49015317286652077}, {\"type\": \"scattergeo\", \"locationmode\": \"USA-states\", \"lon\": [-95.88824167, -80.29055556], \"lat\": [36.19837222, 25.79325], \"mode\": \"lines\", \"line\": {\"width\": 1, \"color\": \"red\"}, \"opacity\": 0.00437636761487965}, {\"type\": \"scattergeo\", \"locationmode\": \"USA-states\", \"lon\": [-87.90446417, -93.2169225], \"lat\": [41.979595, 44.88054694], \"mode\": \"lines\", \"line\": {\"width\": 1, \"color\": \"red\"}, \"opacity\": 0.175054704595186}, {\"type\": \"scattergeo\", \"locationmode\": \"USA-states\", \"lon\": [-97.0372, -90.25802778], \"lat\": [32.89595056, 29.99338889], \"mode\": \"lines\", \"line\": {\"width\": 1, \"color\": \"red\"}, \"opacity\": 0.3676148796498906}, {\"type\": \"scattergeo\", \"locationmode\": \"USA-states\", \"lon\": [-80.29055556, -90.25802778], \"lat\": [25.79325, 29.99338889], \"mode\": \"lines\", \"line\": {\"width\": 1, \"color\": \"red\"}, \"opacity\": 0.1838074398249453}, {\"type\": \"scattergeo\", \"locationmode\": \"USA-states\", \"lon\": [-87.90446417, -90.25802778], \"lat\": [41.979595, 29.99338889], \"mode\": \"lines\", \"line\": {\"width\": 1, \"color\": \"red\"}, \"opacity\": 0.16301969365426697}, {\"type\": \"scattergeo\", \"locationmode\": \"USA-states\", \"lon\": [-97.0372, -117.60119440000001], \"lat\": [32.89595056, 34.056], \"mode\": \"lines\", \"line\": {\"width\": 1, \"color\": \"red\"}, \"opacity\": 0.24288840262582057}, {\"type\": \"scattergeo\", \"locationmode\": \"USA-states\", \"lon\": [-77.03772222, -87.90446417], \"lat\": [38.85208333, 41.979595], \"mode\": \"lines\", \"line\": {\"width\": 1, \"color\": \"red\"}, \"opacity\": 0.3544857768052516}, {\"type\": \"scattergeo\", \"locationmode\": \"USA-states\", \"lon\": [-74.16866056, -87.90446417], \"lat\": [40.69249722, 41.979595], \"mode\": \"lines\", \"line\": {\"width\": 1, \"color\": \"red\"}, \"opacity\": 0.1838074398249453}, {\"type\": \"scattergeo\", \"locationmode\": \"USA-states\", \"lon\": [-80.15275, -87.90446417], \"lat\": [26.07258333, 41.979595], \"mode\": \"lines\", \"line\": {\"width\": 1, \"color\": \"red\"}, \"opacity\": 0.1838074398249453}, {\"type\": \"scattergeo\", \"locationmode\": \"USA-states\", \"lon\": [-107.21765970000001, -87.90446417], \"lat\": [40.48118028, 41.979595], \"mode\": \"lines\", \"line\": {\"width\": 1, \"color\": \"red\"}, \"opacity\": 0.0525164113785558}, {\"type\": \"scattergeo\", \"locationmode\": \"USA-states\", \"lon\": [-157.92240719999998, -87.90446417], \"lat\": [21.31869111, 41.979595], \"mode\": \"lines\", \"line\": {\"width\": 1, \"color\": \"red\"}, \"opacity\": 0.05032822757111598}, {\"type\": \"scattergeo\", \"locationmode\": \"USA-states\", \"lon\": [-110.7377389, -87.90446417], \"lat\": [43.60732417, 41.979595], \"mode\": \"lines\", \"line\": {\"width\": 1, \"color\": \"red\"}, \"opacity\": 0.061269146608315096}, {\"type\": \"scattergeo\", \"locationmode\": \"USA-states\", \"lon\": [-73.77892556, -87.90446417], \"lat\": [40.63975111, 41.979595], \"mode\": \"lines\", \"line\": {\"width\": 1, \"color\": \"red\"}, \"opacity\": 0.061269146608315096}, {\"type\": \"scattergeo\", \"locationmode\": \"USA-states\", \"lon\": [-73.87260917, -87.90446417], \"lat\": [40.77724306, 41.979595], \"mode\": \"lines\", \"line\": {\"width\": 1, \"color\": \"red\"}, \"opacity\": 0.9409190371991247}, {\"type\": \"scattergeo\", \"locationmode\": \"USA-states\", \"lon\": [-94.71390556, -87.90446417], \"lat\": [39.29760528, 41.979595], \"mode\": \"lines\", \"line\": {\"width\": 1, \"color\": \"red\"}, \"opacity\": 0.23413566739606126}, {\"type\": \"scattergeo\", \"locationmode\": \"USA-states\", \"lon\": [-81.31602778, -87.90446417], \"lat\": [28.42888889, 41.979595], \"mode\": \"lines\", \"line\": {\"width\": 1, \"color\": \"red\"}, \"opacity\": 0.24507658643326038}, {\"type\": \"scattergeo\", \"locationmode\": \"USA-states\", \"lon\": [-78.78747222, -87.90446417], \"lat\": [35.87763889, 41.979595], \"mode\": \"lines\", \"line\": {\"width\": 1, \"color\": \"red\"}, \"opacity\": 0.17067833698030635}, {\"type\": \"scattergeo\", \"locationmode\": \"USA-states\", \"lon\": [-119.76806470000001, -87.90446417], \"lat\": [39.49857611, 41.979595], \"mode\": \"lines\", \"line\": {\"width\": 1, \"color\": \"red\"}, \"opacity\": 0.061269146608315096}, {\"type\": \"scattergeo\", \"locationmode\": \"USA-states\", \"lon\": [-117.1896567, -87.90446417], \"lat\": [32.73355611, 41.979595], \"mode\": \"lines\", \"line\": {\"width\": 1, \"color\": \"red\"}, \"opacity\": 0.24507658643326038}, {\"type\": \"scattergeo\", \"locationmode\": \"USA-states\", \"lon\": [-98.46977778, -87.90446417], \"lat\": [29.53369444, 41.979595], \"mode\": \"lines\", \"line\": {\"width\": 1, \"color\": \"red\"}, \"opacity\": 0.12253829321663019}, {\"type\": \"scattergeo\", \"locationmode\": \"USA-states\", \"lon\": [-121.92900890000001, -87.90446417], \"lat\": [37.36186194, 41.979595], \"mode\": \"lines\", \"line\": {\"width\": 1, \"color\": \"red\"}, \"opacity\": 0.12253829321663019}, {\"type\": \"scattergeo\", \"locationmode\": \"USA-states\", \"lon\": [-66.00183333, -87.90446417], \"lat\": [18.43941667, 41.979595], \"mode\": \"lines\", \"line\": {\"width\": 1, \"color\": \"red\"}, \"opacity\": 0.12253829321663019}, {\"type\": \"scattergeo\", \"locationmode\": \"USA-states\", \"lon\": [-90.35998972, -87.90446417], \"lat\": [38.74768694, 41.979595], \"mode\": \"lines\", \"line\": {\"width\": 1, \"color\": \"red\"}, \"opacity\": 0.5284463894967177}, {\"type\": \"scattergeo\", \"locationmode\": \"USA-states\", \"lon\": [-95.88824167, -87.90446417], \"lat\": [36.19837222, 41.979595], \"mode\": \"lines\", \"line\": {\"width\": 1, \"color\": \"red\"}, \"opacity\": 0.061269146608315096}, {\"type\": \"scattergeo\", \"locationmode\": \"USA-states\", \"lon\": [-110.94102779999999, -87.90446417], \"lat\": [32.11608333, 41.979595], \"mode\": \"lines\", \"line\": {\"width\": 1, \"color\": \"red\"}, \"opacity\": 0.12253829321663019}, {\"type\": \"scattergeo\", \"locationmode\": \"USA-states\", \"lon\": [-97.0372, -76.20122222], \"lat\": [32.89595056, 36.89461111], \"mode\": \"lines\", \"line\": {\"width\": 1, \"color\": \"red\"}, \"opacity\": 0.12253829321663019}, {\"type\": \"scattergeo\", \"locationmode\": \"USA-states\", \"lon\": [-97.0372, -80.09559417], \"lat\": [32.89595056, 26.68316194], \"mode\": \"lines\", \"line\": {\"width\": 1, \"color\": \"red\"}, \"opacity\": 0.12253829321663019}, {\"type\": \"scattergeo\", \"locationmode\": \"USA-states\", \"lon\": [-87.90446417, -80.09559417], \"lat\": [41.979595, 26.68316194], \"mode\": \"lines\", \"line\": {\"width\": 1, \"color\": \"red\"}, \"opacity\": 0.16411378555798686}, {\"type\": \"scattergeo\", \"locationmode\": \"USA-states\", \"lon\": [-97.0372, -122.5975], \"lat\": [32.89595056, 45.58872222], \"mode\": \"lines\", \"line\": {\"width\": 1, \"color\": \"red\"}, \"opacity\": 0.24507658643326038}, {\"type\": \"scattergeo\", \"locationmode\": \"USA-states\", \"lon\": [-87.90446417, -75.24114083], \"lat\": [41.979595, 39.87195278], \"mode\": \"lines\", \"line\": {\"width\": 1, \"color\": \"red\"}, \"opacity\": 0.12035010940919037}, {\"type\": \"scattergeo\", \"locationmode\": \"USA-states\", \"lon\": [-66.00183333, -75.24114083], \"lat\": [18.43941667, 39.87195278], \"mode\": \"lines\", \"line\": {\"width\": 1, \"color\": \"red\"}, \"opacity\": 0.061269146608315096}, {\"type\": \"scattergeo\", \"locationmode\": \"USA-states\", \"lon\": [-87.90446417, -112.00805559999999], \"lat\": [41.979595, 33.43416667], \"mode\": \"lines\", \"line\": {\"width\": 1, \"color\": \"red\"}, \"opacity\": 0.3063457330415755}, {\"type\": \"scattergeo\", \"locationmode\": \"USA-states\", \"lon\": [-97.0372, -80.23287083], \"lat\": [32.89595056, 40.49146583], \"mode\": \"lines\", \"line\": {\"width\": 1, \"color\": \"red\"}, \"opacity\": 0.18599562363238512}, {\"type\": \"scattergeo\", \"locationmode\": \"USA-states\", \"lon\": [-97.0372, -116.5062531], \"lat\": [32.89595056, 33.82921556], \"mode\": \"lines\", \"line\": {\"width\": 1, \"color\": \"red\"}, \"opacity\": 0.1838074398249453}, {\"type\": \"scattergeo\", \"locationmode\": \"USA-states\", \"lon\": [-87.90446417, -116.5062531], \"lat\": [41.979595, 33.82921556], \"mode\": \"lines\", \"line\": {\"width\": 1, \"color\": \"red\"}, \"opacity\": 0.0700218818380744}, {\"type\": \"scattergeo\", \"locationmode\": \"USA-states\", \"lon\": [-97.0372, -78.78747222], \"lat\": [32.89595056, 35.87763889], \"mode\": \"lines\", \"line\": {\"width\": 1, \"color\": \"red\"}, \"opacity\": 0.3041575492341357}, {\"type\": \"scattergeo\", \"locationmode\": \"USA-states\", \"lon\": [-80.29055556, -78.78747222], \"lat\": [25.79325, 35.87763889], \"mode\": \"lines\", \"line\": {\"width\": 1, \"color\": \"red\"}, \"opacity\": 0.1838074398249453}, {\"type\": \"scattergeo\", \"locationmode\": \"USA-states\", \"lon\": [-97.0372, -81.75516667], \"lat\": [32.89595056, 26.53616667], \"mode\": \"lines\", \"line\": {\"width\": 1, \"color\": \"red\"}, \"opacity\": 0.1838074398249453}, {\"type\": \"scattergeo\", \"locationmode\": \"USA-states\", \"lon\": [-87.90446417, -81.75516667], \"lat\": [41.979595, 26.53616667], \"mode\": \"lines\", \"line\": {\"width\": 1, \"color\": \"red\"}, \"opacity\": 0.1838074398249453}, {\"type\": \"scattergeo\", \"locationmode\": \"USA-states\", \"lon\": [-73.77892556, -117.1896567], \"lat\": [40.63975111, 32.73355611], \"mode\": \"lines\", \"line\": {\"width\": 1, \"color\": \"red\"}, \"opacity\": 0.061269146608315096}, {\"type\": \"scattergeo\", \"locationmode\": \"USA-states\", \"lon\": [-97.0372, -122.30931310000001], \"lat\": [32.89595056, 47.44898194], \"mode\": \"lines\", \"line\": {\"width\": 1, \"color\": \"red\"}, \"opacity\": 0.4288840262582057}, {\"type\": \"scattergeo\", \"locationmode\": \"USA-states\", \"lon\": [-87.90446417, -122.30931310000001], \"lat\": [41.979595, 47.44898194], \"mode\": \"lines\", \"line\": {\"width\": 1, \"color\": \"red\"}, \"opacity\": 0.23413566739606126}, {\"type\": \"scattergeo\", \"locationmode\": \"USA-states\", \"lon\": [-157.92240719999998, -122.3748433], \"lat\": [21.31869111, 37.61900194], \"mode\": \"lines\", \"line\": {\"width\": 1, \"color\": \"red\"}, \"opacity\": 0.061269146608315096}, {\"type\": \"scattergeo\", \"locationmode\": \"USA-states\", \"lon\": [-118.40807439999999, -122.3748433], \"lat\": [33.94253611, 37.61900194], \"mode\": \"lines\", \"line\": {\"width\": 1, \"color\": \"red\"}, \"opacity\": 0.3676148796498906}, {\"type\": \"scattergeo\", \"locationmode\": \"USA-states\", \"lon\": [-87.90446417, -122.3748433], \"lat\": [41.979595, 37.61900194], \"mode\": \"lines\", \"line\": {\"width\": 1, \"color\": \"red\"}, \"opacity\": 0.35667396061269147}, {\"type\": \"scattergeo\", \"locationmode\": \"USA-states\", \"lon\": [-97.0372, -66.00183333], \"lat\": [32.89595056, 18.43941667], \"mode\": \"lines\", \"line\": {\"width\": 1, \"color\": \"red\"}, \"opacity\": 0.13129102844638948}, {\"type\": \"scattergeo\", \"locationmode\": \"USA-states\", \"lon\": [-77.45580972, -66.00183333], \"lat\": [38.94453194, 18.43941667], \"mode\": \"lines\", \"line\": {\"width\": 1, \"color\": \"red\"}, \"opacity\": 0.061269146608315096}, {\"type\": \"scattergeo\", \"locationmode\": \"USA-states\", \"lon\": [-73.77892556, -66.00183333], \"lat\": [40.63975111, 18.43941667], \"mode\": \"lines\", \"line\": {\"width\": 1, \"color\": \"red\"}, \"opacity\": 0.1838074398249453}, {\"type\": \"scattergeo\", \"locationmode\": \"USA-states\", \"lon\": [-118.40807439999999, -66.00183333], \"lat\": [33.94253611, 18.43941667], \"mode\": \"lines\", \"line\": {\"width\": 1, \"color\": \"red\"}, \"opacity\": 0.0175054704595186}, {\"type\": \"scattergeo\", \"locationmode\": \"USA-states\", \"lon\": [-97.0372, -121.5907669], \"lat\": [32.89595056, 38.69542167], \"mode\": \"lines\", \"line\": {\"width\": 1, \"color\": \"red\"}, \"opacity\": 0.24507658643326038}, {\"type\": \"scattergeo\", \"locationmode\": \"USA-states\", \"lon\": [-97.0372, -117.86822250000002], \"lat\": [32.89595056, 33.67565861], \"mode\": \"lines\", \"line\": {\"width\": 1, \"color\": \"red\"}, \"opacity\": 0.6323851203501094}, {\"type\": \"scattergeo\", \"locationmode\": \"USA-states\", \"lon\": [-87.90446417, -117.86822250000002], \"lat\": [41.979595, 33.67565861], \"mode\": \"lines\", \"line\": {\"width\": 1, \"color\": \"red\"}, \"opacity\": 0.16630196936542668}, {\"type\": \"scattergeo\", \"locationmode\": \"USA-states\", \"lon\": [-77.03772222, -90.35998972], \"lat\": [38.85208333, 38.74768694], \"mode\": \"lines\", \"line\": {\"width\": 1, \"color\": \"red\"}, \"opacity\": 0.2188183807439825}, {\"type\": \"scattergeo\", \"locationmode\": \"USA-states\", \"lon\": [-80.29055556, -90.35998972], \"lat\": [25.79325, 38.74768694], \"mode\": \"lines\", \"line\": {\"width\": 1, \"color\": \"red\"}, \"opacity\": 0.1838074398249453}, {\"type\": \"scattergeo\", \"locationmode\": \"USA-states\", \"lon\": [-80.29055556, -64.97336111], \"lat\": [25.79325, 18.33730556], \"mode\": \"lines\", \"line\": {\"width\": 1, \"color\": \"red\"}, \"opacity\": 0.12253829321663019}, {\"type\": \"scattergeo\", \"locationmode\": \"USA-states\", \"lon\": [-80.29055556, -64.79855556], \"lat\": [25.79325, 17.70188889], \"mode\": \"lines\", \"line\": {\"width\": 1, \"color\": \"red\"}, \"opacity\": 0.06783369803063458}, {\"type\": \"scattergeo\", \"locationmode\": \"USA-states\", \"lon\": [-97.0372, -82.53325], \"lat\": [32.89595056, 27.97547222], \"mode\": \"lines\", \"line\": {\"width\": 1, \"color\": \"red\"}, \"opacity\": 0.4288840262582057}, {\"type\": \"scattergeo\", \"locationmode\": \"USA-states\", \"lon\": [-80.29055556, -82.53325], \"lat\": [25.79325, 27.97547222], \"mode\": \"lines\", \"line\": {\"width\": 1, \"color\": \"red\"}, \"opacity\": 0.32603938730853393}, {\"type\": \"scattergeo\", \"locationmode\": \"USA-states\", \"lon\": [-87.90446417, -82.53325], \"lat\": [41.979595, 27.97547222], \"mode\": \"lines\", \"line\": {\"width\": 1, \"color\": \"red\"}, \"opacity\": 0.16411378555798686}, {\"type\": \"scattergeo\", \"locationmode\": \"USA-states\", \"lon\": [-66.00183333, -82.53325], \"lat\": [18.43941667, 27.97547222], \"mode\": \"lines\", \"line\": {\"width\": 1, \"color\": \"red\"}, \"opacity\": 0.061269146608315096}, {\"type\": \"scattergeo\", \"locationmode\": \"USA-states\", \"lon\": [-97.0372, -95.88824167], \"lat\": [32.89595056, 36.19837222], \"mode\": \"lines\", \"line\": {\"width\": 1, \"color\": \"red\"}, \"opacity\": 0.42669584245076586}, {\"type\": \"scattergeo\", \"locationmode\": \"USA-states\", \"lon\": [-97.0372, -110.94102779999999], \"lat\": [32.89595056, 32.11608333], \"mode\": \"lines\", \"line\": {\"width\": 1, \"color\": \"red\"}, \"opacity\": 0.45842450765864334}, {\"type\": \"scattergeo\", \"locationmode\": \"USA-states\", \"lon\": [-87.90446417, -84.42694444, -97.0372, -112.00805559999999, -104.6670019, -95.33972222, -122.3748433, -118.40807439999999, -81.31602778, -80.94312583, -111.9777731, -82.53325, -74.16866056, -115.15233329999998, -75.24114083, -93.2169225, -122.30931310000001, -73.87260917, -87.75242444, -77.45580972, -117.1896567, -90.35998972, -83.34883583, -73.77892556, -80.29055556, -71.00517917, -121.5907669, -76.66819833, -117.86822250000002, -90.25802778, -121.92900890000001, -77.03772222, -122.5975, -81.75516667, -80.09559417, -78.78747222, -95.27888889, -98.46977778, -80.15275, -94.71390556, -122.22071670000001, -80.23287083, -89.97666667, -87.89658333, -81.84939667, -81.68786111, -110.94102779999999, -86.29438417, -119.76806470000001, -97.60073389, -71.42822111, -95.88824167, -84.6621725, -82.89188278, -85.736, -117.60119440000001, -92.22424556, -96.85177222, -95.89417306, -76.20122222, -84.219375, -77.67238389, -94.30681111, -86.67818222, -106.6091944, -90.07588889, -106.37780559999999, -77.31966667, -72.68322833, -102.20191390000001, -91.14963444, -83.99285583, -104.70025, -87.18744444, -76.10631056, -86.75354972, -71.43705583, -116.5062531, -82.55411111, -97.50121528, -86.77310944, -81.11953944, -91.987655, -119.8403733, -117.5338425, -88.24283333, -97.43304583, -78.73216667, -93.66068222, -76.76340361, -70.30875, -86.39397611, -76.4929875, -73.70757444, -121.84294779999999, -85.52276778, -84.550781, -114.60597220000001, -106.868845, -84.35033333, -89.07009278, -103.0573708, -118.1516111, -77.90255556, -84.60538889, -89.33751361, -123.21868559999999, -81.20213889, -101.8227778, -91.71087222, -82.21885833, -79.9372975, -73.10021194, -90.50753917, -82.54180556, -81.44246556, -88.91595278, -97.65439389, -86.5254, -93.82559833, -96.81498889, -107.21765970000001, -122.8734978, -89.69330556, -99.46154361, -97.66987194, -99.68189722, -93.38685806, -83.74345639, -82.40742056, -97.82779778, -80.04050583, -88.12959000000001, -121.1499633, -84.93886111, -86.31847417, -116.22277779999999, -78.92833333, -101.2803339, -88.27805556, -79.97542833, -106.91769529999999, -110.7377389, -111.15300719999999, -108.5267347, -118.3584969, -87.53062667, -106.9331817, -112.07016670000002, -119.7181389, -89.67761861, -98.23861111, -122.2934019, -97.17611111, -96.74170028, -114.4877356, -120.4575825, -112.59586110000001, -85.44962889, -77.61213778, -107.89383329999998, -100.74672220000001, -106.46446609999998, -85.582235, -92.03768778, -119.11902920000001, -96.67083278, -92.54855611, -124.2460278, -106.08813889999999, -121.7332081, -74.10483833, -78.45286111, -83.27672222, -89.66677944, -117.8295122, -124.1086189, -81.46630556, -96.75925, -85.19514639, -109.02379609999998, -88.77375, -120.64239309999999, -75.72426750000001, -88.59136861, -105.5393614, -77.04294444, -81.96449611, -94.36744111, -95.40238611, -111.9827503, -111.37068529999999, -88.75120556, -87.395361, -107.90848000000001, -85.20378778, -117.01539440000002, -113.098575, -73.80297861, -73.1503125, -114.25506940000001, -80.64580556, -81.05805556, -75.44040167, -92.19364861, -104.81183809999999, -109.0651928, -80.39947222, -81.59318972, -122.53752779999999, -118.8377722, -88.51947556, -92.548828, -82.68743944, -98.49189333, -78.88, -91.48507194, -90.70916722, -92.49798722, -90.348816, -108.54286110000001], \"lat\": [41.979595, 33.64044444, 32.89595056, 33.43416667, 39.85840806, 29.98047222, 37.61900194, 33.94253611, 28.42888889, 35.21401111, 40.78838778, 27.97547222, 40.69249722, 36.08036111, 39.87195278, 44.88054694, 47.44898194, 40.77724306, 41.7859825, 38.94453194, 32.73355611, 38.74768694, 42.21205889, 40.63975111, 25.79325, 42.3643475, 38.69542167, 39.17540167, 33.67565861, 29.99338889, 37.36186194, 38.85208333, 45.58872222, 26.53616667, 26.68316194, 35.87763889, 29.64541861, 29.53369444, 26.07258333, 39.29760528, 37.72129083, 40.49146583, 35.04241667, 42.94722222, 41.41089417, 30.49405556, 32.11608333, 39.71732917, 39.49857611, 35.39308833, 41.72399917, 36.19837222, 39.04614278, 39.99798528, 38.17438889, 34.056, 34.72939611, 32.84711389, 41.30251861, 36.89461111, 39.90237583, 43.11886611, 36.28186944, 36.12447667, 35.04022222, 32.31116667, 31.80666667, 37.50516667, 41.93887417, 31.94252778, 30.53316083, 35.81248722, 38.80580556, 30.47330556, 43.11118694, 33.56294306, 42.93451639, 33.82921556, 27.39533333, 27.77036083, 34.6404475, 33.93884, 30.20527972, 34.42621194, 47.61985556, 30.69141667, 37.64995889, 42.94052472, 41.53493306, 40.19349528, 43.64616667, 32.30064417, 37.13189556, 41.06695778, 36.5869825, 42.88081972, 30.448674, 32.65658333, 39.22316, 30.39652778, 30.40728028, 44.04532139, 33.81772222, 34.27061111, 38.03697222, 43.13985778, 44.123259999999995, 32.12758333, 33.66363889, 41.88458833, 34.89566722, 36.09774694, 40.7952425, 41.44852639, 35.43619444, 40.91631194, 40.47798556, 26.22850611, 30.48325, 32.446627500000005, 46.91934889, 40.48118028, 42.37422778, 40.66424333, 27.54373861, 30.19453278, 32.41132, 37.24432611, 42.96550333, 36.47521417, 31.06489778, 32.89864639, 44.48507333, 44.25406722, 32.51633333, 41.70895361, 43.56444444, 33.67975, 48.25937778, 40.03925, 37.32546833, 39.64256778, 43.60732417, 45.77690139, 39.1224125, 34.20061917, 38.03799139, 38.53396333, 43.51455556, 36.77619444, 39.84395194, 26.17583333, 40.50898361, 47.949255, 43.58135111, 42.48180389, 34.89924833, 42.91130556, 31.32133917, 34.82916444, 38.50886722, 46.77411111, 42.90835556, 44.74144472, 32.51086556, 46.26468028, 39.14096722, 31.32737167, 43.41713889, 35.61677778, 42.15614361, 41.50409361, 38.13863889, 30.7825, 44.77761917, 35.65884306, 40.97811528, 31.25902778, 40.85097222, 40.97846583, 44.52019417, 37.06083333, 35.23705806, 41.33814944, 33.45033444, 44.34889806, 35.07297222, 33.369955, 35.33659028, 32.35413889, 46.60681806, 47.48200194, 32.33313333, 46.353639, 37.95375861, 35.03526833, 46.37449806, 37.70097028, 42.74811944, 44.47300361, 48.31140472, 28.10275, 29.17991667, 40.65236278, 46.84209028, 41.155722499999996, 41.5942175, 37.85830556, 38.37315083, 48.79275, 37.62404861, 44.25740806, 36.385913, 27.91076333, 33.98879611, 34.99147222, 44.86525722, 42.40295944, 43.90882639, 34.681499, 45.8076625], \"hoverinfo\": \"text\", \"text\": [\"Chicago O'Hare International\", \"William B Hartsfield-Atlanta Intl\", \"Dallas-Fort Worth International\", \"Phoenix Sky Harbor International\", \"Denver Intl\", \"George Bush Intercontinental\", \"San Francisco International\", \"Los Angeles International\", \"Orlando International\", \"Charlotte/Douglas International\", \"Salt Lake City Intl\", \"Tampa International \", \"Newark Intl\", \"McCarran International\", \"Philadelphia Intl\", \"Minneapolis-St Paul Intl\", \"Seattle-Tacoma Intl\", \"LaGuardia\", \"Chicago Midway\", \"Washington Dulles International\", \"San Diego International-Lindbergh \", \"Lambert-St Louis International\", \"Detroit Metropolitan-Wayne County\", \"John F Kennedy Intl\", \"Miami International\", \"Gen Edw L Logan Intl\", \"Sacramento International\", \"Baltimore-Washington International\", \"John Wayne /Orange Co\", \"New Orleans International \", \"San Jose International\", \"Ronald Reagan Washington National\", \"Portland Intl\", \"Southwest Florida International\", \"Palm Beach International\", \"Raleigh-Durham International\", \"William P Hobby\", \"San Antonio International\", \"Fort Lauderdale-Hollywood Int'l\", \"Kansas City International\", \"Metropolitan Oakland International\", \"Pittsburgh International\", \"Memphis International\", \"General Mitchell International\", \"Cleveland-Hopkins Intl\", \"Jacksonville International\", \"Tucson International\", \"Indianapolis International\", \"Reno/Tahoe International\", \"Will Rogers World\", \"Theodore F Green State\", \"Tulsa International\", \"Cincinnati Northern Kentucky Intl\", \"Port Columbus Intl\", \"Louisville International-Standiford \", \"Ontario International\", \"Adams \", \"Dallas Love \", \"Eppley Airfield\", \"Norfolk International\", \"James M Cox Dayton Intl\", \"Greater Rochester Int'l\", \"Northwest Arkansas Regional\", \"Nashville International\", \"Albuquerque International\", \"Jackson International\", \"El Paso International\", \"Richmond International\", \"Bradley International\", \"Midland International\", \"Baton Rouge Metropolitan, Ryan \", \"McGhee-Tyson\", \"City of Colorado Springs Muni\", \"Pensacola Regional\", \"Syracuse-Hancock Intl\", \"Birmingham International\", \"Manchester\", \"Palm Springs International\", \"Sarasota Bradenton International\", \"Corpus Christi International\", \"Huntsville International \", \"Columbia Metropolitan\", \"Lafayette Regional\", \"Santa Barbara Municipal\", \"Spokane Intl\", \"Mobile Regional\", \"Wichita Mid-Continent\", \"Buffalo Niagara Intl\", \"Des Moines International\", \"Harrisburg Intl\", \"Portland International Jetport\", \"Montgomery Regional Apt\", \"Newport News/Williamsburg International\", \"Westchester Cty\", \"Monterey Peninsula\", \"Kent County International\", \"Florida Beach\", \"Yuma MCAS-Yuma International\", \"Aspen-Pitkin Co/Sardy \", \"Tallahassee Regional\", \"Gulfport-Biloxi Regional\", \"Rapid City Regional\", \"Long Beach (Daugherty )\", \"Wilmington International\", \"Blue Grass \", \"Dane County Regional\", \"Mahlon Sweet \", \"Savannah International\", \"Lubbock International\", \"Eastern Iowa \", \"Greenville-Spartanburg\", \"Piedmont Triad International\", \"Long Island - MacArthur\", \"Quad City\", \"Asheville Regional\", \"Akron-Canton Regional\", \"Central Illinois Regional\", \"Valley International\", \"Eglin Air Force Base\", \"Shreveport Regional\", \"Hector International\", \"Yampa Valley\", \"Rogue Valley International\", \"Greater Peoria Regional\", \"Laredo International\", \"Austin-Bergstrom International\", \"Abilene Regional\", \"Springfield-Branson Regional\", \"Bishop\", \"Tri-Cities Regional\", \"Robert Gray AAF\", \"Charleston AFB/International\", \"Austin Straubel International\", \"Roberts \", \"Columbus Metropolitan\", \"South Bend Regional\", \"Boise Air Terminal\", \"Myrtle Beach International\", \"Minot International\", \"University of Illinois-Willard\", \"Roanoke Regional/ Woodrum \", \"Eagle County Regional\", \"Jackson Hole\", \"Gallatin \", \"Walker \", \"Burbank-Glendale-Pasadena\", \"Evansville Regional\", \"Gunnison County\", \"Idaho Falls Regional\", \"Fresno Yosemite International\", \"Capital\", \"McAllen Miller International\", \"Redding Municipal\", \"Grand Forks International\", \"Joe Foss \", \"Joslin Field - Magic Valley\", \"Santa Maria Pub/Capt G Allan Hancock \", \"Pocatello Regional\", \"Dothan \", \"Albert J Ellis\", \"Montrose Regional\", \"Bismarck Municipal\", \"Natrona County Intl\", \"Cherry Capital\", \"Monroe Regional\", \"Tri-Cities\", \"Manhattan Regional\", \"Alexandria International\", \"North Bend Muni\", \"Santa Fe Municipal\", \"Klamath Falls International\", \"Stewart\", \"Charlottesville-Albermarle\", \"Valdosta Regional\", \"Central Wisconsin\", \"Inyokern\", \"Arcata\", \"Glynco Jetport\", \"Lincoln Municipal\", \"Fort Wayne International\", \"Yellowstone Regional\", \"Barkley Regional\", \"San Luis Obispo Co-McChesney \", \"Wilkes-Barre/Scranton Intl\", \"Golden Triangle Regional\", \"Gillette-Campbell County\", \"Craven County Regional\", \"Bush \", \"Fort Smith Regional\", \"Tyler Pounds \", \"Helena Regional\", \"Great Falls Intl\", \"Key \", \"Marquette County Airport\", \"Telluride Regional\", \"Lovell \", \"Lewiston-Nez Perce County\", \"Cedar City Muni\", \"Albany Cty\", \"Burlington International\", \"Glacier Park Intl\", \"Melbourne International \", \"Daytona Beach International\", \"Lehigh Valley International\", \"Duluth International\", \"Cheyenne\", \"Rock Springs-Sweetwater County\", \"Greenbrier Valley\", \"Yeager\", \"Bellingham Intl\", \"Mammoth Yosemite\", \"Outagamie County Regional\", \"Branson Airport\", \"St. Petersburg-Clearwater International\", \"Sheppard AFB/Wichita Falls Municipal\", \"Fayetteville Municipal\", \"Chippewa Valley Regional\", \"Dubuque Municipal\", \"Rochester International\", \"Tunica Municipal Airport\", \"Billings Logan Intl\"], \"mode\": \"markers\", \"marker\": {\"size\": 5, \"color\": \"rgb(255, 0, 0)\", \"line\": {\"width\": 3, \"color\": \"rgba(68, 68, 68, 0)\"}}}], {\"title\": \"Feb. 2011 American Airline flight paths<br>(Hover for airport names)\", \"showlegend\": false, \"geo\": {\"scope\": \"north america\", \"projection\": {\"type\": \"azimuthal equal area\"}, \"showland\": true, \"landcolor\": \"rgb(243, 243, 243)\", \"countrycolor\": \"rgb(204, 204, 204)\"}}, {\"showLink\": true, \"linkText\": \"Export to plot.ly\"})});</script>"
      ],
      "text/vnd.plotly.v1+html": [
       "<div id=\"3151c18d-afe7-4598-a1d9-5a2f74c7fc2b\" style=\"height: 525px; width: 100%;\" class=\"plotly-graph-div\"></div><script type=\"text/javascript\">require([\"plotly\"], function(Plotly) { window.PLOTLYENV=window.PLOTLYENV || {};window.PLOTLYENV.BASE_URL=\"https://plot.ly\";Plotly.newPlot(\"3151c18d-afe7-4598-a1d9-5a2f74c7fc2b\", [{\"type\": \"scattergeo\", \"locationmode\": \"USA-states\", \"lon\": [-97.0372, -106.6091944], \"lat\": [32.89595056, 35.04022222], \"mode\": \"lines\", \"line\": {\"width\": 1, \"color\": \"red\"}, \"opacity\": 0.48577680525164113}, {\"type\": \"scattergeo\", \"locationmode\": \"USA-states\", \"lon\": [-87.90446417, -97.66987194], \"lat\": [41.979595, 30.19453278], \"mode\": \"lines\", \"line\": {\"width\": 1, \"color\": \"red\"}, \"opacity\": 0.18161925601750548}, {\"type\": \"scattergeo\", \"locationmode\": \"USA-states\", \"lon\": [-97.0372, -72.68322833], \"lat\": [32.89595056, 41.93887417], \"mode\": \"lines\", \"line\": {\"width\": 1, \"color\": \"red\"}, \"opacity\": 0.1772428884026258}, {\"type\": \"scattergeo\", \"locationmode\": \"USA-states\", \"lon\": [-66.00183333, -72.68322833], \"lat\": [18.43941667, 41.93887417], \"mode\": \"lines\", \"line\": {\"width\": 1, \"color\": \"red\"}, \"opacity\": 0.061269146608315096}, {\"type\": \"scattergeo\", \"locationmode\": \"USA-states\", \"lon\": [-97.0372, -86.75354972], \"lat\": [32.89595056, 33.56294306], \"mode\": \"lines\", \"line\": {\"width\": 1, \"color\": \"red\"}, \"opacity\": 0.1838074398249453}, {\"type\": \"scattergeo\", \"locationmode\": \"USA-states\", \"lon\": [-80.29055556, -86.67818222], \"lat\": [25.79325, 36.12447667], \"mode\": \"lines\", \"line\": {\"width\": 1, \"color\": \"red\"}, \"opacity\": 0.061269146608315096}, {\"type\": \"scattergeo\", \"locationmode\": \"USA-states\", \"lon\": [-97.0372, -71.00517917], \"lat\": [32.89595056, 42.3643475], \"mode\": \"lines\", \"line\": {\"width\": 1, \"color\": \"red\"}, \"opacity\": 0.4617067833698031}, {\"type\": \"scattergeo\", \"locationmode\": \"USA-states\", \"lon\": [-80.29055556, -71.00517917], \"lat\": [25.79325, 42.3643475], \"mode\": \"lines\", \"line\": {\"width\": 1, \"color\": \"red\"}, \"opacity\": 0.4288840262582057}, {\"type\": \"scattergeo\", \"locationmode\": \"USA-states\", \"lon\": [-87.90446417, -71.00517917], \"lat\": [41.979595, 42.3643475], \"mode\": \"lines\", \"line\": {\"width\": 1, \"color\": \"red\"}, \"opacity\": 0.47045951859956237}, {\"type\": \"scattergeo\", \"locationmode\": \"USA-states\", \"lon\": [-66.00183333, -71.00517917], \"lat\": [18.43941667, 42.3643475], \"mode\": \"lines\", \"line\": {\"width\": 1, \"color\": \"red\"}, \"opacity\": 0.061269146608315096}, {\"type\": \"scattergeo\", \"locationmode\": \"USA-states\", \"lon\": [-64.97336111, -71.00517917], \"lat\": [18.33730556, 42.3643475], \"mode\": \"lines\", \"line\": {\"width\": 1, \"color\": \"red\"}, \"opacity\": 0.04814004376367615}, {\"type\": \"scattergeo\", \"locationmode\": \"USA-states\", \"lon\": [-80.29055556, -76.66819833], \"lat\": [25.79325, 39.17540167], \"mode\": \"lines\", \"line\": {\"width\": 1, \"color\": \"red\"}, \"opacity\": 0.12253829321663019}, {\"type\": \"scattergeo\", \"locationmode\": \"USA-states\", \"lon\": [-66.00183333, -76.66819833], \"lat\": [18.43941667, 39.17540167], \"mode\": \"lines\", \"line\": {\"width\": 1, \"color\": \"red\"}, \"opacity\": 0.061269146608315096}, {\"type\": \"scattergeo\", \"locationmode\": \"USA-states\", \"lon\": [-97.0372, -80.94312583], \"lat\": [32.89595056, 35.21401111], \"mode\": \"lines\", \"line\": {\"width\": 1, \"color\": \"red\"}, \"opacity\": 0.3938730853391685}, {\"type\": \"scattergeo\", \"locationmode\": \"USA-states\", \"lon\": [-97.0372, -104.70025], \"lat\": [32.89595056, 38.80580556], \"mode\": \"lines\", \"line\": {\"width\": 1, \"color\": \"red\"}, \"opacity\": 0.3041575492341357}, {\"type\": \"scattergeo\", \"locationmode\": \"USA-states\", \"lon\": [-97.0372, -84.219375], \"lat\": [32.89595056, 39.90237583], \"mode\": \"lines\", \"line\": {\"width\": 1, \"color\": \"red\"}, \"opacity\": 0.1137855579868709}, {\"type\": \"scattergeo\", \"locationmode\": \"USA-states\", \"lon\": [-97.0372, -77.03772222], \"lat\": [32.89595056, 38.85208333], \"mode\": \"lines\", \"line\": {\"width\": 1, \"color\": \"red\"}, \"opacity\": 0.6433260393873085}, {\"type\": \"scattergeo\", \"locationmode\": \"USA-states\", \"lon\": [-80.29055556, -104.6670019], \"lat\": [25.79325, 39.85840806], \"mode\": \"lines\", \"line\": {\"width\": 1, \"color\": \"red\"}, \"opacity\": 0.12253829321663019}, {\"type\": \"scattergeo\", \"locationmode\": \"USA-states\", \"lon\": [-87.90446417, -104.6670019], \"lat\": [41.979595, 39.85840806], \"mode\": \"lines\", \"line\": {\"width\": 1, \"color\": \"red\"}, \"opacity\": 0.12253829321663019}, {\"type\": \"scattergeo\", \"locationmode\": \"USA-states\", \"lon\": [-84.42694444, -97.0372], \"lat\": [33.64044444, 32.89595056], \"mode\": \"lines\", \"line\": {\"width\": 1, \"color\": \"red\"}, \"opacity\": 0.6345733041575492}, {\"type\": \"scattergeo\", \"locationmode\": \"USA-states\", \"lon\": [-97.66987194, -97.0372], \"lat\": [30.19453278, 32.89595056], \"mode\": \"lines\", \"line\": {\"width\": 1, \"color\": \"red\"}, \"opacity\": 0.8971553610503282}, {\"type\": \"scattergeo\", \"locationmode\": \"USA-states\", \"lon\": [-86.67818222, -97.0372], \"lat\": [36.12447667, 32.89595056], \"mode\": \"lines\", \"line\": {\"width\": 1, \"color\": \"red\"}, \"opacity\": 0.47702407002188185}, {\"type\": \"scattergeo\", \"locationmode\": \"USA-states\", \"lon\": [-118.3584969, -97.0372], \"lat\": [34.20061917, 32.89595056], \"mode\": \"lines\", \"line\": {\"width\": 1, \"color\": \"red\"}, \"opacity\": 0.2275711159737418}, {\"type\": \"scattergeo\", \"locationmode\": \"USA-states\", \"lon\": [-76.66819833, -97.0372], \"lat\": [39.17540167, 32.89595056], \"mode\": \"lines\", \"line\": {\"width\": 1, \"color\": \"red\"}, \"opacity\": 0.35667396061269147}, {\"type\": \"scattergeo\", \"locationmode\": \"USA-states\", \"lon\": [-82.89188278, -97.0372], \"lat\": [39.99798528, 32.89595056], \"mode\": \"lines\", \"line\": {\"width\": 1, \"color\": \"red\"}, \"opacity\": 0.1137855579868709}, {\"type\": \"scattergeo\", \"locationmode\": \"USA-states\", \"lon\": [-104.6670019, -97.0372], \"lat\": [39.85840806, 32.89595056], \"mode\": \"lines\", \"line\": {\"width\": 1, \"color\": \"red\"}, \"opacity\": 0.6105032822757112}, {\"type\": \"scattergeo\", \"locationmode\": \"USA-states\", \"lon\": [-83.34883583, -97.0372], \"lat\": [42.21205889, 32.89595056], \"mode\": \"lines\", \"line\": {\"width\": 1, \"color\": \"red\"}, \"opacity\": 0.2844638949671772}, {\"type\": \"scattergeo\", \"locationmode\": \"USA-states\", \"lon\": [-106.91769529999999, -97.0372], \"lat\": [39.64256778, 32.89595056], \"mode\": \"lines\", \"line\": {\"width\": 1, \"color\": \"red\"}, \"opacity\": 0.1487964989059081}, {\"type\": \"scattergeo\", \"locationmode\": \"USA-states\", \"lon\": [-74.16866056, -97.0372], \"lat\": [40.69249722, 32.89595056], \"mode\": \"lines\", \"line\": {\"width\": 1, \"color\": \"red\"}, \"opacity\": 0.33916849015317285}, {\"type\": \"scattergeo\", \"locationmode\": \"USA-states\", \"lon\": [-119.7181389, -97.0372], \"lat\": [36.77619444, 32.89595056], \"mode\": \"lines\", \"line\": {\"width\": 1, \"color\": \"red\"}, \"opacity\": 0.12253829321663019}, {\"type\": \"scattergeo\", \"locationmode\": \"USA-states\", \"lon\": [-80.15275, -97.0372], \"lat\": [26.07258333, 32.89595056], \"mode\": \"lines\", \"line\": {\"width\": 1, \"color\": \"red\"}, \"opacity\": 0.3676148796498906}, {\"type\": \"scattergeo\", \"locationmode\": \"USA-states\", \"lon\": [-86.77310944, -97.0372], \"lat\": [34.6404475, 32.89595056], \"mode\": \"lines\", \"line\": {\"width\": 1, \"color\": \"red\"}, \"opacity\": 0.17286652078774617}, {\"type\": \"scattergeo\", \"locationmode\": \"USA-states\", \"lon\": [-95.33972222, -97.0372], \"lat\": [29.98047222, 32.89595056], \"mode\": \"lines\", \"line\": {\"width\": 1, \"color\": \"red\"}, \"opacity\": 0.3544857768052516}, {\"type\": \"scattergeo\", \"locationmode\": \"USA-states\", \"lon\": [-118.40807439999999, -97.0372], \"lat\": [33.94253611, 32.89595056], \"mode\": \"lines\", \"line\": {\"width\": 1, \"color\": \"red\"}, \"opacity\": 1.0}, {\"type\": \"scattergeo\", \"locationmode\": \"USA-states\", \"lon\": [-94.71390556, -97.0372], \"lat\": [39.29760528, 32.89595056], \"mode\": \"lines\", \"line\": {\"width\": 1, \"color\": \"red\"}, \"opacity\": 0.47702407002188185}, {\"type\": \"scattergeo\", \"locationmode\": \"USA-states\", \"lon\": [-81.31602778, -97.0372], \"lat\": [28.42888889, 32.89595056], \"mode\": \"lines\", \"line\": {\"width\": 1, \"color\": \"red\"}, \"opacity\": 0.5470459518599562}, {\"type\": \"scattergeo\", \"locationmode\": \"USA-states\", \"lon\": [-89.97666667, -97.0372], \"lat\": [35.04241667, 32.89595056], \"mode\": \"lines\", \"line\": {\"width\": 1, \"color\": \"red\"}, \"opacity\": 0.23413566739606126}, {\"type\": \"scattergeo\", \"locationmode\": \"USA-states\", \"lon\": [-98.23861111, -97.0372], \"lat\": [26.17583333, 32.89595056], \"mode\": \"lines\", \"line\": {\"width\": 1, \"color\": \"red\"}, \"opacity\": 0.23413566739606126}, {\"type\": \"scattergeo\", \"locationmode\": \"USA-states\", \"lon\": [-80.29055556, -97.0372], \"lat\": [25.79325, 32.89595056], \"mode\": \"lines\", \"line\": {\"width\": 1, \"color\": \"red\"}, \"opacity\": 0.612691466083151}, {\"type\": \"scattergeo\", \"locationmode\": \"USA-states\", \"lon\": [-93.2169225, -97.0372], \"lat\": [44.88054694, 32.89595056], \"mode\": \"lines\", \"line\": {\"width\": 1, \"color\": \"red\"}, \"opacity\": 0.35667396061269147}, {\"type\": \"scattergeo\", \"locationmode\": \"USA-states\", \"lon\": [-107.89383329999998, -97.0372], \"lat\": [38.50886722, 32.89595056], \"mode\": \"lines\", \"line\": {\"width\": 1, \"color\": \"red\"}, \"opacity\": 0.0175054704595186}, {\"type\": \"scattergeo\", \"locationmode\": \"USA-states\", \"lon\": [-156.43045780000003, -97.0372], \"lat\": [20.89864972, 32.89595056], \"mode\": \"lines\", \"line\": {\"width\": 1, \"color\": \"red\"}, \"opacity\": 0.061269146608315096}, {\"type\": \"scattergeo\", \"locationmode\": \"USA-states\", \"lon\": [-97.60073389, -97.0372], \"lat\": [35.39308833, 32.89595056], \"mode\": \"lines\", \"line\": {\"width\": 1, \"color\": \"red\"}, \"opacity\": 0.42669584245076586}, {\"type\": \"scattergeo\", \"locationmode\": \"USA-states\", \"lon\": [-95.89417306, -97.0372], \"lat\": [41.30251861, 32.89595056], \"mode\": \"lines\", \"line\": {\"width\": 1, \"color\": \"red\"}, \"opacity\": 0.2975929978118162}, {\"type\": \"scattergeo\", \"locationmode\": \"USA-states\", \"lon\": [-87.90446417, -97.0372], \"lat\": [41.979595, 32.89595056], \"mode\": \"lines\", \"line\": {\"width\": 1, \"color\": \"red\"}, \"opacity\": 0.9026258205689278}, {\"type\": \"scattergeo\", \"locationmode\": \"USA-states\", \"lon\": [-75.24114083, -97.0372], \"lat\": [39.87195278, 32.89595056], \"mode\": \"lines\", \"line\": {\"width\": 1, \"color\": \"red\"}, \"opacity\": 0.3522975929978118}, {\"type\": \"scattergeo\", \"locationmode\": \"USA-states\", \"lon\": [-112.00805559999999, -97.0372], \"lat\": [33.43416667, 32.89595056], \"mode\": \"lines\", \"line\": {\"width\": 1, \"color\": \"red\"}, \"opacity\": 0.6017505470459519}, {\"type\": \"scattergeo\", \"locationmode\": \"USA-states\", \"lon\": [-77.31966667, -97.0372], \"lat\": [37.50516667, 32.89595056], \"mode\": \"lines\", \"line\": {\"width\": 1, \"color\": \"red\"}, \"opacity\": 0.18161925601750548}, {\"type\": \"scattergeo\", \"locationmode\": \"USA-states\", \"lon\": [-119.76806470000001, -97.0372], \"lat\": [39.49857611, 32.89595056], \"mode\": \"lines\", \"line\": {\"width\": 1, \"color\": \"red\"}, \"opacity\": 0.16411378555798686}, {\"type\": \"scattergeo\", \"locationmode\": \"USA-states\", \"lon\": [-117.1896567, -97.0372], \"lat\": [32.73355611, 32.89595056], \"mode\": \"lines\", \"line\": {\"width\": 1, \"color\": \"red\"}, \"opacity\": 0.5470459518599562}, {\"type\": \"scattergeo\", \"locationmode\": \"USA-states\", \"lon\": [-98.46977778, -97.0372], \"lat\": [29.53369444, 32.89595056], \"mode\": \"lines\", \"line\": {\"width\": 1, \"color\": \"red\"}, \"opacity\": 0.9037199124726477}, {\"type\": \"scattergeo\", \"locationmode\": \"USA-states\", \"lon\": [-85.736, -97.0372], \"lat\": [38.17438889, 32.89595056], \"mode\": \"lines\", \"line\": {\"width\": 1, \"color\": \"red\"}, \"opacity\": 0.17943107221006566}, {\"type\": \"scattergeo\", \"locationmode\": \"USA-states\", \"lon\": [-122.3748433, -97.0372], \"lat\": [37.61900194, 32.89595056], \"mode\": \"lines\", \"line\": {\"width\": 1, \"color\": \"red\"}, \"opacity\": 0.5754923413566739}, {\"type\": \"scattergeo\", \"locationmode\": \"USA-states\", \"lon\": [-121.92900890000001, -97.0372], \"lat\": [37.36186194, 32.89595056], \"mode\": \"lines\", \"line\": {\"width\": 1, \"color\": \"red\"}, \"opacity\": 0.3479212253829322}, {\"type\": \"scattergeo\", \"locationmode\": \"USA-states\", \"lon\": [-111.9777731, -97.0372], \"lat\": [40.78838778, 32.89595056], \"mode\": \"lines\", \"line\": {\"width\": 1, \"color\": \"red\"}, \"opacity\": 0.3063457330415755}, {\"type\": \"scattergeo\", \"locationmode\": \"USA-states\", \"lon\": [-90.35998972, -97.0372], \"lat\": [38.74768694, 32.89595056], \"mode\": \"lines\", \"line\": {\"width\": 1, \"color\": \"red\"}, \"opacity\": 0.5317286652078774}, {\"type\": \"scattergeo\", \"locationmode\": \"USA-states\", \"lon\": [-94.30681111, -97.0372], \"lat\": [36.28186944, 32.89595056], \"mode\": \"lines\", \"line\": {\"width\": 1, \"color\": \"red\"}, \"opacity\": 0.05470459518599562}, {\"type\": \"scattergeo\", \"locationmode\": \"USA-states\", \"lon\": [-80.29055556, -83.34883583], \"lat\": [25.79325, 42.21205889], \"mode\": \"lines\", \"line\": {\"width\": 1, \"color\": \"red\"}, \"opacity\": 0.12253829321663019}, {\"type\": \"scattergeo\", \"locationmode\": \"USA-states\", \"lon\": [-73.87260917, -106.91769529999999], \"lat\": [40.77724306, 39.64256778], \"mode\": \"lines\", \"line\": {\"width\": 1, \"color\": \"red\"}, \"opacity\": 0.0087527352297593}, {\"type\": \"scattergeo\", \"locationmode\": \"USA-states\", \"lon\": [-87.90446417, -106.91769529999999], \"lat\": [41.979595, 39.64256778], \"mode\": \"lines\", \"line\": {\"width\": 1, \"color\": \"red\"}, \"opacity\": 0.0700218818380744}, {\"type\": \"scattergeo\", \"locationmode\": \"USA-states\", \"lon\": [-97.0372, -106.37780559999999], \"lat\": [32.89595056, 31.80666667], \"mode\": \"lines\", \"line\": {\"width\": 1, \"color\": \"red\"}, \"opacity\": 0.474835886214442}, {\"type\": \"scattergeo\", \"locationmode\": \"USA-states\", \"lon\": [-118.40807439999999, -74.16866056], \"lat\": [33.94253611, 40.69249722], \"mode\": \"lines\", \"line\": {\"width\": 1, \"color\": \"red\"}, \"opacity\": 0.05908096280087528}, {\"type\": \"scattergeo\", \"locationmode\": \"USA-states\", \"lon\": [-80.29055556, -74.16866056], \"lat\": [25.79325, 40.69249722], \"mode\": \"lines\", \"line\": {\"width\": 1, \"color\": \"red\"}, \"opacity\": 0.1838074398249453}, {\"type\": \"scattergeo\", \"locationmode\": \"USA-states\", \"lon\": [-73.77892556, -80.15275], \"lat\": [40.63975111, 26.07258333], \"mode\": \"lines\", \"line\": {\"width\": 1, \"color\": \"red\"}, \"opacity\": 0.12253829321663019}, {\"type\": \"scattergeo\", \"locationmode\": \"USA-states\", \"lon\": [-97.0372, -107.21765970000001], \"lat\": [32.89595056, 40.48118028], \"mode\": \"lines\", \"line\": {\"width\": 1, \"color\": \"red\"}, \"opacity\": 0.0700218818380744}, {\"type\": \"scattergeo\", \"locationmode\": \"USA-states\", \"lon\": [-97.0372, -157.92240719999998], \"lat\": [32.89595056, 21.31869111], \"mode\": \"lines\", \"line\": {\"width\": 1, \"color\": \"red\"}, \"opacity\": 0.12253829321663019}, {\"type\": \"scattergeo\", \"locationmode\": \"USA-states\", \"lon\": [-118.40807439999999, -157.92240719999998], \"lat\": [33.94253611, 21.31869111], \"mode\": \"lines\", \"line\": {\"width\": 1, \"color\": \"red\"}, \"opacity\": 0.2363238512035011}, {\"type\": \"scattergeo\", \"locationmode\": \"USA-states\", \"lon\": [-97.0372, -77.45580972], \"lat\": [32.89595056, 38.94453194], \"mode\": \"lines\", \"line\": {\"width\": 1, \"color\": \"red\"}, \"opacity\": 0.33698030634573306}, {\"type\": \"scattergeo\", \"locationmode\": \"USA-states\", \"lon\": [-118.40807439999999, -77.45580972], \"lat\": [33.94253611, 38.94453194], \"mode\": \"lines\", \"line\": {\"width\": 1, \"color\": \"red\"}, \"opacity\": 0.18161925601750548}, {\"type\": \"scattergeo\", \"locationmode\": \"USA-states\", \"lon\": [-80.29055556, -77.45580972], \"lat\": [25.79325, 38.94453194], \"mode\": \"lines\", \"line\": {\"width\": 1, \"color\": \"red\"}, \"opacity\": 0.12253829321663019}, {\"type\": \"scattergeo\", \"locationmode\": \"USA-states\", \"lon\": [-80.29055556, -95.33972222], \"lat\": [25.79325, 29.98047222], \"mode\": \"lines\", \"line\": {\"width\": 1, \"color\": \"red\"}, \"opacity\": 0.1838074398249453}, {\"type\": \"scattergeo\", \"locationmode\": \"USA-states\", \"lon\": [-97.0372, -97.43304583], \"lat\": [32.89595056, 37.64995889], \"mode\": \"lines\", \"line\": {\"width\": 1, \"color\": \"red\"}, \"opacity\": 0.23413566739606126}, {\"type\": \"scattergeo\", \"locationmode\": \"USA-states\", \"lon\": [-97.0372, -86.29438417], \"lat\": [32.89595056, 39.71732917], \"mode\": \"lines\", \"line\": {\"width\": 1, \"color\": \"red\"}, \"opacity\": 0.3041575492341357}, {\"type\": \"scattergeo\", \"locationmode\": \"USA-states\", \"lon\": [-97.0372, -110.7377389], \"lat\": [32.89595056, 43.60732417], \"mode\": \"lines\", \"line\": {\"width\": 1, \"color\": \"red\"}, \"opacity\": 0.0262582056892779}, {\"type\": \"scattergeo\", \"locationmode\": \"USA-states\", \"lon\": [-97.0372, -81.68786111], \"lat\": [32.89595056, 30.49405556], \"mode\": \"lines\", \"line\": {\"width\": 1, \"color\": \"red\"}, \"opacity\": 0.2363238512035011}, {\"type\": \"scattergeo\", \"locationmode\": \"USA-states\", \"lon\": [-97.66987194, -73.77892556], \"lat\": [30.19453278, 40.63975111], \"mode\": \"lines\", \"line\": {\"width\": 1, \"color\": \"red\"}, \"opacity\": 0.061269146608315096}, {\"type\": \"scattergeo\", \"locationmode\": \"USA-states\", \"lon\": [-97.0372, -73.77892556], \"lat\": [32.89595056, 40.63975111], \"mode\": \"lines\", \"line\": {\"width\": 1, \"color\": \"red\"}, \"opacity\": 0.061269146608315096}, {\"type\": \"scattergeo\", \"locationmode\": \"USA-states\", \"lon\": [-106.91769529999999, -73.77892556], \"lat\": [39.64256778, 40.63975111], \"mode\": \"lines\", \"line\": {\"width\": 1, \"color\": \"red\"}, \"opacity\": 0.061269146608315096}, {\"type\": \"scattergeo\", \"locationmode\": \"USA-states\", \"lon\": [-81.31602778, -73.77892556], \"lat\": [28.42888889, 40.63975111], \"mode\": \"lines\", \"line\": {\"width\": 1, \"color\": \"red\"}, \"opacity\": 0.24507658643326038}, {\"type\": \"scattergeo\", \"locationmode\": \"USA-states\", \"lon\": [-80.29055556, -73.77892556], \"lat\": [25.79325, 40.63975111], \"mode\": \"lines\", \"line\": {\"width\": 1, \"color\": \"red\"}, \"opacity\": 0.4288840262582057}, {\"type\": \"scattergeo\", \"locationmode\": \"USA-states\", \"lon\": [-122.30931310000001, -73.77892556], \"lat\": [47.44898194, 40.63975111], \"mode\": \"lines\", \"line\": {\"width\": 1, \"color\": \"red\"}, \"opacity\": 0.061269146608315096}, {\"type\": \"scattergeo\", \"locationmode\": \"USA-states\", \"lon\": [-122.3748433, -73.77892556], \"lat\": [37.61900194, 40.63975111], \"mode\": \"lines\", \"line\": {\"width\": 1, \"color\": \"red\"}, \"opacity\": 0.3041575492341357}, {\"type\": \"scattergeo\", \"locationmode\": \"USA-states\", \"lon\": [-64.97336111, -73.77892556], \"lat\": [18.33730556, 40.63975111], \"mode\": \"lines\", \"line\": {\"width\": 1, \"color\": \"red\"}, \"opacity\": 0.061269146608315096}, {\"type\": \"scattergeo\", \"locationmode\": \"USA-states\", \"lon\": [-82.53325, -73.77892556], \"lat\": [27.97547222, 40.63975111], \"mode\": \"lines\", \"line\": {\"width\": 1, \"color\": \"red\"}, \"opacity\": 0.061269146608315096}, {\"type\": \"scattergeo\", \"locationmode\": \"USA-states\", \"lon\": [-97.0372, -115.15233329999998], \"lat\": [32.89595056, 36.08036111], \"mode\": \"lines\", \"line\": {\"width\": 1, \"color\": \"red\"}, \"opacity\": 0.6225382932166302}, {\"type\": \"scattergeo\", \"locationmode\": \"USA-states\", \"lon\": [-73.77892556, -115.15233329999998], \"lat\": [40.63975111, 36.08036111], \"mode\": \"lines\", \"line\": {\"width\": 1, \"color\": \"red\"}, \"opacity\": 0.12253829321663019}, {\"type\": \"scattergeo\", \"locationmode\": \"USA-states\", \"lon\": [-118.40807439999999, -115.15233329999998], \"lat\": [33.94253611, 36.08036111], \"mode\": \"lines\", \"line\": {\"width\": 1, \"color\": \"red\"}, \"opacity\": 0.24288840262582057}, {\"type\": \"scattergeo\", \"locationmode\": \"USA-states\", \"lon\": [-87.90446417, -115.15233329999998], \"lat\": [41.979595, 36.08036111], \"mode\": \"lines\", \"line\": {\"width\": 1, \"color\": \"red\"}, \"opacity\": 0.3063457330415755}, {\"type\": \"scattergeo\", \"locationmode\": \"USA-states\", \"lon\": [-97.66987194, -118.40807439999999], \"lat\": [30.19453278, 33.94253611], \"mode\": \"lines\", \"line\": {\"width\": 1, \"color\": \"red\"}, \"opacity\": 0.1772428884026258}, {\"type\": \"scattergeo\", \"locationmode\": \"USA-states\", \"lon\": [-86.67818222, -118.40807439999999], \"lat\": [36.12447667, 33.94253611], \"mode\": \"lines\", \"line\": {\"width\": 1, \"color\": \"red\"}, \"opacity\": 0.061269146608315096}, {\"type\": \"scattergeo\", \"locationmode\": \"USA-states\", \"lon\": [-71.00517917, -118.40807439999999], \"lat\": [42.3643475, 33.94253611], \"mode\": \"lines\", \"line\": {\"width\": 1, \"color\": \"red\"}, \"opacity\": 0.1838074398249453}, {\"type\": \"scattergeo\", \"locationmode\": \"USA-states\", \"lon\": [-106.91769529999999, -118.40807439999999], \"lat\": [39.64256778, 33.94253611], \"mode\": \"lines\", \"line\": {\"width\": 1, \"color\": \"red\"}, \"opacity\": 0.061269146608315096}, {\"type\": \"scattergeo\", \"locationmode\": \"USA-states\", \"lon\": [-73.77892556, -118.40807439999999], \"lat\": [40.63975111, 33.94253611], \"mode\": \"lines\", \"line\": {\"width\": 1, \"color\": \"red\"}, \"opacity\": 0.5995623632385121}, {\"type\": \"scattergeo\", \"locationmode\": \"USA-states\", \"lon\": [-156.0456314, -118.40807439999999], \"lat\": [19.73876583, 33.94253611], \"mode\": \"lines\", \"line\": {\"width\": 1, \"color\": \"red\"}, \"opacity\": 0.061269146608315096}, {\"type\": \"scattergeo\", \"locationmode\": \"USA-states\", \"lon\": [-156.43045780000003, -118.40807439999999], \"lat\": [20.89864972, 33.94253611], \"mode\": \"lines\", \"line\": {\"width\": 1, \"color\": \"red\"}, \"opacity\": 0.12253829321663019}, {\"type\": \"scattergeo\", \"locationmode\": \"USA-states\", \"lon\": [-87.90446417, -118.40807439999999], \"lat\": [41.979595, 33.94253611], \"mode\": \"lines\", \"line\": {\"width\": 1, \"color\": \"red\"}, \"opacity\": 0.5426695842450766}, {\"type\": \"scattergeo\", \"locationmode\": \"USA-states\", \"lon\": [-90.35998972, -118.40807439999999], \"lat\": [38.74768694, 33.94253611], \"mode\": \"lines\", \"line\": {\"width\": 1, \"color\": \"red\"}, \"opacity\": 0.18161925601750548}, {\"type\": \"scattergeo\", \"locationmode\": \"USA-states\", \"lon\": [-86.67818222, -73.87260917], \"lat\": [36.12447667, 40.77724306], \"mode\": \"lines\", \"line\": {\"width\": 1, \"color\": \"red\"}, \"opacity\": 0.11159737417943107}, {\"type\": \"scattergeo\", \"locationmode\": \"USA-states\", \"lon\": [-97.0372, -73.87260917], \"lat\": [32.89595056, 40.77724306], \"mode\": \"lines\", \"line\": {\"width\": 1, \"color\": \"red\"}, \"opacity\": 0.849015317286652}, {\"type\": \"scattergeo\", \"locationmode\": \"USA-states\", \"lon\": [-90.35998972, -73.87260917], \"lat\": [38.74768694, 40.77724306], \"mode\": \"lines\", \"line\": {\"width\": 1, \"color\": \"red\"}, \"opacity\": 0.22538293216630198}, {\"type\": \"scattergeo\", \"locationmode\": \"USA-states\", \"lon\": [-118.40807439999999, -159.3389581], \"lat\": [33.94253611, 21.97598306], \"mode\": \"lines\", \"line\": {\"width\": 1, \"color\": \"red\"}, \"opacity\": 0.061269146608315096}, {\"type\": \"scattergeo\", \"locationmode\": \"USA-states\", \"lon\": [-118.40807439999999, -81.31602778], \"lat\": [33.94253611, 28.42888889], \"mode\": \"lines\", \"line\": {\"width\": 1, \"color\": \"red\"}, \"opacity\": 0.061269146608315096}, {\"type\": \"scattergeo\", \"locationmode\": \"USA-states\", \"lon\": [-80.29055556, -81.31602778], \"lat\": [25.79325, 28.42888889], \"mode\": \"lines\", \"line\": {\"width\": 1, \"color\": \"red\"}, \"opacity\": 0.49015317286652077}, {\"type\": \"scattergeo\", \"locationmode\": \"USA-states\", \"lon\": [-84.42694444, -80.29055556], \"lat\": [33.64044444, 25.79325], \"mode\": \"lines\", \"line\": {\"width\": 1, \"color\": \"red\"}, \"opacity\": 0.24507658643326038}, {\"type\": \"scattergeo\", \"locationmode\": \"USA-states\", \"lon\": [-72.68322833, -80.29055556], \"lat\": [41.93887417, 25.79325], \"mode\": \"lines\", \"line\": {\"width\": 1, \"color\": \"red\"}, \"opacity\": 0.12253829321663019}, {\"type\": \"scattergeo\", \"locationmode\": \"USA-states\", \"lon\": [-77.03772222, -80.29055556], \"lat\": [38.85208333, 25.79325], \"mode\": \"lines\", \"line\": {\"width\": 1, \"color\": \"red\"}, \"opacity\": 0.5514223194748359}, {\"type\": \"scattergeo\", \"locationmode\": \"USA-states\", \"lon\": [-106.91769529999999, -80.29055556], \"lat\": [39.64256778, 25.79325], \"mode\": \"lines\", \"line\": {\"width\": 1, \"color\": \"red\"}, \"opacity\": 0.0525164113785558}, {\"type\": \"scattergeo\", \"locationmode\": \"USA-states\", \"lon\": [-115.15233329999998, -80.29055556], \"lat\": [36.08036111, 25.79325], \"mode\": \"lines\", \"line\": {\"width\": 1, \"color\": \"red\"}, \"opacity\": 0.1838074398249453}, {\"type\": \"scattergeo\", \"locationmode\": \"USA-states\", \"lon\": [-118.40807439999999, -80.29055556], \"lat\": [33.94253611, 25.79325], \"mode\": \"lines\", \"line\": {\"width\": 1, \"color\": \"red\"}, \"opacity\": 0.4288840262582057}, {\"type\": \"scattergeo\", \"locationmode\": \"USA-states\", \"lon\": [-73.87260917, -80.29055556], \"lat\": [40.77724306, 25.79325], \"mode\": \"lines\", \"line\": {\"width\": 1, \"color\": \"red\"}, \"opacity\": 0.6728665207877462}, {\"type\": \"scattergeo\", \"locationmode\": \"USA-states\", \"lon\": [-93.2169225, -80.29055556], \"lat\": [44.88054694, 25.79325], \"mode\": \"lines\", \"line\": {\"width\": 1, \"color\": \"red\"}, \"opacity\": 0.061269146608315096}, {\"type\": \"scattergeo\", \"locationmode\": \"USA-states\", \"lon\": [-87.90446417, -80.29055556], \"lat\": [41.979595, 25.79325], \"mode\": \"lines\", \"line\": {\"width\": 1, \"color\": \"red\"}, \"opacity\": 0.5525164113785558}, {\"type\": \"scattergeo\", \"locationmode\": \"USA-states\", \"lon\": [-75.24114083, -80.29055556], \"lat\": [39.87195278, 25.79325], \"mode\": \"lines\", \"line\": {\"width\": 1, \"color\": \"red\"}, \"opacity\": 0.1838074398249453}, {\"type\": \"scattergeo\", \"locationmode\": \"USA-states\", \"lon\": [-112.00805559999999, -80.29055556], \"lat\": [33.43416667, 25.79325], \"mode\": \"lines\", \"line\": {\"width\": 1, \"color\": \"red\"}, \"opacity\": 0.061269146608315096}, {\"type\": \"scattergeo\", \"locationmode\": \"USA-states\", \"lon\": [-122.3748433, -80.29055556], \"lat\": [37.61900194, 25.79325], \"mode\": \"lines\", \"line\": {\"width\": 1, \"color\": \"red\"}, \"opacity\": 0.1838074398249453}, {\"type\": \"scattergeo\", \"locationmode\": \"USA-states\", \"lon\": [-66.00183333, -80.29055556], \"lat\": [18.43941667, 25.79325], \"mode\": \"lines\", \"line\": {\"width\": 1, \"color\": \"red\"}, \"opacity\": 0.49015317286652077}, {\"type\": \"scattergeo\", \"locationmode\": \"USA-states\", \"lon\": [-95.88824167, -80.29055556], \"lat\": [36.19837222, 25.79325], \"mode\": \"lines\", \"line\": {\"width\": 1, \"color\": \"red\"}, \"opacity\": 0.00437636761487965}, {\"type\": \"scattergeo\", \"locationmode\": \"USA-states\", \"lon\": [-87.90446417, -93.2169225], \"lat\": [41.979595, 44.88054694], \"mode\": \"lines\", \"line\": {\"width\": 1, \"color\": \"red\"}, \"opacity\": 0.175054704595186}, {\"type\": \"scattergeo\", \"locationmode\": \"USA-states\", \"lon\": [-97.0372, -90.25802778], \"lat\": [32.89595056, 29.99338889], \"mode\": \"lines\", \"line\": {\"width\": 1, \"color\": \"red\"}, \"opacity\": 0.3676148796498906}, {\"type\": \"scattergeo\", \"locationmode\": \"USA-states\", \"lon\": [-80.29055556, -90.25802778], \"lat\": [25.79325, 29.99338889], \"mode\": \"lines\", \"line\": {\"width\": 1, \"color\": \"red\"}, \"opacity\": 0.1838074398249453}, {\"type\": \"scattergeo\", \"locationmode\": \"USA-states\", \"lon\": [-87.90446417, -90.25802778], \"lat\": [41.979595, 29.99338889], \"mode\": \"lines\", \"line\": {\"width\": 1, \"color\": \"red\"}, \"opacity\": 0.16301969365426697}, {\"type\": \"scattergeo\", \"locationmode\": \"USA-states\", \"lon\": [-97.0372, -117.60119440000001], \"lat\": [32.89595056, 34.056], \"mode\": \"lines\", \"line\": {\"width\": 1, \"color\": \"red\"}, \"opacity\": 0.24288840262582057}, {\"type\": \"scattergeo\", \"locationmode\": \"USA-states\", \"lon\": [-77.03772222, -87.90446417], \"lat\": [38.85208333, 41.979595], \"mode\": \"lines\", \"line\": {\"width\": 1, \"color\": \"red\"}, \"opacity\": 0.3544857768052516}, {\"type\": \"scattergeo\", \"locationmode\": \"USA-states\", \"lon\": [-74.16866056, -87.90446417], \"lat\": [40.69249722, 41.979595], \"mode\": \"lines\", \"line\": {\"width\": 1, \"color\": \"red\"}, \"opacity\": 0.1838074398249453}, {\"type\": \"scattergeo\", \"locationmode\": \"USA-states\", \"lon\": [-80.15275, -87.90446417], \"lat\": [26.07258333, 41.979595], \"mode\": \"lines\", \"line\": {\"width\": 1, \"color\": \"red\"}, \"opacity\": 0.1838074398249453}, {\"type\": \"scattergeo\", \"locationmode\": \"USA-states\", \"lon\": [-107.21765970000001, -87.90446417], \"lat\": [40.48118028, 41.979595], \"mode\": \"lines\", \"line\": {\"width\": 1, \"color\": \"red\"}, \"opacity\": 0.0525164113785558}, {\"type\": \"scattergeo\", \"locationmode\": \"USA-states\", \"lon\": [-157.92240719999998, -87.90446417], \"lat\": [21.31869111, 41.979595], \"mode\": \"lines\", \"line\": {\"width\": 1, \"color\": \"red\"}, \"opacity\": 0.05032822757111598}, {\"type\": \"scattergeo\", \"locationmode\": \"USA-states\", \"lon\": [-110.7377389, -87.90446417], \"lat\": [43.60732417, 41.979595], \"mode\": \"lines\", \"line\": {\"width\": 1, \"color\": \"red\"}, \"opacity\": 0.061269146608315096}, {\"type\": \"scattergeo\", \"locationmode\": \"USA-states\", \"lon\": [-73.77892556, -87.90446417], \"lat\": [40.63975111, 41.979595], \"mode\": \"lines\", \"line\": {\"width\": 1, \"color\": \"red\"}, \"opacity\": 0.061269146608315096}, {\"type\": \"scattergeo\", \"locationmode\": \"USA-states\", \"lon\": [-73.87260917, -87.90446417], \"lat\": [40.77724306, 41.979595], \"mode\": \"lines\", \"line\": {\"width\": 1, \"color\": \"red\"}, \"opacity\": 0.9409190371991247}, {\"type\": \"scattergeo\", \"locationmode\": \"USA-states\", \"lon\": [-94.71390556, -87.90446417], \"lat\": [39.29760528, 41.979595], \"mode\": \"lines\", \"line\": {\"width\": 1, \"color\": \"red\"}, \"opacity\": 0.23413566739606126}, {\"type\": \"scattergeo\", \"locationmode\": \"USA-states\", \"lon\": [-81.31602778, -87.90446417], \"lat\": [28.42888889, 41.979595], \"mode\": \"lines\", \"line\": {\"width\": 1, \"color\": \"red\"}, \"opacity\": 0.24507658643326038}, {\"type\": \"scattergeo\", \"locationmode\": \"USA-states\", \"lon\": [-78.78747222, -87.90446417], \"lat\": [35.87763889, 41.979595], \"mode\": \"lines\", \"line\": {\"width\": 1, \"color\": \"red\"}, \"opacity\": 0.17067833698030635}, {\"type\": \"scattergeo\", \"locationmode\": \"USA-states\", \"lon\": [-119.76806470000001, -87.90446417], \"lat\": [39.49857611, 41.979595], \"mode\": \"lines\", \"line\": {\"width\": 1, \"color\": \"red\"}, \"opacity\": 0.061269146608315096}, {\"type\": \"scattergeo\", \"locationmode\": \"USA-states\", \"lon\": [-117.1896567, -87.90446417], \"lat\": [32.73355611, 41.979595], \"mode\": \"lines\", \"line\": {\"width\": 1, \"color\": \"red\"}, \"opacity\": 0.24507658643326038}, {\"type\": \"scattergeo\", \"locationmode\": \"USA-states\", \"lon\": [-98.46977778, -87.90446417], \"lat\": [29.53369444, 41.979595], \"mode\": \"lines\", \"line\": {\"width\": 1, \"color\": \"red\"}, \"opacity\": 0.12253829321663019}, {\"type\": \"scattergeo\", \"locationmode\": \"USA-states\", \"lon\": [-121.92900890000001, -87.90446417], \"lat\": [37.36186194, 41.979595], \"mode\": \"lines\", \"line\": {\"width\": 1, \"color\": \"red\"}, \"opacity\": 0.12253829321663019}, {\"type\": \"scattergeo\", \"locationmode\": \"USA-states\", \"lon\": [-66.00183333, -87.90446417], \"lat\": [18.43941667, 41.979595], \"mode\": \"lines\", \"line\": {\"width\": 1, \"color\": \"red\"}, \"opacity\": 0.12253829321663019}, {\"type\": \"scattergeo\", \"locationmode\": \"USA-states\", \"lon\": [-90.35998972, -87.90446417], \"lat\": [38.74768694, 41.979595], \"mode\": \"lines\", \"line\": {\"width\": 1, \"color\": \"red\"}, \"opacity\": 0.5284463894967177}, {\"type\": \"scattergeo\", \"locationmode\": \"USA-states\", \"lon\": [-95.88824167, -87.90446417], \"lat\": [36.19837222, 41.979595], \"mode\": \"lines\", \"line\": {\"width\": 1, \"color\": \"red\"}, \"opacity\": 0.061269146608315096}, {\"type\": \"scattergeo\", \"locationmode\": \"USA-states\", \"lon\": [-110.94102779999999, -87.90446417], \"lat\": [32.11608333, 41.979595], \"mode\": \"lines\", \"line\": {\"width\": 1, \"color\": \"red\"}, \"opacity\": 0.12253829321663019}, {\"type\": \"scattergeo\", \"locationmode\": \"USA-states\", \"lon\": [-97.0372, -76.20122222], \"lat\": [32.89595056, 36.89461111], \"mode\": \"lines\", \"line\": {\"width\": 1, \"color\": \"red\"}, \"opacity\": 0.12253829321663019}, {\"type\": \"scattergeo\", \"locationmode\": \"USA-states\", \"lon\": [-97.0372, -80.09559417], \"lat\": [32.89595056, 26.68316194], \"mode\": \"lines\", \"line\": {\"width\": 1, \"color\": \"red\"}, \"opacity\": 0.12253829321663019}, {\"type\": \"scattergeo\", \"locationmode\": \"USA-states\", \"lon\": [-87.90446417, -80.09559417], \"lat\": [41.979595, 26.68316194], \"mode\": \"lines\", \"line\": {\"width\": 1, \"color\": \"red\"}, \"opacity\": 0.16411378555798686}, {\"type\": \"scattergeo\", \"locationmode\": \"USA-states\", \"lon\": [-97.0372, -122.5975], \"lat\": [32.89595056, 45.58872222], \"mode\": \"lines\", \"line\": {\"width\": 1, \"color\": \"red\"}, \"opacity\": 0.24507658643326038}, {\"type\": \"scattergeo\", \"locationmode\": \"USA-states\", \"lon\": [-87.90446417, -75.24114083], \"lat\": [41.979595, 39.87195278], \"mode\": \"lines\", \"line\": {\"width\": 1, \"color\": \"red\"}, \"opacity\": 0.12035010940919037}, {\"type\": \"scattergeo\", \"locationmode\": \"USA-states\", \"lon\": [-66.00183333, -75.24114083], \"lat\": [18.43941667, 39.87195278], \"mode\": \"lines\", \"line\": {\"width\": 1, \"color\": \"red\"}, \"opacity\": 0.061269146608315096}, {\"type\": \"scattergeo\", \"locationmode\": \"USA-states\", \"lon\": [-87.90446417, -112.00805559999999], \"lat\": [41.979595, 33.43416667], \"mode\": \"lines\", \"line\": {\"width\": 1, \"color\": \"red\"}, \"opacity\": 0.3063457330415755}, {\"type\": \"scattergeo\", \"locationmode\": \"USA-states\", \"lon\": [-97.0372, -80.23287083], \"lat\": [32.89595056, 40.49146583], \"mode\": \"lines\", \"line\": {\"width\": 1, \"color\": \"red\"}, \"opacity\": 0.18599562363238512}, {\"type\": \"scattergeo\", \"locationmode\": \"USA-states\", \"lon\": [-97.0372, -116.5062531], \"lat\": [32.89595056, 33.82921556], \"mode\": \"lines\", \"line\": {\"width\": 1, \"color\": \"red\"}, \"opacity\": 0.1838074398249453}, {\"type\": \"scattergeo\", \"locationmode\": \"USA-states\", \"lon\": [-87.90446417, -116.5062531], \"lat\": [41.979595, 33.82921556], \"mode\": \"lines\", \"line\": {\"width\": 1, \"color\": \"red\"}, \"opacity\": 0.0700218818380744}, {\"type\": \"scattergeo\", \"locationmode\": \"USA-states\", \"lon\": [-97.0372, -78.78747222], \"lat\": [32.89595056, 35.87763889], \"mode\": \"lines\", \"line\": {\"width\": 1, \"color\": \"red\"}, \"opacity\": 0.3041575492341357}, {\"type\": \"scattergeo\", \"locationmode\": \"USA-states\", \"lon\": [-80.29055556, -78.78747222], \"lat\": [25.79325, 35.87763889], \"mode\": \"lines\", \"line\": {\"width\": 1, \"color\": \"red\"}, \"opacity\": 0.1838074398249453}, {\"type\": \"scattergeo\", \"locationmode\": \"USA-states\", \"lon\": [-97.0372, -81.75516667], \"lat\": [32.89595056, 26.53616667], \"mode\": \"lines\", \"line\": {\"width\": 1, \"color\": \"red\"}, \"opacity\": 0.1838074398249453}, {\"type\": \"scattergeo\", \"locationmode\": \"USA-states\", \"lon\": [-87.90446417, -81.75516667], \"lat\": [41.979595, 26.53616667], \"mode\": \"lines\", \"line\": {\"width\": 1, \"color\": \"red\"}, \"opacity\": 0.1838074398249453}, {\"type\": \"scattergeo\", \"locationmode\": \"USA-states\", \"lon\": [-73.77892556, -117.1896567], \"lat\": [40.63975111, 32.73355611], \"mode\": \"lines\", \"line\": {\"width\": 1, \"color\": \"red\"}, \"opacity\": 0.061269146608315096}, {\"type\": \"scattergeo\", \"locationmode\": \"USA-states\", \"lon\": [-97.0372, -122.30931310000001], \"lat\": [32.89595056, 47.44898194], \"mode\": \"lines\", \"line\": {\"width\": 1, \"color\": \"red\"}, \"opacity\": 0.4288840262582057}, {\"type\": \"scattergeo\", \"locationmode\": \"USA-states\", \"lon\": [-87.90446417, -122.30931310000001], \"lat\": [41.979595, 47.44898194], \"mode\": \"lines\", \"line\": {\"width\": 1, \"color\": \"red\"}, \"opacity\": 0.23413566739606126}, {\"type\": \"scattergeo\", \"locationmode\": \"USA-states\", \"lon\": [-157.92240719999998, -122.3748433], \"lat\": [21.31869111, 37.61900194], \"mode\": \"lines\", \"line\": {\"width\": 1, \"color\": \"red\"}, \"opacity\": 0.061269146608315096}, {\"type\": \"scattergeo\", \"locationmode\": \"USA-states\", \"lon\": [-118.40807439999999, -122.3748433], \"lat\": [33.94253611, 37.61900194], \"mode\": \"lines\", \"line\": {\"width\": 1, \"color\": \"red\"}, \"opacity\": 0.3676148796498906}, {\"type\": \"scattergeo\", \"locationmode\": \"USA-states\", \"lon\": [-87.90446417, -122.3748433], \"lat\": [41.979595, 37.61900194], \"mode\": \"lines\", \"line\": {\"width\": 1, \"color\": \"red\"}, \"opacity\": 0.35667396061269147}, {\"type\": \"scattergeo\", \"locationmode\": \"USA-states\", \"lon\": [-97.0372, -66.00183333], \"lat\": [32.89595056, 18.43941667], \"mode\": \"lines\", \"line\": {\"width\": 1, \"color\": \"red\"}, \"opacity\": 0.13129102844638948}, {\"type\": \"scattergeo\", \"locationmode\": \"USA-states\", \"lon\": [-77.45580972, -66.00183333], \"lat\": [38.94453194, 18.43941667], \"mode\": \"lines\", \"line\": {\"width\": 1, \"color\": \"red\"}, \"opacity\": 0.061269146608315096}, {\"type\": \"scattergeo\", \"locationmode\": \"USA-states\", \"lon\": [-73.77892556, -66.00183333], \"lat\": [40.63975111, 18.43941667], \"mode\": \"lines\", \"line\": {\"width\": 1, \"color\": \"red\"}, \"opacity\": 0.1838074398249453}, {\"type\": \"scattergeo\", \"locationmode\": \"USA-states\", \"lon\": [-118.40807439999999, -66.00183333], \"lat\": [33.94253611, 18.43941667], \"mode\": \"lines\", \"line\": {\"width\": 1, \"color\": \"red\"}, \"opacity\": 0.0175054704595186}, {\"type\": \"scattergeo\", \"locationmode\": \"USA-states\", \"lon\": [-97.0372, -121.5907669], \"lat\": [32.89595056, 38.69542167], \"mode\": \"lines\", \"line\": {\"width\": 1, \"color\": \"red\"}, \"opacity\": 0.24507658643326038}, {\"type\": \"scattergeo\", \"locationmode\": \"USA-states\", \"lon\": [-97.0372, -117.86822250000002], \"lat\": [32.89595056, 33.67565861], \"mode\": \"lines\", \"line\": {\"width\": 1, \"color\": \"red\"}, \"opacity\": 0.6323851203501094}, {\"type\": \"scattergeo\", \"locationmode\": \"USA-states\", \"lon\": [-87.90446417, -117.86822250000002], \"lat\": [41.979595, 33.67565861], \"mode\": \"lines\", \"line\": {\"width\": 1, \"color\": \"red\"}, \"opacity\": 0.16630196936542668}, {\"type\": \"scattergeo\", \"locationmode\": \"USA-states\", \"lon\": [-77.03772222, -90.35998972], \"lat\": [38.85208333, 38.74768694], \"mode\": \"lines\", \"line\": {\"width\": 1, \"color\": \"red\"}, \"opacity\": 0.2188183807439825}, {\"type\": \"scattergeo\", \"locationmode\": \"USA-states\", \"lon\": [-80.29055556, -90.35998972], \"lat\": [25.79325, 38.74768694], \"mode\": \"lines\", \"line\": {\"width\": 1, \"color\": \"red\"}, \"opacity\": 0.1838074398249453}, {\"type\": \"scattergeo\", \"locationmode\": \"USA-states\", \"lon\": [-80.29055556, -64.97336111], \"lat\": [25.79325, 18.33730556], \"mode\": \"lines\", \"line\": {\"width\": 1, \"color\": \"red\"}, \"opacity\": 0.12253829321663019}, {\"type\": \"scattergeo\", \"locationmode\": \"USA-states\", \"lon\": [-80.29055556, -64.79855556], \"lat\": [25.79325, 17.70188889], \"mode\": \"lines\", \"line\": {\"width\": 1, \"color\": \"red\"}, \"opacity\": 0.06783369803063458}, {\"type\": \"scattergeo\", \"locationmode\": \"USA-states\", \"lon\": [-97.0372, -82.53325], \"lat\": [32.89595056, 27.97547222], \"mode\": \"lines\", \"line\": {\"width\": 1, \"color\": \"red\"}, \"opacity\": 0.4288840262582057}, {\"type\": \"scattergeo\", \"locationmode\": \"USA-states\", \"lon\": [-80.29055556, -82.53325], \"lat\": [25.79325, 27.97547222], \"mode\": \"lines\", \"line\": {\"width\": 1, \"color\": \"red\"}, \"opacity\": 0.32603938730853393}, {\"type\": \"scattergeo\", \"locationmode\": \"USA-states\", \"lon\": [-87.90446417, -82.53325], \"lat\": [41.979595, 27.97547222], \"mode\": \"lines\", \"line\": {\"width\": 1, \"color\": \"red\"}, \"opacity\": 0.16411378555798686}, {\"type\": \"scattergeo\", \"locationmode\": \"USA-states\", \"lon\": [-66.00183333, -82.53325], \"lat\": [18.43941667, 27.97547222], \"mode\": \"lines\", \"line\": {\"width\": 1, \"color\": \"red\"}, \"opacity\": 0.061269146608315096}, {\"type\": \"scattergeo\", \"locationmode\": \"USA-states\", \"lon\": [-97.0372, -95.88824167], \"lat\": [32.89595056, 36.19837222], \"mode\": \"lines\", \"line\": {\"width\": 1, \"color\": \"red\"}, \"opacity\": 0.42669584245076586}, {\"type\": \"scattergeo\", \"locationmode\": \"USA-states\", \"lon\": [-97.0372, -110.94102779999999], \"lat\": [32.89595056, 32.11608333], \"mode\": \"lines\", \"line\": {\"width\": 1, \"color\": \"red\"}, \"opacity\": 0.45842450765864334}, {\"type\": \"scattergeo\", \"locationmode\": \"USA-states\", \"lon\": [-87.90446417, -84.42694444, -97.0372, -112.00805559999999, -104.6670019, -95.33972222, -122.3748433, -118.40807439999999, -81.31602778, -80.94312583, -111.9777731, -82.53325, -74.16866056, -115.15233329999998, -75.24114083, -93.2169225, -122.30931310000001, -73.87260917, -87.75242444, -77.45580972, -117.1896567, -90.35998972, -83.34883583, -73.77892556, -80.29055556, -71.00517917, -121.5907669, -76.66819833, -117.86822250000002, -90.25802778, -121.92900890000001, -77.03772222, -122.5975, -81.75516667, -80.09559417, -78.78747222, -95.27888889, -98.46977778, -80.15275, -94.71390556, -122.22071670000001, -80.23287083, -89.97666667, -87.89658333, -81.84939667, -81.68786111, -110.94102779999999, -86.29438417, -119.76806470000001, -97.60073389, -71.42822111, -95.88824167, -84.6621725, -82.89188278, -85.736, -117.60119440000001, -92.22424556, -96.85177222, -95.89417306, -76.20122222, -84.219375, -77.67238389, -94.30681111, -86.67818222, -106.6091944, -90.07588889, -106.37780559999999, -77.31966667, -72.68322833, -102.20191390000001, -91.14963444, -83.99285583, -104.70025, -87.18744444, -76.10631056, -86.75354972, -71.43705583, -116.5062531, -82.55411111, -97.50121528, -86.77310944, -81.11953944, -91.987655, -119.8403733, -117.5338425, -88.24283333, -97.43304583, -78.73216667, -93.66068222, -76.76340361, -70.30875, -86.39397611, -76.4929875, -73.70757444, -121.84294779999999, -85.52276778, -84.550781, -114.60597220000001, -106.868845, -84.35033333, -89.07009278, -103.0573708, -118.1516111, -77.90255556, -84.60538889, -89.33751361, -123.21868559999999, -81.20213889, -101.8227778, -91.71087222, -82.21885833, -79.9372975, -73.10021194, -90.50753917, -82.54180556, -81.44246556, -88.91595278, -97.65439389, -86.5254, -93.82559833, -96.81498889, -107.21765970000001, -122.8734978, -89.69330556, -99.46154361, -97.66987194, -99.68189722, -93.38685806, -83.74345639, -82.40742056, -97.82779778, -80.04050583, -88.12959000000001, -121.1499633, -84.93886111, -86.31847417, -116.22277779999999, -78.92833333, -101.2803339, -88.27805556, -79.97542833, -106.91769529999999, -110.7377389, -111.15300719999999, -108.5267347, -118.3584969, -87.53062667, -106.9331817, -112.07016670000002, -119.7181389, -89.67761861, -98.23861111, -122.2934019, -97.17611111, -96.74170028, -114.4877356, -120.4575825, -112.59586110000001, -85.44962889, -77.61213778, -107.89383329999998, -100.74672220000001, -106.46446609999998, -85.582235, -92.03768778, -119.11902920000001, -96.67083278, -92.54855611, -124.2460278, -106.08813889999999, -121.7332081, -74.10483833, -78.45286111, -83.27672222, -89.66677944, -117.8295122, -124.1086189, -81.46630556, -96.75925, -85.19514639, -109.02379609999998, -88.77375, -120.64239309999999, -75.72426750000001, -88.59136861, -105.5393614, -77.04294444, -81.96449611, -94.36744111, -95.40238611, -111.9827503, -111.37068529999999, -88.75120556, -87.395361, -107.90848000000001, -85.20378778, -117.01539440000002, -113.098575, -73.80297861, -73.1503125, -114.25506940000001, -80.64580556, -81.05805556, -75.44040167, -92.19364861, -104.81183809999999, -109.0651928, -80.39947222, -81.59318972, -122.53752779999999, -118.8377722, -88.51947556, -92.548828, -82.68743944, -98.49189333, -78.88, -91.48507194, -90.70916722, -92.49798722, -90.348816, -108.54286110000001], \"lat\": [41.979595, 33.64044444, 32.89595056, 33.43416667, 39.85840806, 29.98047222, 37.61900194, 33.94253611, 28.42888889, 35.21401111, 40.78838778, 27.97547222, 40.69249722, 36.08036111, 39.87195278, 44.88054694, 47.44898194, 40.77724306, 41.7859825, 38.94453194, 32.73355611, 38.74768694, 42.21205889, 40.63975111, 25.79325, 42.3643475, 38.69542167, 39.17540167, 33.67565861, 29.99338889, 37.36186194, 38.85208333, 45.58872222, 26.53616667, 26.68316194, 35.87763889, 29.64541861, 29.53369444, 26.07258333, 39.29760528, 37.72129083, 40.49146583, 35.04241667, 42.94722222, 41.41089417, 30.49405556, 32.11608333, 39.71732917, 39.49857611, 35.39308833, 41.72399917, 36.19837222, 39.04614278, 39.99798528, 38.17438889, 34.056, 34.72939611, 32.84711389, 41.30251861, 36.89461111, 39.90237583, 43.11886611, 36.28186944, 36.12447667, 35.04022222, 32.31116667, 31.80666667, 37.50516667, 41.93887417, 31.94252778, 30.53316083, 35.81248722, 38.80580556, 30.47330556, 43.11118694, 33.56294306, 42.93451639, 33.82921556, 27.39533333, 27.77036083, 34.6404475, 33.93884, 30.20527972, 34.42621194, 47.61985556, 30.69141667, 37.64995889, 42.94052472, 41.53493306, 40.19349528, 43.64616667, 32.30064417, 37.13189556, 41.06695778, 36.5869825, 42.88081972, 30.448674, 32.65658333, 39.22316, 30.39652778, 30.40728028, 44.04532139, 33.81772222, 34.27061111, 38.03697222, 43.13985778, 44.123259999999995, 32.12758333, 33.66363889, 41.88458833, 34.89566722, 36.09774694, 40.7952425, 41.44852639, 35.43619444, 40.91631194, 40.47798556, 26.22850611, 30.48325, 32.446627500000005, 46.91934889, 40.48118028, 42.37422778, 40.66424333, 27.54373861, 30.19453278, 32.41132, 37.24432611, 42.96550333, 36.47521417, 31.06489778, 32.89864639, 44.48507333, 44.25406722, 32.51633333, 41.70895361, 43.56444444, 33.67975, 48.25937778, 40.03925, 37.32546833, 39.64256778, 43.60732417, 45.77690139, 39.1224125, 34.20061917, 38.03799139, 38.53396333, 43.51455556, 36.77619444, 39.84395194, 26.17583333, 40.50898361, 47.949255, 43.58135111, 42.48180389, 34.89924833, 42.91130556, 31.32133917, 34.82916444, 38.50886722, 46.77411111, 42.90835556, 44.74144472, 32.51086556, 46.26468028, 39.14096722, 31.32737167, 43.41713889, 35.61677778, 42.15614361, 41.50409361, 38.13863889, 30.7825, 44.77761917, 35.65884306, 40.97811528, 31.25902778, 40.85097222, 40.97846583, 44.52019417, 37.06083333, 35.23705806, 41.33814944, 33.45033444, 44.34889806, 35.07297222, 33.369955, 35.33659028, 32.35413889, 46.60681806, 47.48200194, 32.33313333, 46.353639, 37.95375861, 35.03526833, 46.37449806, 37.70097028, 42.74811944, 44.47300361, 48.31140472, 28.10275, 29.17991667, 40.65236278, 46.84209028, 41.155722499999996, 41.5942175, 37.85830556, 38.37315083, 48.79275, 37.62404861, 44.25740806, 36.385913, 27.91076333, 33.98879611, 34.99147222, 44.86525722, 42.40295944, 43.90882639, 34.681499, 45.8076625], \"hoverinfo\": \"text\", \"text\": [\"Chicago O'Hare International\", \"William B Hartsfield-Atlanta Intl\", \"Dallas-Fort Worth International\", \"Phoenix Sky Harbor International\", \"Denver Intl\", \"George Bush Intercontinental\", \"San Francisco International\", \"Los Angeles International\", \"Orlando International\", \"Charlotte/Douglas International\", \"Salt Lake City Intl\", \"Tampa International \", \"Newark Intl\", \"McCarran International\", \"Philadelphia Intl\", \"Minneapolis-St Paul Intl\", \"Seattle-Tacoma Intl\", \"LaGuardia\", \"Chicago Midway\", \"Washington Dulles International\", \"San Diego International-Lindbergh \", \"Lambert-St Louis International\", \"Detroit Metropolitan-Wayne County\", \"John F Kennedy Intl\", \"Miami International\", \"Gen Edw L Logan Intl\", \"Sacramento International\", \"Baltimore-Washington International\", \"John Wayne /Orange Co\", \"New Orleans International \", \"San Jose International\", \"Ronald Reagan Washington National\", \"Portland Intl\", \"Southwest Florida International\", \"Palm Beach International\", \"Raleigh-Durham International\", \"William P Hobby\", \"San Antonio International\", \"Fort Lauderdale-Hollywood Int'l\", \"Kansas City International\", \"Metropolitan Oakland International\", \"Pittsburgh International\", \"Memphis International\", \"General Mitchell International\", \"Cleveland-Hopkins Intl\", \"Jacksonville International\", \"Tucson International\", \"Indianapolis International\", \"Reno/Tahoe International\", \"Will Rogers World\", \"Theodore F Green State\", \"Tulsa International\", \"Cincinnati Northern Kentucky Intl\", \"Port Columbus Intl\", \"Louisville International-Standiford \", \"Ontario International\", \"Adams \", \"Dallas Love \", \"Eppley Airfield\", \"Norfolk International\", \"James M Cox Dayton Intl\", \"Greater Rochester Int'l\", \"Northwest Arkansas Regional\", \"Nashville International\", \"Albuquerque International\", \"Jackson International\", \"El Paso International\", \"Richmond International\", \"Bradley International\", \"Midland International\", \"Baton Rouge Metropolitan, Ryan \", \"McGhee-Tyson\", \"City of Colorado Springs Muni\", \"Pensacola Regional\", \"Syracuse-Hancock Intl\", \"Birmingham International\", \"Manchester\", \"Palm Springs International\", \"Sarasota Bradenton International\", \"Corpus Christi International\", \"Huntsville International \", \"Columbia Metropolitan\", \"Lafayette Regional\", \"Santa Barbara Municipal\", \"Spokane Intl\", \"Mobile Regional\", \"Wichita Mid-Continent\", \"Buffalo Niagara Intl\", \"Des Moines International\", \"Harrisburg Intl\", \"Portland International Jetport\", \"Montgomery Regional Apt\", \"Newport News/Williamsburg International\", \"Westchester Cty\", \"Monterey Peninsula\", \"Kent County International\", \"Florida Beach\", \"Yuma MCAS-Yuma International\", \"Aspen-Pitkin Co/Sardy \", \"Tallahassee Regional\", \"Gulfport-Biloxi Regional\", \"Rapid City Regional\", \"Long Beach (Daugherty )\", \"Wilmington International\", \"Blue Grass \", \"Dane County Regional\", \"Mahlon Sweet \", \"Savannah International\", \"Lubbock International\", \"Eastern Iowa \", \"Greenville-Spartanburg\", \"Piedmont Triad International\", \"Long Island - MacArthur\", \"Quad City\", \"Asheville Regional\", \"Akron-Canton Regional\", \"Central Illinois Regional\", \"Valley International\", \"Eglin Air Force Base\", \"Shreveport Regional\", \"Hector International\", \"Yampa Valley\", \"Rogue Valley International\", \"Greater Peoria Regional\", \"Laredo International\", \"Austin-Bergstrom International\", \"Abilene Regional\", \"Springfield-Branson Regional\", \"Bishop\", \"Tri-Cities Regional\", \"Robert Gray AAF\", \"Charleston AFB/International\", \"Austin Straubel International\", \"Roberts \", \"Columbus Metropolitan\", \"South Bend Regional\", \"Boise Air Terminal\", \"Myrtle Beach International\", \"Minot International\", \"University of Illinois-Willard\", \"Roanoke Regional/ Woodrum \", \"Eagle County Regional\", \"Jackson Hole\", \"Gallatin \", \"Walker \", \"Burbank-Glendale-Pasadena\", \"Evansville Regional\", \"Gunnison County\", \"Idaho Falls Regional\", \"Fresno Yosemite International\", \"Capital\", \"McAllen Miller International\", \"Redding Municipal\", \"Grand Forks International\", \"Joe Foss \", \"Joslin Field - Magic Valley\", \"Santa Maria Pub/Capt G Allan Hancock \", \"Pocatello Regional\", \"Dothan \", \"Albert J Ellis\", \"Montrose Regional\", \"Bismarck Municipal\", \"Natrona County Intl\", \"Cherry Capital\", \"Monroe Regional\", \"Tri-Cities\", \"Manhattan Regional\", \"Alexandria International\", \"North Bend Muni\", \"Santa Fe Municipal\", \"Klamath Falls International\", \"Stewart\", \"Charlottesville-Albermarle\", \"Valdosta Regional\", \"Central Wisconsin\", \"Inyokern\", \"Arcata\", \"Glynco Jetport\", \"Lincoln Municipal\", \"Fort Wayne International\", \"Yellowstone Regional\", \"Barkley Regional\", \"San Luis Obispo Co-McChesney \", \"Wilkes-Barre/Scranton Intl\", \"Golden Triangle Regional\", \"Gillette-Campbell County\", \"Craven County Regional\", \"Bush \", \"Fort Smith Regional\", \"Tyler Pounds \", \"Helena Regional\", \"Great Falls Intl\", \"Key \", \"Marquette County Airport\", \"Telluride Regional\", \"Lovell \", \"Lewiston-Nez Perce County\", \"Cedar City Muni\", \"Albany Cty\", \"Burlington International\", \"Glacier Park Intl\", \"Melbourne International \", \"Daytona Beach International\", \"Lehigh Valley International\", \"Duluth International\", \"Cheyenne\", \"Rock Springs-Sweetwater County\", \"Greenbrier Valley\", \"Yeager\", \"Bellingham Intl\", \"Mammoth Yosemite\", \"Outagamie County Regional\", \"Branson Airport\", \"St. Petersburg-Clearwater International\", \"Sheppard AFB/Wichita Falls Municipal\", \"Fayetteville Municipal\", \"Chippewa Valley Regional\", \"Dubuque Municipal\", \"Rochester International\", \"Tunica Municipal Airport\", \"Billings Logan Intl\"], \"mode\": \"markers\", \"marker\": {\"size\": 5, \"color\": \"rgb(255, 0, 0)\", \"line\": {\"width\": 3, \"color\": \"rgba(68, 68, 68, 0)\"}}}], {\"title\": \"Feb. 2011 American Airline flight paths<br>(Hover for airport names)\", \"showlegend\": false, \"geo\": {\"scope\": \"north america\", \"projection\": {\"type\": \"azimuthal equal area\"}, \"showland\": true, \"landcolor\": \"rgb(243, 243, 243)\", \"countrycolor\": \"rgb(204, 204, 204)\"}}, {\"showLink\": true, \"linkText\": \"Export to plot.ly\"})});</script>"
      ]
     },
     "metadata": {},
     "output_type": "display_data"
    }
   ],
   "source": [
    "import plotly.plotly as py\n",
    "import pandas as pd\n",
    "\n",
    "df_airports = pd.read_csv('https://raw.githubusercontent.com/plotly/datasets/master/2011_february_us_airport_traffic.csv')\n",
    "df_airports.head()\n",
    "\n",
    "df_flight_paths = pd.read_csv('https://raw.githubusercontent.com/plotly/datasets/master/2011_february_aa_flight_paths.csv')\n",
    "df_flight_paths.head()\n",
    "\n",
    "airports = [ dict(\n",
    "        type = 'scattergeo',\n",
    "        locationmode = 'USA-states',\n",
    "        lon = df_airports['long'],\n",
    "        lat = df_airports['lat'],\n",
    "        hoverinfo = 'text',\n",
    "        text = df_airports['airport'],\n",
    "        mode = 'markers',\n",
    "        marker = dict( \n",
    "            size=5, \n",
    "            color='rgb(255, 0, 0)',\n",
    "            line = dict(\n",
    "                width=3,\n",
    "                color='rgba(68, 68, 68, 0)'\n",
    "            )\n",
    "        ))]\n",
    "        \n",
    "flight_paths = []\n",
    "for i in range( len( df_flight_paths ) ):\n",
    "    flight_paths.append(\n",
    "        dict(\n",
    "            type = 'scattergeo',\n",
    "            locationmode = 'USA-states',\n",
    "            lon = [ df_flight_paths['start_lon'][i], df_flight_paths['end_lon'][i] ],\n",
    "            lat = [ df_flight_paths['start_lat'][i], df_flight_paths['end_lat'][i] ],\n",
    "            mode = 'lines',\n",
    "            line = dict(\n",
    "                width = 1,\n",
    "                color = 'red',\n",
    "            ),\n",
    "            opacity = float(df_flight_paths['cnt'][i])/float(df_flight_paths['cnt'].max()),\n",
    "        )\n",
    "    )\n",
    "    \n",
    "layout = dict(\n",
    "        title = 'Feb. 2011 American Airline flight paths<br>(Hover for airport names)',\n",
    "        showlegend = False, \n",
    "        geo = dict(\n",
    "            scope='north america',\n",
    "            projection=dict( type='azimuthal equal area' ),\n",
    "            showland = True,\n",
    "            landcolor = 'rgb(243, 243, 243)',\n",
    "            countrycolor = 'rgb(204, 204, 204)',\n",
    "        ),\n",
    "    )\n",
    "    \n",
    "fig = dict(data=flight_paths + airports, layout=layout )\n",
    "plotly.offline.iplot(fig, filename='d3-flight-paths' )"
   ]
  }
 ],
 "metadata": {
  "kernelspec": {
   "display_name": "Python 3",
   "language": "python",
   "name": "python3"
  },
  "language_info": {
   "codemirror_mode": {
    "name": "ipython",
    "version": 3
   },
   "file_extension": ".py",
   "mimetype": "text/x-python",
   "name": "python",
   "nbconvert_exporter": "python",
   "pygments_lexer": "ipython3",
   "version": "3.6.3"
  }
 },
 "nbformat": 4,
 "nbformat_minor": 2
}
