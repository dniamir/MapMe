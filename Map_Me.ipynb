{
 "cells": [
  {
   "cell_type": "code",
   "execution_count": null,
   "metadata": {
    "collapsed": true
   },
   "outputs": [],
   "source": [
    "#------------------------------------------------------------\n",
    "#\n",
    "# Tutorial for Map Plotting\n",
    "# Created by: Darien Niamir\n",
    "# Created on: 2/19/18\n",
    "#\n",
    "#------------------------------------------------------------"
   ]
  },
  {
   "cell_type": "code",
   "execution_count": 1,
   "metadata": {},
   "outputs": [],
   "source": [
    "from MapMe import MapMeClass\n",
    "import datetime\n",
    "mapbox_access_token = 'pk.eyJ1IjoiZG5pYW1pciIsImEiOiJjamR3NmV0eWsxb2NpMzJtdTB5c3ExN2FrIn0.MfxVkZvXoA-zZobcRf_25w'"
   ]
  },
  {
   "cell_type": "code",
   "execution_count": 2,
   "metadata": {
    "collapsed": true
   },
   "outputs": [],
   "source": [
    "filename = 'places3.json'\n",
    "directory = 'Data'"
   ]
  },
  {
   "cell_type": "code",
   "execution_count": 3,
   "metadata": {},
   "outputs": [
    {
     "data": {
      "text/html": [
       "<div>\n",
       "<style>\n",
       "    .dataframe thead tr:only-child th {\n",
       "        text-align: right;\n",
       "    }\n",
       "\n",
       "    .dataframe thead th {\n",
       "        text-align: left;\n",
       "    }\n",
       "\n",
       "    .dataframe tbody tr th {\n",
       "        vertical-align: top;\n",
       "    }\n",
       "</style>\n",
       "<table border=\"1\" class=\"dataframe\">\n",
       "  <thead>\n",
       "    <tr style=\"text-align: right;\">\n",
       "      <th></th>\n",
       "      <th>latitudeE7</th>\n",
       "      <th>longitudeE7</th>\n",
       "      <th>timestampMs</th>\n",
       "      <th>year</th>\n",
       "      <th>month</th>\n",
       "      <th>day</th>\n",
       "      <th>hour</th>\n",
       "      <th>min</th>\n",
       "      <th>sec</th>\n",
       "      <th>timestamp_fixed</th>\n",
       "      <th>timestamp_string</th>\n",
       "    </tr>\n",
       "  </thead>\n",
       "  <tbody>\n",
       "    <tr>\n",
       "      <th>0</th>\n",
       "      <td>37.488932</td>\n",
       "      <td>-122.240630</td>\n",
       "      <td>1539238078348</td>\n",
       "      <td>2018</td>\n",
       "      <td>10</td>\n",
       "      <td>11</td>\n",
       "      <td>6</td>\n",
       "      <td>7</td>\n",
       "      <td>58</td>\n",
       "      <td>2018-10-11 06:07:58.348</td>\n",
       "      <td>10/11/2018 6:7</td>\n",
       "    </tr>\n",
       "    <tr>\n",
       "      <th>1</th>\n",
       "      <td>37.488932</td>\n",
       "      <td>-122.240630</td>\n",
       "      <td>1539237798244</td>\n",
       "      <td>2018</td>\n",
       "      <td>10</td>\n",
       "      <td>11</td>\n",
       "      <td>6</td>\n",
       "      <td>3</td>\n",
       "      <td>18</td>\n",
       "      <td>2018-10-11 06:03:18.244</td>\n",
       "      <td>10/11/2018 6:3</td>\n",
       "    </tr>\n",
       "    <tr>\n",
       "      <th>2</th>\n",
       "      <td>37.488932</td>\n",
       "      <td>-122.240630</td>\n",
       "      <td>1539237652106</td>\n",
       "      <td>2018</td>\n",
       "      <td>10</td>\n",
       "      <td>11</td>\n",
       "      <td>6</td>\n",
       "      <td>0</td>\n",
       "      <td>52</td>\n",
       "      <td>2018-10-11 06:00:52.106</td>\n",
       "      <td>10/11/2018 6:0</td>\n",
       "    </tr>\n",
       "    <tr>\n",
       "      <th>3</th>\n",
       "      <td>37.488951</td>\n",
       "      <td>-122.240628</td>\n",
       "      <td>1539235468831</td>\n",
       "      <td>2018</td>\n",
       "      <td>10</td>\n",
       "      <td>11</td>\n",
       "      <td>5</td>\n",
       "      <td>24</td>\n",
       "      <td>28</td>\n",
       "      <td>2018-10-11 05:24:28.831</td>\n",
       "      <td>10/11/2018 5:24</td>\n",
       "    </tr>\n",
       "    <tr>\n",
       "      <th>4</th>\n",
       "      <td>37.488989</td>\n",
       "      <td>-122.240630</td>\n",
       "      <td>1539235434567</td>\n",
       "      <td>2018</td>\n",
       "      <td>10</td>\n",
       "      <td>11</td>\n",
       "      <td>5</td>\n",
       "      <td>23</td>\n",
       "      <td>54</td>\n",
       "      <td>2018-10-11 05:23:54.567</td>\n",
       "      <td>10/11/2018 5:23</td>\n",
       "    </tr>\n",
       "  </tbody>\n",
       "</table>\n",
       "</div>"
      ],
      "text/plain": [
       "   latitudeE7  longitudeE7    timestampMs  year  month  day  hour  min  sec  \\\n",
       "0   37.488932  -122.240630  1539238078348  2018     10   11     6    7   58   \n",
       "1   37.488932  -122.240630  1539237798244  2018     10   11     6    3   18   \n",
       "2   37.488932  -122.240630  1539237652106  2018     10   11     6    0   52   \n",
       "3   37.488951  -122.240628  1539235468831  2018     10   11     5   24   28   \n",
       "4   37.488989  -122.240630  1539235434567  2018     10   11     5   23   54   \n",
       "\n",
       "          timestamp_fixed timestamp_string  \n",
       "0 2018-10-11 06:07:58.348   10/11/2018 6:7  \n",
       "1 2018-10-11 06:03:18.244   10/11/2018 6:3  \n",
       "2 2018-10-11 06:00:52.106   10/11/2018 6:0  \n",
       "3 2018-10-11 05:24:28.831  10/11/2018 5:24  \n",
       "4 2018-10-11 05:23:54.567  10/11/2018 5:23  "
      ]
     },
     "execution_count": 3,
     "metadata": {},
     "output_type": "execute_result"
    }
   ],
   "source": [
    "mmc = MapMeClass(directory=directory, filename=filename)\n",
    "mmc.data.head()"
   ]
  },
  {
   "cell_type": "code",
   "execution_count": 4,
   "metadata": {
    "collapsed": true
   },
   "outputs": [],
   "source": [
    "step = 1e0\n",
    "\n",
    "min_year = 2018\n",
    "min_month = 9\n",
    "min_day = 1\n",
    "\n",
    "max_year = 2018\n",
    "max_month = 11\n",
    "max_day = 1\n",
    "\n",
    "date_min = datetime.datetime(min_year, min_month, min_day)\n",
    "date_max = datetime.datetime(max_year, max_month, max_day)"
   ]
  },
  {
   "cell_type": "code",
   "execution_count": 5,
   "metadata": {},
   "outputs": [],
   "source": [
    "min_filter = mmc.data['timestamp_fixed'] >= date_min\n",
    "max_filter = mmc.data['timestamp_fixed'] <= date_max\n",
    "mmc.Filter(min_filter & max_filter)"
   ]
  },
  {
   "cell_type": "code",
   "execution_count": 6,
   "metadata": {},
   "outputs": [
    {
     "data": {
      "text/html": [
       "<script>requirejs.config({paths: { 'plotly': ['https://cdn.plot.ly/plotly-latest.min']},});if(!window.Plotly) {{require(['plotly'],function(plotly) {window.Plotly=plotly;});}}</script>"
      ],
      "text/vnd.plotly.v1+html": [
       "<script>requirejs.config({paths: { 'plotly': ['https://cdn.plot.ly/plotly-latest.min']},});if(!window.Plotly) {{require(['plotly'],function(plotly) {window.Plotly=plotly;});}}</script>"
      ]
     },
     "metadata": {},
     "output_type": "display_data"
    },
    {
     "name": "stderr",
     "output_type": "stream",
     "text": [
      "IOPub data rate exceeded.\n",
      "The notebook server will temporarily stop sending output\n",
      "to the client in order to avoid crashing it.\n",
      "To change this limit, set the config variable\n",
      "`--NotebookApp.iopub_data_rate_limit`.\n"
     ]
    }
   ],
   "source": [
    "fig = mmc.PlotMap(mapbox_access_token=mapbox_access_token)"
   ]
  },
  {
   "cell_type": "code",
   "execution_count": null,
   "metadata": {
    "collapsed": true
   },
   "outputs": [],
   "source": []
  }
 ],
 "metadata": {
  "kernelspec": {
   "display_name": "Python 3",
   "language": "python",
   "name": "python3"
  },
  "language_info": {
   "codemirror_mode": {
    "name": "ipython",
    "version": 3
   },
   "file_extension": ".py",
   "mimetype": "text/x-python",
   "name": "python",
   "nbconvert_exporter": "python",
   "pygments_lexer": "ipython3",
   "version": "3.6.3"
  }
 },
 "nbformat": 4,
 "nbformat_minor": 2
}
