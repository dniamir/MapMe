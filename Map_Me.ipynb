{
 "cells": [
  {
   "cell_type": "code",
   "execution_count": 1,
   "metadata": {
    "collapsed": true
   },
   "outputs": [],
   "source": [
    "#------------------------------------------------------------\n",
    "#\n",
    "# Tutorial for Map Plotting\n",
    "# Created by: Darien Niamir\n",
    "# Created on: 2/19/18\n",
    "#\n",
    "#------------------------------------------------------------"
   ]
  },
  {
   "cell_type": "code",
   "execution_count": null,
   "metadata": {},
   "outputs": [],
   "source": [
    "a = 3"
   ]
  },
  {
   "cell_type": "code",
   "execution_count": null,
   "metadata": {},
   "outputs": [
    {
     "data": {
      "text/html": [
       "<script>requirejs.config({paths: { 'plotly': ['https://cdn.plot.ly/plotly-latest.min']},});if(!window.Plotly) {{require(['plotly'],function(plotly) {window.Plotly=plotly;});}}</script>"
      ]
     },
     "metadata": {},
     "output_type": "execute_result"
    }
   ],
   "source": [
    "## Import IPython Packages\n",
    "\n",
    "%run './Functions/DarienFunctions.ipynb'\n",
    "plt.rcParams['figure.figsize'] = [12,8] # Changes Defalt matplotlib plot size\n",
    "plt.rcParams['figure.dpi'] = 800 # Changes Defalt matplotlib plot size\n",
    "\n",
    "from datetime import date;\n",
    "from datetime import time;\n",
    "import datetime\n",
    "import pandas as pd\n",
    "\n",
    "init_notebook_mode(connected=True);\n",
    "plotly.offline.init_notebook_mode();\n",
    "mapbox_access_token = 'pk.eyJ1IjoiZG5pYW1pciIsImEiOiJjamR3NmV0eWsxb2NpMzJtdTB5c3ExN2FrIn0.MfxVkZvXoA-zZobcRf_25w'"
   ]
  },
  {
   "cell_type": "code",
   "execution_count": 4,
   "metadata": {
    "collapsed": true
   },
   "outputs": [],
   "source": [
    "filename = 'places3.json'\n",
    "directory = 'Data'"
   ]
  },
  {
   "cell_type": "code",
   "execution_count": 34,
   "metadata": {},
   "outputs": [],
   "source": [
    "## Importing the Raw Data\n",
    "\n",
    "def ReadJson(directory, filename):\n",
    "    \"\"\" Read JSON file provided by Google Location Services into a Dataframe \n",
    "    \n",
    "    args: \n",
    "        directory: location of the json file\n",
    "        filename: name of the json file\n",
    "        \n",
    "    returns:\n",
    "        dataframe containing the json data\n",
    "    \"\"\"\n",
    "    path = os.path.join(directory, filename)\n",
    "    json_data = pd.read_json(path, orient='values')\n",
    "    dict_list = json_data['locations'].tolist()\n",
    "    json_data = pd.DataFrame.from_dict(dict_list)\n",
    "    json_data = df.filter(items=['latitudeE7', 'longitudeE7', 'timestampMs'])\n",
    "    return df\n",
    "\n",
    "df = ReadJson(directory, filename)\n"
   ]
  },
  {
   "cell_type": "code",
   "execution_count": 80,
   "metadata": {
    "scrolled": true
   },
   "outputs": [],
   "source": [
    "def DeriveTimeIntervals(df):\n",
    "\n",
    "    date_time = pd.to_datetime(df['timestampMs'], unit='ms')\n",
    "    df['year'] = date_time.dt.year\n",
    "    df['month'] = date_time.dt.month\n",
    "    df['day'] = date_time.dt.day\n",
    "    df['hour'] = date_time.dt.hour\n",
    "    df['min'] = date_time.dt.minute\n",
    "    df['sec'] = date_time.dt.second\n",
    "    \n",
    "    df['timestamp_fixed'] = date_time.dt.to_pydatetime()\n",
    "    df['timestamp_string'] = (df['month'].astype(str) + '/' +\n",
    "                              df['day'].astype(str) + '/' +\n",
    "                              df['year'].astype(str).astype(str) + ' ' +\n",
    "                              df['hour'].astype(str) + ':00')\n",
    "    \n",
    "    return df\n",
    "\n",
    "df = DeriveTimeIntervals(df)"
   ]
  },
  {
   "cell_type": "code",
   "execution_count": 48,
   "metadata": {
    "collapsed": true
   },
   "outputs": [],
   "source": [
    "def FixLatLong(df):\n",
    "    df['latitudeE7'] = df['latitudeE7'] / 10000000\n",
    "    df['longitudeE7'] = df['longitudeE7'] / 10000000\n",
    "    return df\n",
    "\n",
    "df = FixLatLong(df)"
   ]
  },
  {
   "cell_type": "code",
   "execution_count": 61,
   "metadata": {
    "collapsed": true
   },
   "outputs": [],
   "source": [
    "Step = 1e0\n",
    "\n",
    "Min_Year = 2018\n",
    "Min_Month = 9\n",
    "Min_Day = 1\n",
    "\n",
    "Max_Year = 2018\n",
    "Max_Month = 12\n",
    "Max_Day = 1\n",
    "\n",
    "Date_Min = datetime.datetime(Min_Year, Min_Month, Min_Day)\n",
    "Date_Max = datetime.datetime(Max_Year, Max_Month, Max_Day)"
   ]
  },
  {
   "cell_type": "code",
   "execution_count": 81,
   "metadata": {},
   "outputs": [],
   "source": [
    "index_filter = (df['timestamp_fixed'] >= Date_Min) & (df['timestamp_fixed'] <= Date_Max)\n",
    "df_filtered = df.loc[index_filter, :]\n",
    "\n",
    "data = Data([\n",
    "    Scattermapbox(\n",
    "        lat=df_filtered['latitudeE7'],\n",
    "        lon=df_filtered['longitudeE7'],\n",
    "        mode='markers',\n",
    "        marker=dict( \n",
    "            size=10, \n",
    "            color='rgb(255, 0, 0)',\n",
    "            opacity=0.3,\n",
    "        ),\n",
    "        text=df_filtered['timestamp_string'],\n",
    "    )\n",
    "])\n",
    "    "
   ]
  },
  {
   "cell_type": "code",
   "execution_count": 83,
   "metadata": {},
   "outputs": [
    {
     "data": {
      "text/plain": [
       "'file:///Users/Darien/Google Drive/Documents/Programming Projects/MapMe/temp-plot.html'"
      ]
     },
     "execution_count": 83,
     "metadata": {},
     "output_type": "execute_result"
    }
   ],
   "source": [
    "## Define Layout of Figure\n",
    "\n",
    "layout = Layout(\n",
    "    autosize=True,\n",
    "    height = 800,\n",
    "    width = 1200,\n",
    "    hovermode='closest',\n",
    "    mapbox=dict(\n",
    "        accesstoken=mapbox_access_token,\n",
    "        bearing=0,\n",
    "        center=dict(\n",
    "            lat=df['latitudeE7'].values[0],\n",
    "            lon=df['longitudeE7'].values[0],\n",
    "        ),\n",
    "        pitch=0,\n",
    "        zoom=10,\n",
    "        style='outdoors',\n",
    "    ),\n",
    ")\n",
    " \n",
    "# Plot Data\n",
    "fig = dict(data=data, layout=layout )\n",
    "plotly.offline.plot(fig)"
   ]
  },
  {
   "cell_type": "code",
   "execution_count": null,
   "metadata": {
    "collapsed": true
   },
   "outputs": [],
   "source": []
  }
 ],
 "metadata": {
  "kernelspec": {
   "display_name": "Python 3",
   "language": "python",
   "name": "python3"
  },
  "language_info": {
   "codemirror_mode": {
    "name": "ipython",
    "version": 3
   },
   "file_extension": ".py",
   "mimetype": "text/x-python",
   "name": "python",
   "nbconvert_exporter": "python",
   "pygments_lexer": "ipython3",
   "version": "3.6.3"
  }
 },
 "nbformat": 4,
 "nbformat_minor": 2
}
