{
 "cells": [
  {
   "cell_type": "code",
   "execution_count": 1,
   "metadata": {},
   "outputs": [],
   "source": [
    "#------------------------------------------------------------\n",
    "#\n",
    "# Tutorial for Map Plotting\n",
    "# Created by: Darien Niamir\n",
    "# Created on: 2/19/18\n",
    "#\n",
    "#------------------------------------------------------------"
   ]
  },
  {
   "cell_type": "code",
   "execution_count": 2,
   "metadata": {},
   "outputs": [],
   "source": [
    "from MapMe import MapMeClass\n",
    "import chart_studio.plotly as py\n",
    "import datetime\n",
    "mapbox_access_token = 'pk.eyJ1IjoiZG5pYW1pciIsImEiOiJjamR3NmV0eWsxb2NpMzJtdTB5c3ExN2FrIn0.MfxVkZvXoA-zZobcRf_25w'"
   ]
  },
  {
   "cell_type": "code",
   "execution_count": 3,
   "metadata": {},
   "outputs": [
    {
     "data": {
      "text/html": [
       "<div>\n",
       "<style scoped>\n",
       "    .dataframe tbody tr th:only-of-type {\n",
       "        vertical-align: middle;\n",
       "    }\n",
       "\n",
       "    .dataframe tbody tr th {\n",
       "        vertical-align: top;\n",
       "    }\n",
       "\n",
       "    .dataframe thead th {\n",
       "        text-align: right;\n",
       "    }\n",
       "</style>\n",
       "<table border=\"1\" class=\"dataframe\">\n",
       "  <thead>\n",
       "    <tr style=\"text-align: right;\">\n",
       "      <th></th>\n",
       "      <th>latitudeE7</th>\n",
       "      <th>longitudeE7</th>\n",
       "      <th>timestampMs</th>\n",
       "      <th>year</th>\n",
       "      <th>month</th>\n",
       "      <th>day</th>\n",
       "      <th>hour</th>\n",
       "      <th>min</th>\n",
       "      <th>sec</th>\n",
       "      <th>timestamp_fixed</th>\n",
       "      <th>timestamp_string</th>\n",
       "    </tr>\n",
       "  </thead>\n",
       "  <tbody>\n",
       "    <tr>\n",
       "      <th>0</th>\n",
       "      <td>40.785219</td>\n",
       "      <td>-111.978285</td>\n",
       "      <td>1484656154231</td>\n",
       "      <td>2017</td>\n",
       "      <td>1</td>\n",
       "      <td>17</td>\n",
       "      <td>12</td>\n",
       "      <td>29</td>\n",
       "      <td>14</td>\n",
       "      <td>2017-01-17 12:29:14.231</td>\n",
       "      <td>1/17/2017 12:29</td>\n",
       "    </tr>\n",
       "    <tr>\n",
       "      <th>1</th>\n",
       "      <td>40.785219</td>\n",
       "      <td>-111.978285</td>\n",
       "      <td>1484656203231</td>\n",
       "      <td>2017</td>\n",
       "      <td>1</td>\n",
       "      <td>17</td>\n",
       "      <td>12</td>\n",
       "      <td>30</td>\n",
       "      <td>3</td>\n",
       "      <td>2017-01-17 12:30:03.231</td>\n",
       "      <td>1/17/2017 12:30</td>\n",
       "    </tr>\n",
       "    <tr>\n",
       "      <th>2</th>\n",
       "      <td>40.785219</td>\n",
       "      <td>-111.978285</td>\n",
       "      <td>1484656232744</td>\n",
       "      <td>2017</td>\n",
       "      <td>1</td>\n",
       "      <td>17</td>\n",
       "      <td>12</td>\n",
       "      <td>30</td>\n",
       "      <td>32</td>\n",
       "      <td>2017-01-17 12:30:32.744</td>\n",
       "      <td>1/17/2017 12:30</td>\n",
       "    </tr>\n",
       "    <tr>\n",
       "      <th>3</th>\n",
       "      <td>40.785219</td>\n",
       "      <td>-111.978285</td>\n",
       "      <td>1484656352864</td>\n",
       "      <td>2017</td>\n",
       "      <td>1</td>\n",
       "      <td>17</td>\n",
       "      <td>12</td>\n",
       "      <td>32</td>\n",
       "      <td>32</td>\n",
       "      <td>2017-01-17 12:32:32.864</td>\n",
       "      <td>1/17/2017 12:32</td>\n",
       "    </tr>\n",
       "    <tr>\n",
       "      <th>4</th>\n",
       "      <td>40.785219</td>\n",
       "      <td>-111.978285</td>\n",
       "      <td>1484656372780</td>\n",
       "      <td>2017</td>\n",
       "      <td>1</td>\n",
       "      <td>17</td>\n",
       "      <td>12</td>\n",
       "      <td>32</td>\n",
       "      <td>52</td>\n",
       "      <td>2017-01-17 12:32:52.780</td>\n",
       "      <td>1/17/2017 12:32</td>\n",
       "    </tr>\n",
       "  </tbody>\n",
       "</table>\n",
       "</div>"
      ],
      "text/plain": [
       "   latitudeE7  longitudeE7    timestampMs  year  month  day  hour  min  sec  \\\n",
       "0   40.785219  -111.978285  1484656154231  2017      1   17    12   29   14   \n",
       "1   40.785219  -111.978285  1484656203231  2017      1   17    12   30    3   \n",
       "2   40.785219  -111.978285  1484656232744  2017      1   17    12   30   32   \n",
       "3   40.785219  -111.978285  1484656352864  2017      1   17    12   32   32   \n",
       "4   40.785219  -111.978285  1484656372780  2017      1   17    12   32   52   \n",
       "\n",
       "          timestamp_fixed timestamp_string  \n",
       "0 2017-01-17 12:29:14.231  1/17/2017 12:29  \n",
       "1 2017-01-17 12:30:03.231  1/17/2017 12:30  \n",
       "2 2017-01-17 12:30:32.744  1/17/2017 12:30  \n",
       "3 2017-01-17 12:32:32.864  1/17/2017 12:32  \n",
       "4 2017-01-17 12:32:52.780  1/17/2017 12:32  "
      ]
     },
     "execution_count": 3,
     "metadata": {},
     "output_type": "execute_result"
    }
   ],
   "source": [
    "mmc = MapMeClass(filepath='./Data/places4.json')\n",
    "mmc.data.head()"
   ]
  },
  {
   "cell_type": "code",
   "execution_count": 4,
   "metadata": {},
   "outputs": [],
   "source": [
    "# Remove all Home Data\n",
    "check1 = mmc.data['longitudeE7'] > -122.2438482\n",
    "check2 = mmc.data['latitudeE7'] > 37.4871195\n",
    "check3 = mmc.data['longitudeE7'] < -122.2363169\n",
    "check4 = mmc.data['latitudeE7'] < 37.4920312"
   ]
  },
  {
   "cell_type": "code",
   "execution_count": 5,
   "metadata": {},
   "outputs": [],
   "source": [
    "step = 1e0\n",
    "\n",
    "min_year = 2019\n",
    "min_month = 8\n",
    "min_day = 30\n",
    "\n",
    "max_year = 2019\n",
    "max_month = 9\n",
    "max_day = 2\n",
    "\n",
    "date_min = datetime.datetime(min_year, min_month, min_day)\n",
    "date_max = datetime.datetime(max_year, max_month, max_day)"
   ]
  },
  {
   "cell_type": "code",
   "execution_count": 6,
   "metadata": {},
   "outputs": [],
   "source": [
    "mmc.ClearFilter()\n",
    "min_filter = mmc.data['timestamp_fixed'] >= date_min\n",
    "max_filter = mmc.data['timestamp_fixed'] <= date_max\n",
    "mmc.Filter(min_filter & max_filter & ~(check1 & check2 & check3 & check4))"
   ]
  },
  {
   "cell_type": "code",
   "execution_count": 7,
   "metadata": {},
   "outputs": [],
   "source": [
    "fig = mmc.PlotMap(mapbox_access_token=mapbox_access_token, renderer='chrome', filename='test1.html')"
   ]
  },
  {
   "cell_type": "code",
   "execution_count": 12,
   "metadata": {},
   "outputs": [
    {
     "data": {
      "text/html": [
       "\n",
       "        <iframe\n",
       "            width=\"1200px\"\n",
       "            height=\"800px\"\n",
       "            src=\"https://plot.ly/~dniamir/365.embed\"\n",
       "            frameborder=\"0\"\n",
       "            allowfullscreen\n",
       "        ></iframe>\n",
       "        "
      ],
      "text/plain": [
       "<IPython.lib.display.IFrame at 0x1d790ed30>"
      ]
     },
     "execution_count": 12,
     "metadata": {},
     "output_type": "execute_result"
    }
   ],
   "source": [
    "# Connection to char_studio and upload\n",
    "py.iplot(mmc.fig, filename='Camp', renderer='chrome')"
   ]
  }
 ],
 "metadata": {
  "kernelspec": {
   "display_name": "Python 3",
   "language": "python",
   "name": "python3"
  },
  "language_info": {
   "codemirror_mode": {
    "name": "ipython",
    "version": 3
   },
   "file_extension": ".py",
   "mimetype": "text/x-python",
   "name": "python",
   "nbconvert_exporter": "python",
   "pygments_lexer": "ipython3",
   "version": "3.7.3"
  }
 },
 "nbformat": 4,
 "nbformat_minor": 4
}
