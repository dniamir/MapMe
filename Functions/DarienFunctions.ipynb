{
 "cells": [
  {
   "cell_type": "code",
   "execution_count": 6,
   "metadata": {
    "collapsed": true
   },
   "outputs": [],
   "source": [
    "#------------------------------------------------------------\n",
    "#\n",
    "# Darien's Tutorial on new Functions and Dataframes\n",
    "# Created by: Darien Niamir\n",
    "# Created on: 2/18/18\n",
    "#\n",
    "#------------------------------------------------------------"
   ]
  },
  {
   "cell_type": "code",
   "execution_count": null,
   "metadata": {
    "collapsed": true
   },
   "outputs": [],
   "source": [
    "## Import Standard Packages\n",
    "\n",
    "import pandas as pd\n",
    "\n",
    "import numpy as np\n",
    "import matplotlib.pyplot as plt\n",
    "\n",
    "import plotly\n",
    "import plotly.plotly as py\n",
    "import plotly.graph_objs as go\n",
    "from plotly.graph_objs import *\n",
    "import plotly.tools as tls\n",
    "from plotly.offline import download_plotlyjs, init_notebook_mode, plot, iplot\n",
    "plotly.tools.set_credentials_file(username='dniamir', api_key='fFtuut9mpQe6UAjqeMvH')\n",
    "# plotly.tools.set_credentials_file(username='DemoAccount', api_key='lr1c37zw81')\n",
    "\n",
    "import os\n",
    "import csv\n",
    "import math\n",
    "import copy"
   ]
  },
  {
   "cell_type": "code",
   "execution_count": 9,
   "metadata": {
    "collapsed": true
   },
   "outputs": [],
   "source": [
    "def DF_Shift(DF, DType1, Index=0):\n",
    "    NewDF = DF.copy(deep=False)\n",
    "    DF1 = NewDF[DType1]\n",
    "    NewDF[DType1 + '_Shift'] = DF1 - DF1[Index]\n",
    "    return NewDF"
   ]
  },
  {
   "cell_type": "code",
   "execution_count": null,
   "metadata": {
    "collapsed": true
   },
   "outputs": [],
   "source": [
    "def Float_Check(item):\n",
    "    try:\n",
    "        return float(item)\n",
    "    except ValueError:\n",
    "        return item"
   ]
  },
  {
   "cell_type": "code",
   "execution_count": null,
   "metadata": {
    "collapsed": true
   },
   "outputs": [],
   "source": [
    "def Colours(This_Colour, Number_Of_Colours):\n",
    "    \n",
    "    ## Case for only 2 colours\n",
    "    if(Number_Of_Colours == 2):\n",
    "        Number_Of_Colours = 3\n",
    "        if(This_Colour == 2):\n",
    "            This_Colour = 3\n",
    "    \n",
    "    Interval2 = float(Number_Of_Colours)/float(6)\n",
    "    Slope = float(1) / Interval2\n",
    "    \n",
    "    if(This_Colour == 0):\n",
    "        R = 0\n",
    "        G = 0\n",
    "        B = 0\n",
    "    elif(This_Colour <= 1*Interval2 + 1):\n",
    "        R = 1\n",
    "        G = Slope*(This_Colour - (0*Interval2 + 1))\n",
    "        B = 0\n",
    "        \n",
    "    elif(This_Colour <= 2*Interval2 + 1):\n",
    "        R = 1 - Slope*(This_Colour - (1*Interval2 + 1))\n",
    "        G = 1\n",
    "        B = 0\n",
    "        \n",
    "    elif(This_Colour <= 3*Interval2 + 1):\n",
    "        R = 0\n",
    "        G = 1\n",
    "        B = Slope*(This_Colour - (2*Interval2 + 1))\n",
    "        \n",
    "    elif(This_Colour <= 4*Interval2 + 1):\n",
    "        R = 0\n",
    "        G = 1 - Slope*(This_Colour - (3*Interval2 + 1))\n",
    "        B = 1\n",
    "        \n",
    "    elif(This_Colour <= 5*Interval2 + 1):\n",
    "        R = Slope*(This_Colour - (4*Interval2 + 1))\n",
    "        G = 0\n",
    "        B = 1\n",
    "        \n",
    "    elif(This_Colour <= 6*Interval2 + 1):\n",
    "        R = 1\n",
    "        G = 0\n",
    "        B = 1 - Slope*(This_Colour - (5*Interval2 + 1))\n",
    "\n",
    "    if(R < 0):\n",
    "        R = 0\n",
    "    elif(R > 1):\n",
    "        R = 1\n",
    "    \n",
    "    if(G < 0):\n",
    "        G = 0\n",
    "    elif(G > 1):\n",
    "        G = 1\n",
    "        \n",
    "    if(B < 0):\n",
    "        B = 0\n",
    "    elif(B > 1):\n",
    "        B = 1\n",
    "    \n",
    "    return [R*255, G*255, B*255]\n"
   ]
  }
 ],
 "metadata": {
  "kernelspec": {
   "display_name": "Python 3",
   "language": "python",
   "name": "python3"
  },
  "language_info": {
   "codemirror_mode": {
    "name": "ipython",
    "version": 3
   },
   "file_extension": ".py",
   "mimetype": "text/x-python",
   "name": "python",
   "nbconvert_exporter": "python",
   "pygments_lexer": "ipython3",
   "version": "3.6.3"
  }
 },
 "nbformat": 4,
 "nbformat_minor": 2
}
