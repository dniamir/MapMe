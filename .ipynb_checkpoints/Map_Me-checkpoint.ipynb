{
 "cells": [
  {
   "cell_type": "code",
   "execution_count": 1,
   "metadata": {
    "collapsed": true
   },
   "outputs": [],
   "source": [
    "#------------------------------------------------------------\n",
    "#\n",
    "# Tutorial for Map Plotting\n",
    "# Created by: Darien Niamir\n",
    "# Created on: 2/19/18\n",
    "#\n",
    "#------------------------------------------------------------"
   ]
  },
  {
   "cell_type": "code",
   "execution_count": 1,
   "metadata": {},
   "outputs": [
    {
     "name": "stderr",
     "output_type": "stream",
     "text": [
      "ERROR:root:File `'./Functions/Test/DarienFunctions.ipynb.py'` not found.\n"
     ]
    },
    {
     "ename": "NameError",
     "evalue": "name 'plt' is not defined",
     "output_type": "error",
     "traceback": [
      "\u001b[0;31m---------------------------------------------------------------------------\u001b[0m",
      "\u001b[0;31mNameError\u001b[0m                                 Traceback (most recent call last)",
      "\u001b[0;32m<ipython-input-1-85745c82272d>\u001b[0m in \u001b[0;36m<module>\u001b[0;34m()\u001b[0m\n\u001b[1;32m      2\u001b[0m \u001b[0;34m\u001b[0m\u001b[0m\n\u001b[1;32m      3\u001b[0m \u001b[0mget_ipython\u001b[0m\u001b[0;34m(\u001b[0m\u001b[0;34m)\u001b[0m\u001b[0;34m.\u001b[0m\u001b[0mmagic\u001b[0m\u001b[0;34m(\u001b[0m\u001b[0;34m\"run './Functions/Test/DarienFunctions.ipynb'\"\u001b[0m\u001b[0;34m)\u001b[0m\u001b[0;34m\u001b[0m\u001b[0m\n\u001b[0;32m----> 4\u001b[0;31m \u001b[0mplt\u001b[0m\u001b[0;34m.\u001b[0m\u001b[0mrcParams\u001b[0m\u001b[0;34m[\u001b[0m\u001b[0;34m'figure.figsize'\u001b[0m\u001b[0;34m]\u001b[0m \u001b[0;34m=\u001b[0m \u001b[0;34m[\u001b[0m\u001b[0;36m12\u001b[0m\u001b[0;34m,\u001b[0m\u001b[0;36m8\u001b[0m\u001b[0;34m]\u001b[0m \u001b[0;31m# Changes Defalt matplotlib plot size\u001b[0m\u001b[0;34m\u001b[0m\u001b[0m\n\u001b[0m\u001b[1;32m      5\u001b[0m \u001b[0mplt\u001b[0m\u001b[0;34m.\u001b[0m\u001b[0mrcParams\u001b[0m\u001b[0;34m[\u001b[0m\u001b[0;34m'figure.dpi'\u001b[0m\u001b[0;34m]\u001b[0m \u001b[0;34m=\u001b[0m \u001b[0;36m800\u001b[0m \u001b[0;31m# Changes Defalt matplotlib plot size\u001b[0m\u001b[0;34m\u001b[0m\u001b[0m\n\u001b[1;32m      6\u001b[0m \u001b[0minit_notebook_mode\u001b[0m\u001b[0;34m(\u001b[0m\u001b[0mconnected\u001b[0m\u001b[0;34m=\u001b[0m\u001b[0;32mTrue\u001b[0m\u001b[0;34m)\u001b[0m\u001b[0;34m;\u001b[0m\u001b[0;34m\u001b[0m\u001b[0m\n",
      "\u001b[0;31mNameError\u001b[0m: name 'plt' is not defined"
     ]
    }
   ],
   "source": [
    "## Import IPython Packages\n",
    "\n",
    "%run './Functions/Test/DarienFunctions.ipynb'\n",
    "plt.rcParams['figure.figsize'] = [12,8] # Changes Defalt matplotlib plot size\n",
    "plt.rcParams['figure.dpi'] = 800 # Changes Defalt matplotlib plot size\n",
    "init_notebook_mode(connected=True);\n",
    "plotly.offline.init_notebook_mode();\n",
    "import json;\n",
    "from datetime import date;\n",
    "from datetime import time;\n",
    "import datetime\n",
    "\n",
    "mapbox_access_token = 'pk.eyJ1IjoiZG5pYW1pciIsImEiOiJjamR3NmV0eWsxb2NpMzJtdTB5c3ExN2FrIn0.MfxVkZvXoA-zZobcRf_25w'"
   ]
  },
  {
   "cell_type": "code",
   "execution_count": null,
   "metadata": {
    "collapsed": true
   },
   "outputs": [],
   "source": [
    "Filename = 'places2.json'\n",
    "Directory = 'Data'"
   ]
  },
  {
   "cell_type": "code",
   "execution_count": 9,
   "metadata": {
    "collapsed": true
   },
   "outputs": [],
   "source": [
    "## Importing the Raw Data\n",
    "\n",
    "Path = os.path.join(Directory, Filename)\n",
    "\n",
    "with open(Path) as json_data:\n",
    "    d = json.load(json_data)"
   ]
  },
  {
   "cell_type": "code",
   "execution_count": 10,
   "metadata": {
    "collapsed": true
   },
   "outputs": [],
   "source": [
    "## Making a List and Checking it Twice\n",
    "\n",
    "Locations = d['locations']\n",
    "List = list()\n",
    "\n",
    "for Index, Values in enumerate(Locations):\n",
    "    \n",
    "    TimeStamp = int(Values['timestampMs']) // 1000\n",
    "    TimeStamp_Fixed = datetime.datetime.fromtimestamp(TimeStamp)\n",
    "    \n",
    "    Year = TimeStamp_Fixed.year\n",
    "    Month = TimeStamp_Fixed.month\n",
    "    Day = TimeStamp_Fixed.day\n",
    "    Hour = TimeStamp_Fixed.hour\n",
    "    Minute = TimeStamp_Fixed.minute\n",
    "    Second = TimeStamp_Fixed.second\n",
    "    TimeStamp_String = str(Month) + '/' + str(Day) + '/' + str(Year) + ' ' + str(Hour) + ':00'\n",
    "    \n",
    "    Lat = Values['latitudeE7'] / 10000000\n",
    "    Long = Values['longitudeE7'] / 10000000\n",
    "    Location = str(Index)\n",
    "    \n",
    "    List.append([Location, TimeStamp_Fixed, TimeStamp_String, Year, Month, Day, Hour, Minute, Second, Lat, Long])\n",
    "    "
   ]
  },
  {
   "cell_type": "code",
   "execution_count": 11,
   "metadata": {
    "collapsed": true
   },
   "outputs": [],
   "source": [
    "## Defining the Dataframe\n",
    "\n",
    "Header = ['Location', 'DateTime', 'TimeStamp_String', 'Year', 'Month', 'Day', 'Hour', 'Min', 'Sec', 'Lat', 'Long']\n",
    "DF = pd.DataFrame.from_records(List, columns=Header)"
   ]
  },
  {
   "cell_type": "code",
   "execution_count": 15,
   "metadata": {
    "collapsed": true
   },
   "outputs": [],
   "source": [
    "Step = 1e0\n",
    "\n",
    "Min_Year = 2017\n",
    "Min_Month = 11\n",
    "Min_Day = 1\n",
    "\n",
    "Max_Year = 2018\n",
    "Max_Month = 4\n",
    "Max_Day = 1\n",
    "\n",
    "Date_Min = datetime.datetime(Min_Year, Min_Month, Min_Day)\n",
    "Date_Max = datetime.datetime(Max_Year, Max_Month, Max_Day)"
   ]
  },
  {
   "cell_type": "code",
   "execution_count": 16,
   "metadata": {
    "collapsed": true
   },
   "outputs": [],
   "source": [
    "Index = [(DF.DateTime>=Date_Min) & (DF.DateTime<=Date_Max)]\n",
    "\n",
    "data = Data([\n",
    "    Scattermapbox(\n",
    "        lat=DF['Lat'][Index[0]],\n",
    "        lon=DF['Long'][Index[0]],\n",
    "        mode='markers',\n",
    "        marker=dict( \n",
    "            size=10, \n",
    "            color='rgb(255, 0, 0)',\n",
    "            opacity=0.3,\n",
    "#             line = dict(\n",
    "#                 width=1,\n",
    "#                 color='black'\n",
    "#             )\n",
    "        ),\n",
    "        text=DF['TimeStamp_String'][Index[0]],\n",
    "    )\n",
    "])\n",
    "    "
   ]
  },
  {
   "cell_type": "code",
   "execution_count": 17,
   "metadata": {},
   "outputs": [
    {
     "data": {
      "text/plain": [
       "'file:///Users/Darien/Python/Map/temp-plot.html'"
      ]
     },
     "execution_count": 17,
     "metadata": {},
     "output_type": "execute_result"
    }
   ],
   "source": [
    "## Define Layout of Figure\n",
    "\n",
    "layout = Layout(\n",
    "    autosize=True,\n",
    "    height = 800,\n",
    "    width = 1200,\n",
    "    hovermode='closest',\n",
    "    mapbox=dict(\n",
    "        accesstoken=mapbox_access_token,\n",
    "        bearing=0,\n",
    "        center=dict(\n",
    "            lat=DF['Lat'][Index[0]].values[0],\n",
    "            lon=DF['Long'][Index[0]].values[0],\n",
    "        ),\n",
    "        pitch=0,\n",
    "        zoom=10,\n",
    "        style='outdoors',\n",
    "    ),\n",
    ")\n",
    " \n",
    "# Plot Data\n",
    "fig = dict(data=data, layout=layout )\n",
    "plotly.offline.plot(fig)"
   ]
  },
  {
   "cell_type": "code",
   "execution_count": null,
   "metadata": {
    "collapsed": true
   },
   "outputs": [],
   "source": []
  }
 ],
 "metadata": {
  "kernelspec": {
   "display_name": "Python 3",
   "language": "python",
   "name": "python3"
  },
  "language_info": {
   "codemirror_mode": {
    "name": "ipython",
    "version": 3
   },
   "file_extension": ".py",
   "mimetype": "text/x-python",
   "name": "python",
   "nbconvert_exporter": "python",
   "pygments_lexer": "ipython3",
   "version": "3.6.3"
  }
 },
 "nbformat": 4,
 "nbformat_minor": 2
}
